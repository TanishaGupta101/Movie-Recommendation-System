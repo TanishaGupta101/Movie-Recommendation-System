{
 "cells": [
  {
   "cell_type": "code",
   "execution_count": 31,
   "metadata": {},
   "outputs": [],
   "source": [
    "# Supress Warnings\n",
    "\n",
    "import warnings\n",
    "warnings.filterwarnings('ignore')"
   ]
  },
  {
   "cell_type": "code",
   "execution_count": 32,
   "metadata": {},
   "outputs": [],
   "source": [
    "#importing the basic libraries\n",
    "\n",
    "# for mathematical stuff\n",
    "import numpy as np\n",
    "import pandas as pd\n",
    "\n",
    "# for data visualization\n",
    "import matplotlib.pyplot as plt\n",
    "import seaborn as sns\n",
    "\n",
    "#for jupyter notebook widgets\n",
    "import ipywidgets as widgets\n",
    "from ipywidgets import interact\n",
    "from ipywidgets import interact_manual\n",
    "\n",
    "\n",
    "#for setting up the chart size and background\n",
    "plt.rcParams['figure.figsize']=(14,7)\n",
    "plt.style.use('fivethirtyeight')\n",
    "\n",
    "# for Interactive Shells\n",
    "from IPython.display import display\n"
   ]
  },
  {
   "cell_type": "code",
   "execution_count": 33,
   "metadata": {},
   "outputs": [],
   "source": [
    "#reading the dataset\n",
    "data=pd.read_csv('movie_metadata (1).csv')\n"
   ]
  },
  {
   "cell_type": "code",
   "execution_count": 34,
   "metadata": {},
   "outputs": [
    {
     "data": {
      "text/plain": [
       "(5043, 28)"
      ]
     },
     "execution_count": 34,
     "metadata": {},
     "output_type": "execute_result"
    }
   ],
   "source": [
    "#to display the shape of the dataset\n",
    "data.shape"
   ]
  },
  {
   "cell_type": "code",
   "execution_count": 35,
   "metadata": {},
   "outputs": [
    {
     "data": {
      "text/plain": [
       "Index(['color', 'director_name', 'num_critic_for_reviews', 'duration',\n",
       "       'director_facebook_likes', 'actor_3_facebook_likes', 'actor_2_name',\n",
       "       'actor_1_facebook_likes', 'gross', 'genres', 'actor_1_name',\n",
       "       'movie_title', 'num_voted_users', 'cast_total_facebook_likes',\n",
       "       'actor_3_name', 'facenumber_in_poster', 'plot_keywords',\n",
       "       'movie_imdb_link', 'num_user_for_reviews', 'language', 'country',\n",
       "       'content_rating', 'budget', 'title_year', 'actor_2_facebook_likes',\n",
       "       'imdb_score', 'aspect_ratio', 'movie_facebook_likes'],\n",
       "      dtype='object')"
      ]
     },
     "execution_count": 35,
     "metadata": {},
     "output_type": "execute_result"
    }
   ],
   "source": [
    "#to display all colms in the dataset\n",
    "data.columns"
   ]
  },
  {
   "cell_type": "code",
   "execution_count": 36,
   "metadata": {},
   "outputs": [
    {
     "data": {
      "text/plain": [
       "Index(['color', 'director_name', 'num_critic_for_reviews', 'duration',\n",
       "       'actor_2_name', 'gross', 'genres', 'actor_1_name', 'movie_title',\n",
       "       'actor_3_name', 'num_user_for_reviews', 'language', 'country', 'budget',\n",
       "       'title_year', 'imdb_score', 'movie_facebook_likes'],\n",
       "      dtype='object')"
      ]
     },
     "execution_count": 36,
     "metadata": {},
     "output_type": "execute_result"
    }
   ],
   "source": [
    "#we'll now be removing the unnecessary colms. from the dataset\n",
    "data=data.drop(['director_facebook_likes', \n",
    "                'actor_3_facebook_likes',\n",
    "                'actor_1_facebook_likes',\n",
    "                'num_voted_users', \n",
    "                'cast_total_facebook_likes',\n",
    "                'facenumber_in_poster',\n",
    "                'movie_imdb_link',\n",
    "                'actor_2_facebook_likes',\n",
    "                'aspect_ratio',\n",
    "                'content_rating',\n",
    "                'plot_keywords'\n",
    "                ],\n",
    "                 axis=1)\n",
    "data.columns"
   ]
  },
  {
   "cell_type": "code",
   "execution_count": 37,
   "metadata": {},
   "outputs": [
    {
     "data": {
      "text/plain": [
       "color                      19\n",
       "director_name             104\n",
       "num_critic_for_reviews     50\n",
       "duration                   15\n",
       "actor_2_name               13\n",
       "gross                     884\n",
       "genres                      0\n",
       "actor_1_name                7\n",
       "movie_title                 0\n",
       "actor_3_name               23\n",
       "num_user_for_reviews       21\n",
       "language                   12\n",
       "country                     5\n",
       "budget                    492\n",
       "title_year                108\n",
       "imdb_score                  0\n",
       "movie_facebook_likes        0\n",
       "dtype: int64"
      ]
     },
     "execution_count": 37,
     "metadata": {},
     "output_type": "execute_result"
    }
   ],
   "source": [
    "#checking for the missing values colm-wise\n",
    "data.isnull().sum()"
   ]
  },
  {
   "cell_type": "code",
   "execution_count": 38,
   "metadata": {},
   "outputs": [
    {
     "data": {
      "text/plain": [
       "color                      2\n",
       "director_name              0\n",
       "num_critic_for_reviews     1\n",
       "duration                   1\n",
       "actor_2_name               5\n",
       "gross                      0\n",
       "genres                     0\n",
       "actor_1_name               3\n",
       "movie_title                0\n",
       "actor_3_name              10\n",
       "num_user_for_reviews       0\n",
       "language                   3\n",
       "country                    0\n",
       "budget                     0\n",
       "title_year                 0\n",
       "imdb_score                 0\n",
       "movie_facebook_likes       0\n",
       "dtype: int64"
      ]
     },
     "execution_count": 38,
     "metadata": {},
     "output_type": "execute_result"
    }
   ],
   "source": [
    "# Since 'gross' and 'budget' columns have large number of NaN values, drop all the rows with NaNs at this column using the\n",
    "# 'isnan' function of NumPy alongwith a negation '~'\n",
    "data=data[~np.isnan(data['gross'])]\n",
    "data=data[~np.isnan(data['budget'])]\n",
    "\n",
    "data.isnull().sum()"
   ]
  },
  {
   "cell_type": "code",
   "execution_count": 39,
   "metadata": {},
   "outputs": [
    {
     "data": {
      "text/plain": [
       "color                     2\n",
       "director_name             0\n",
       "num_critic_for_reviews    1\n",
       "duration                  1\n",
       "actor_2_name              2\n",
       "gross                     0\n",
       "genres                    0\n",
       "actor_1_name              0\n",
       "movie_title               0\n",
       "actor_3_name              7\n",
       "num_user_for_reviews      0\n",
       "language                  3\n",
       "country                   0\n",
       "budget                    0\n",
       "title_year                0\n",
       "imdb_score                0\n",
       "movie_facebook_likes      0\n",
       "dtype: int64"
      ]
     },
     "execution_count": 39,
     "metadata": {},
     "output_type": "execute_result"
    }
   ],
   "source": [
    "# The rows for which the sum of Null is less than two are retained\n",
    "data=data[data.isnull().sum(axis=1)<=2]  #at this step, data is storing values that have missing attributes<=2\n",
    "data.isnull().sum()"
   ]
  },
  {
   "cell_type": "code",
   "execution_count": 40,
   "metadata": {},
   "outputs": [
    {
     "data": {
      "text/plain": [
       "0"
      ]
     },
     "execution_count": 40,
     "metadata": {},
     "output_type": "execute_result"
    }
   ],
   "source": [
    "#imputing missing values\n",
    "#1. for numerical values, we will take the mean\n",
    "\n",
    "data['num_critic_for_reviews'].fillna(data['num_critic_for_reviews'].mean(), inplace = True)\n",
    "data['duration'].fillna(data['duration'].mean(), inplace = True)\n",
    "\n",
    "#2. for categorical data, we'll consider the mode\n",
    "data['color'].fillna(data['color'].mode()[0], inplace = True)\n",
    "\n",
    "data['language'].fillna(data['language'].mode()[0], inplace = True)\n",
    "\n",
    "#3. incase actors name is missing, we'll simply replace those missing values with 'Unknown Actor'\n",
    "\n",
    "data['actor_2_name'].fillna('Unknown Actor', inplace = True)\n",
    "data['actor_3_name'].fillna('Unknown Actor', inplace = True)\n",
    "\n",
    "# as we imputed all the missing values lets check the no. of total missing values in the dataset\n",
    "data.isnull().sum().sum()\n",
    "\n",
    "\n",
    "\n"
   ]
  },
  {
   "cell_type": "code",
   "execution_count": 41,
   "metadata": {},
   "outputs": [],
   "source": [
    "#now we will be performing Feature Engineering\n",
    "#Feature engineering is the process of transforming raw data into features that better represent the underlying problem to \n",
    "#the predictive models, resulting in improved model accuracy on unseen data\n",
    "\n",
    "#now we will convert the gross and budget from $ to million$\n",
    "data['gross']=data['gross']/1000000\n",
    "data['budget']=data['budget']/1000000"
   ]
  },
  {
   "cell_type": "code",
   "execution_count": 42,
   "metadata": {},
   "outputs": [
    {
     "data": {
      "text/html": [
       "<div>\n",
       "<style scoped>\n",
       "    .dataframe tbody tr th:only-of-type {\n",
       "        vertical-align: middle;\n",
       "    }\n",
       "\n",
       "    .dataframe tbody tr th {\n",
       "        vertical-align: top;\n",
       "    }\n",
       "\n",
       "    .dataframe thead th {\n",
       "        text-align: right;\n",
       "    }\n",
       "</style>\n",
       "<table border=\"1\" class=\"dataframe\">\n",
       "  <thead>\n",
       "    <tr style=\"text-align: right;\">\n",
       "      <th></th>\n",
       "      <th>movie_title</th>\n",
       "      <th>profit</th>\n",
       "    </tr>\n",
       "  </thead>\n",
       "  <tbody>\n",
       "    <tr>\n",
       "      <th>0</th>\n",
       "      <td>Avatar</td>\n",
       "      <td>523.505847</td>\n",
       "    </tr>\n",
       "    <tr>\n",
       "      <th>29</th>\n",
       "      <td>Jurassic World</td>\n",
       "      <td>502.177271</td>\n",
       "    </tr>\n",
       "    <tr>\n",
       "      <th>26</th>\n",
       "      <td>Titanic</td>\n",
       "      <td>458.672302</td>\n",
       "    </tr>\n",
       "    <tr>\n",
       "      <th>3024</th>\n",
       "      <td>Star Wars: Episode IV - A New Hope</td>\n",
       "      <td>449.935665</td>\n",
       "    </tr>\n",
       "    <tr>\n",
       "      <th>3080</th>\n",
       "      <td>E.T. the Extra-Terrestrial</td>\n",
       "      <td>424.449459</td>\n",
       "    </tr>\n",
       "    <tr>\n",
       "      <th>794</th>\n",
       "      <td>The Avengers</td>\n",
       "      <td>403.279547</td>\n",
       "    </tr>\n",
       "    <tr>\n",
       "      <th>17</th>\n",
       "      <td>The Avengers</td>\n",
       "      <td>403.279547</td>\n",
       "    </tr>\n",
       "    <tr>\n",
       "      <th>509</th>\n",
       "      <td>The Lion King</td>\n",
       "      <td>377.783777</td>\n",
       "    </tr>\n",
       "    <tr>\n",
       "      <th>240</th>\n",
       "      <td>Star Wars: Episode I - The Phantom Menace</td>\n",
       "      <td>359.544677</td>\n",
       "    </tr>\n",
       "    <tr>\n",
       "      <th>66</th>\n",
       "      <td>The Dark Knight</td>\n",
       "      <td>348.316061</td>\n",
       "    </tr>\n",
       "  </tbody>\n",
       "</table>\n",
       "</div>"
      ],
      "text/plain": [
       "                                     movie_title      profit\n",
       "0                                        Avatar   523.505847\n",
       "29                               Jurassic World   502.177271\n",
       "26                                      Titanic   458.672302\n",
       "3024         Star Wars: Episode IV - A New Hope   449.935665\n",
       "3080                 E.T. the Extra-Terrestrial   424.449459\n",
       "794                                The Avengers   403.279547\n",
       "17                                 The Avengers   403.279547\n",
       "509                               The Lion King   377.783777\n",
       "240   Star Wars: Episode I - The Phantom Menace   359.544677\n",
       "66                              The Dark Knight   348.316061"
      ]
     },
     "execution_count": 42,
     "metadata": {},
     "output_type": "execute_result"
    }
   ],
   "source": [
    "#now we'll create a Profit section where Profit = amount earned - amount invested\n",
    "data['profit'] = data['gross'] - data['budget']\n",
    "\n",
    "#now if we want to display the names of 10 highest Profit-earning movies\n",
    "data[['movie_title','profit']].sort_values(by = 'profit', ascending  = False).head(10)"
   ]
  },
  {
   "cell_type": "code",
   "execution_count": 43,
   "metadata": {},
   "outputs": [
    {
     "name": "stdout",
     "output_type": "stream",
     "text": [
      "No. of rows before removing duplicate values 3888\n",
      "No. of rows after removing duplicate values 3789\n"
     ]
    }
   ],
   "source": [
    "#now looking at the prev section, thr are some duplicate values also, so we have to first filter them out.\n",
    "#no. of rows before removing duplicates\n",
    "print(\"No. of rows before removing duplicate values\", data.shape[0])\n",
    "\n",
    "#now removing all the duplicate values\n",
    "data.drop_duplicates(subset=None, keep='first', inplace=True)\n",
    "\n",
    "#printing no. of rows aft removing all duplicates\n",
    "print(\"No. of rows after removing duplicate values\", data.shape[0])"
   ]
  },
  {
   "cell_type": "code",
   "execution_count": 44,
   "metadata": {},
   "outputs": [
    {
     "data": {
      "text/html": [
       "<div>\n",
       "<style scoped>\n",
       "    .dataframe tbody tr th:only-of-type {\n",
       "        vertical-align: middle;\n",
       "    }\n",
       "\n",
       "    .dataframe tbody tr th {\n",
       "        vertical-align: top;\n",
       "    }\n",
       "\n",
       "    .dataframe thead th {\n",
       "        text-align: right;\n",
       "    }\n",
       "</style>\n",
       "<table border=\"1\" class=\"dataframe\">\n",
       "  <thead>\n",
       "    <tr style=\"text-align: right;\">\n",
       "      <th></th>\n",
       "      <th>movie_title</th>\n",
       "      <th>profit</th>\n",
       "    </tr>\n",
       "  </thead>\n",
       "  <tbody>\n",
       "    <tr>\n",
       "      <th>0</th>\n",
       "      <td>Avatar</td>\n",
       "      <td>523.505847</td>\n",
       "    </tr>\n",
       "    <tr>\n",
       "      <th>29</th>\n",
       "      <td>Jurassic World</td>\n",
       "      <td>502.177271</td>\n",
       "    </tr>\n",
       "    <tr>\n",
       "      <th>26</th>\n",
       "      <td>Titanic</td>\n",
       "      <td>458.672302</td>\n",
       "    </tr>\n",
       "    <tr>\n",
       "      <th>3024</th>\n",
       "      <td>Star Wars: Episode IV - A New Hope</td>\n",
       "      <td>449.935665</td>\n",
       "    </tr>\n",
       "    <tr>\n",
       "      <th>3080</th>\n",
       "      <td>E.T. the Extra-Terrestrial</td>\n",
       "      <td>424.449459</td>\n",
       "    </tr>\n",
       "    <tr>\n",
       "      <th>17</th>\n",
       "      <td>The Avengers</td>\n",
       "      <td>403.279547</td>\n",
       "    </tr>\n",
       "    <tr>\n",
       "      <th>509</th>\n",
       "      <td>The Lion King</td>\n",
       "      <td>377.783777</td>\n",
       "    </tr>\n",
       "    <tr>\n",
       "      <th>240</th>\n",
       "      <td>Star Wars: Episode I - The Phantom Menace</td>\n",
       "      <td>359.544677</td>\n",
       "    </tr>\n",
       "    <tr>\n",
       "      <th>66</th>\n",
       "      <td>The Dark Knight</td>\n",
       "      <td>348.316061</td>\n",
       "    </tr>\n",
       "    <tr>\n",
       "      <th>439</th>\n",
       "      <td>The Hunger Games</td>\n",
       "      <td>329.999255</td>\n",
       "    </tr>\n",
       "  </tbody>\n",
       "</table>\n",
       "</div>"
      ],
      "text/plain": [
       "                                     movie_title      profit\n",
       "0                                        Avatar   523.505847\n",
       "29                               Jurassic World   502.177271\n",
       "26                                      Titanic   458.672302\n",
       "3024         Star Wars: Episode IV - A New Hope   449.935665\n",
       "3080                 E.T. the Extra-Terrestrial   424.449459\n",
       "17                                 The Avengers   403.279547\n",
       "509                               The Lion King   377.783777\n",
       "240   Star Wars: Episode I - The Phantom Menace   359.544677\n",
       "66                              The Dark Knight   348.316061\n",
       "439                            The Hunger Games   329.999255"
      ]
     },
     "execution_count": 44,
     "metadata": {},
     "output_type": "execute_result"
    }
   ],
   "source": [
    "data[['movie_title','profit']].sort_values(by = 'profit', ascending  = False).head(10)"
   ]
  },
  {
   "cell_type": "code",
   "execution_count": 45,
   "metadata": {},
   "outputs": [
    {
     "data": {
      "text/plain": [
       "English       3609\n",
       "French          37\n",
       "Spanish         26\n",
       "Mandarin        14\n",
       "German          13\n",
       "Japanese        12\n",
       "Hindi           10\n",
       "Cantonese        8\n",
       "Italian          7\n",
       "Korean           5\n",
       "Portuguese       5\n",
       "Norwegian        4\n",
       "Dutch            3\n",
       "Persian          3\n",
       "Danish           3\n",
       "Thai             3\n",
       "Hebrew           3\n",
       "Aboriginal       2\n",
       "Indonesian       2\n",
       "Dari             2\n",
       "Aramaic          1\n",
       "Telugu           1\n",
       "Hungarian        1\n",
       "Zulu             1\n",
       "Russian          1\n",
       "Arabic           1\n",
       "Bosnian          1\n",
       "Swedish          1\n",
       "Czech            1\n",
       "Filipino         1\n",
       "Mongolian        1\n",
       "None             1\n",
       "Maya             1\n",
       "Kazakh           1\n",
       "Vietnamese       1\n",
       "Romanian         1\n",
       "Dzongkha         1\n",
       "Icelandic        1\n",
       "Name: language, dtype: int64"
      ]
     },
     "execution_count": 45,
     "metadata": {},
     "output_type": "execute_result"
    }
   ],
   "source": [
    "#finding out the no. of movies in each of these languages\n",
    "data['language'].value_counts()"
   ]
  },
  {
   "cell_type": "code",
   "execution_count": 46,
   "metadata": {},
   "outputs": [
    {
     "data": {
      "text/plain": [
       "English    3609\n",
       "Foreign     180\n",
       "Name: language, dtype: int64"
      ]
     },
     "execution_count": 46,
     "metadata": {},
     "output_type": "execute_result"
    }
   ],
   "source": [
    "#from the prev section, we have inferred that majority of these movies are in English language and only few are in other \n",
    "#languages, so let's keep only 2 sets of such languages i.e. English and Foreign\n",
    "\n",
    "def language(x):\n",
    "    if x=='English':\n",
    "        return 'English'\n",
    "    else:\n",
    "        return 'Foreign'\n",
    "\n",
    "# lets apply the function(language()) on the language column - using apply()\n",
    "data['language'] = data['language'].apply(language)\n",
    "\n",
    "\n",
    "#we will check the results now\n",
    "data['language'].value_counts()"
   ]
  },
  {
   "cell_type": "code",
   "execution_count": 47,
   "metadata": {},
   "outputs": [
    {
     "data": {
      "text/plain": [
       "Short    2828\n",
       "Long      961\n",
       "Name: duration, dtype: int64"
      ]
     },
     "execution_count": 47,
     "metadata": {},
     "output_type": "execute_result"
    }
   ],
   "source": [
    "#now we'll categorize the movies as Long/Short based on the duration\n",
    "def duration(x):\n",
    "    if x>=120:\n",
    "        return 'Long'\n",
    "    else:\n",
    "        return 'Short'\n",
    "    \n",
    "data['duration'] = data['duration'].apply(duration)\n",
    "\n",
    "data['duration'].value_counts()"
   ]
  },
  {
   "cell_type": "code",
   "execution_count": 48,
   "metadata": {},
   "outputs": [
    {
     "data": {
      "text/plain": [
       "Drama                               152\n",
       "Comedy|Drama|Romance                149\n",
       "Comedy|Drama                        147\n",
       "Comedy                              145\n",
       "Comedy|Romance                      135\n",
       "Drama|Romance                       118\n",
       "Crime|Drama|Thriller                 80\n",
       "Action|Crime|Thriller                54\n",
       "Action|Crime|Drama|Thriller          48\n",
       "Action|Adventure|Sci-Fi              45\n",
       "Comedy|Crime                         45\n",
       "Action|Adventure|Thriller            43\n",
       "Crime|Drama                          42\n",
       "Drama|Thriller                       41\n",
       "Horror                               41\n",
       "Crime|Drama|Mystery|Thriller         40\n",
       "Action|Adventure|Sci-Fi|Thriller     33\n",
       "Horror|Thriller                      32\n",
       "Horror|Mystery|Thriller              31\n",
       "Biography|Drama                      30\n",
       "Name: genres, dtype: int64"
      ]
     },
     "execution_count": 48,
     "metadata": {},
     "output_type": "execute_result"
    }
   ],
   "source": [
    "#checking values under Genre colms.\n",
    "data['genres'].value_counts().head(20)"
   ]
  },
  {
   "cell_type": "code",
   "execution_count": 49,
   "metadata": {},
   "outputs": [
    {
     "name": "stdout",
     "output_type": "stream",
     "text": [
      "   index                          movie_title  Social_Media_Popularity\n",
      "0     96                        Interstellar                  351725.0\n",
      "1    296                    Django Unchained                  200193.0\n",
      "2     10  Batman v Superman: Dawn of Justice                  200018.0\n",
      "3    128                  Mad Max: Fury Road                  192588.0\n",
      "4    179                        The Revenant                  191188.0\n",
      "5     97                           Inception                  177803.0\n",
      "6     99   The Hobbit: An Unexpected Journey                  167367.0\n",
      "7      3               The Dark Knight Rises                  166701.0\n",
      "8   2614                  The Imitation Game                  165608.0\n",
      "9    278                         The Martian                  154023.0\n"
     ]
    }
   ],
   "source": [
    "#let's find out social media popularity of a movie\n",
    "data['Social_Media_Popularity'] = ( data['num_user_for_reviews']+ data['movie_facebook_likes'] )\n",
    "# lets also check the Top 10 Most Popular Movies on Social Media\n",
    "x = data[['movie_title','Social_Media_Popularity']].sort_values(by = 'Social_Media_Popularity',\n",
    "                                                                ascending = False).head(10).reset_index()\n",
    "print(x)"
   ]
  },
  {
   "cell_type": "code",
   "execution_count": 50,
   "metadata": {},
   "outputs": [
    {
     "data": {
      "image/png": "[encoded data removed]",
      "text/plain": [
       "<Figure size 1008x504 with 1 Axes>"
      ]
     },
     "metadata": {},
     "output_type": "display_data"
    }
   ],
   "source": [
    "sns.barplot(x['movie_title'], x['Social_Media_Popularity'], palette = 'magma')\n",
    "plt.title('Top 10 Most Popular Movies on Social Media', fontsize = 20)\n",
    "plt.xticks(rotation = 90, fontsize = 14)\n",
    "#plt.xlabel(' ')\n",
    "plt.show()"
   ]
  },
  {
   "cell_type": "code",
   "execution_count": 51,
   "metadata": {},
   "outputs": [
    {
     "data": {
      "text/html": [
       "<div>\n",
       "<style scoped>\n",
       "    .dataframe tbody tr th:only-of-type {\n",
       "        vertical-align: middle;\n",
       "    }\n",
       "\n",
       "    .dataframe tbody tr th {\n",
       "        vertical-align: top;\n",
       "    }\n",
       "\n",
       "    .dataframe thead th {\n",
       "        text-align: right;\n",
       "    }\n",
       "</style>\n",
       "<table border=\"1\" class=\"dataframe\">\n",
       "  <thead>\n",
       "    <tr style=\"text-align: right;\">\n",
       "      <th></th>\n",
       "      <th>genres</th>\n",
       "      <th>Genre1</th>\n",
       "    </tr>\n",
       "  </thead>\n",
       "  <tbody>\n",
       "    <tr>\n",
       "      <th>0</th>\n",
       "      <td>Action|Adventure|Fantasy|Sci-Fi</td>\n",
       "      <td>Action</td>\n",
       "    </tr>\n",
       "    <tr>\n",
       "      <th>1</th>\n",
       "      <td>Action|Adventure|Fantasy</td>\n",
       "      <td>Action</td>\n",
       "    </tr>\n",
       "    <tr>\n",
       "      <th>2</th>\n",
       "      <td>Action|Adventure|Thriller</td>\n",
       "      <td>Action</td>\n",
       "    </tr>\n",
       "    <tr>\n",
       "      <th>3</th>\n",
       "      <td>Action|Thriller</td>\n",
       "      <td>Action</td>\n",
       "    </tr>\n",
       "    <tr>\n",
       "      <th>5</th>\n",
       "      <td>Action|Adventure|Sci-Fi</td>\n",
       "      <td>Action</td>\n",
       "    </tr>\n",
       "  </tbody>\n",
       "</table>\n",
       "</div>"
      ],
      "text/plain": [
       "                            genres  Genre1\n",
       "0  Action|Adventure|Fantasy|Sci-Fi  Action\n",
       "1         Action|Adventure|Fantasy  Action\n",
       "2        Action|Adventure|Thriller  Action\n",
       "3                  Action|Thriller  Action\n",
       "5          Action|Adventure|Sci-Fi  Action"
      ]
     },
     "execution_count": 51,
     "metadata": {},
     "output_type": "execute_result"
    }
   ],
   "source": [
    "# we can see from the above output that most of the movies are having a lot of genres\n",
    "# also, a movie can have so many genres so lets keep four genres\n",
    "\n",
    "data['Moviegenres'] = data['genres'].str.split('|')\n",
    "data['Genre1'] = data['Moviegenres'].apply(lambda x: x[0])\n",
    "\n",
    "# lets check the head of the  data\n",
    "data[['genres','Genre1']].head(5)\n",
    "\n"
   ]
  },
  {
   "cell_type": "code",
   "execution_count": 52,
   "metadata": {},
   "outputs": [
    {
     "data": {
      "text/html": [
       "<style  type=\"text/css\" >\n",
       "#T_fe4514a4_33f5_11eb_9fcc_58a0239715e3row0_col0,#T_fe4514a4_33f5_11eb_9fcc_58a0239715e3row8_col1,#T_fe4514a4_33f5_11eb_9fcc_58a0239715e3row11_col2{\n",
       "            background-color:  #ffc77f;\n",
       "            color:  #000000;\n",
       "        }#T_fe4514a4_33f5_11eb_9fcc_58a0239715e3row0_col1{\n",
       "            background-color:  #9f6540;\n",
       "            color:  #000000;\n",
       "        }#T_fe4514a4_33f5_11eb_9fcc_58a0239715e3row0_col2,#T_fe4514a4_33f5_11eb_9fcc_58a0239715e3row1_col2,#T_fe4514a4_33f5_11eb_9fcc_58a0239715e3row4_col2,#T_fe4514a4_33f5_11eb_9fcc_58a0239715e3row5_col2,#T_fe4514a4_33f5_11eb_9fcc_58a0239715e3row6_col2,#T_fe4514a4_33f5_11eb_9fcc_58a0239715e3row7_col2,#T_fe4514a4_33f5_11eb_9fcc_58a0239715e3row9_col2,#T_fe4514a4_33f5_11eb_9fcc_58a0239715e3row10_col2,#T_fe4514a4_33f5_11eb_9fcc_58a0239715e3row15_col0,#T_fe4514a4_33f5_11eb_9fcc_58a0239715e3row15_col1,#T_fe4514a4_33f5_11eb_9fcc_58a0239715e3row15_col2{\n",
       "            background-color:  #000000;\n",
       "            color:  #f1f1f1;\n",
       "        }#T_fe4514a4_33f5_11eb_9fcc_58a0239715e3row1_col0,#T_fe4514a4_33f5_11eb_9fcc_58a0239715e3row8_col0{\n",
       "            background-color:  #b47249;\n",
       "            color:  #000000;\n",
       "        }#T_fe4514a4_33f5_11eb_9fcc_58a0239715e3row1_col1{\n",
       "            background-color:  #b67349;\n",
       "            color:  #000000;\n",
       "        }#T_fe4514a4_33f5_11eb_9fcc_58a0239715e3row2_col0{\n",
       "            background-color:  #98603d;\n",
       "            color:  #000000;\n",
       "        }#T_fe4514a4_33f5_11eb_9fcc_58a0239715e3row2_col1{\n",
       "            background-color:  #be784d;\n",
       "            color:  #000000;\n",
       "        }#T_fe4514a4_33f5_11eb_9fcc_58a0239715e3row2_col2,#T_fe4514a4_33f5_11eb_9fcc_58a0239715e3row13_col2{\n",
       "            background-color:  #070503;\n",
       "            color:  #f1f1f1;\n",
       "        }#T_fe4514a4_33f5_11eb_9fcc_58a0239715e3row3_col0{\n",
       "            background-color:  #6a432b;\n",
       "            color:  #f1f1f1;\n",
       "        }#T_fe4514a4_33f5_11eb_9fcc_58a0239715e3row3_col1{\n",
       "            background-color:  #4d301f;\n",
       "            color:  #f1f1f1;\n",
       "        }#T_fe4514a4_33f5_11eb_9fcc_58a0239715e3row3_col2,#T_fe4514a4_33f5_11eb_9fcc_58a0239715e3row12_col2,#T_fe4514a4_33f5_11eb_9fcc_58a0239715e3row14_col2{\n",
       "            background-color:  #010100;\n",
       "            color:  #f1f1f1;\n",
       "        }#T_fe4514a4_33f5_11eb_9fcc_58a0239715e3row4_col0{\n",
       "            background-color:  #885637;\n",
       "            color:  #f1f1f1;\n",
       "        }#T_fe4514a4_33f5_11eb_9fcc_58a0239715e3row4_col1{\n",
       "            background-color:  #4f3220;\n",
       "            color:  #f1f1f1;\n",
       "        }#T_fe4514a4_33f5_11eb_9fcc_58a0239715e3row5_col0,#T_fe4514a4_33f5_11eb_9fcc_58a0239715e3row11_col0{\n",
       "            background-color:  #4b301e;\n",
       "            color:  #f1f1f1;\n",
       "        }#T_fe4514a4_33f5_11eb_9fcc_58a0239715e3row5_col1{\n",
       "            background-color:  #442b1b;\n",
       "            color:  #f1f1f1;\n",
       "        }#T_fe4514a4_33f5_11eb_9fcc_58a0239715e3row6_col0{\n",
       "            background-color:  #311f14;\n",
       "            color:  #f1f1f1;\n",
       "        }#T_fe4514a4_33f5_11eb_9fcc_58a0239715e3row6_col1{\n",
       "            background-color:  #1c120b;\n",
       "            color:  #f1f1f1;\n",
       "        }#T_fe4514a4_33f5_11eb_9fcc_58a0239715e3row7_col0{\n",
       "            background-color:  #ffad6e;\n",
       "            color:  #000000;\n",
       "        }#T_fe4514a4_33f5_11eb_9fcc_58a0239715e3row7_col1{\n",
       "            background-color:  #3f2819;\n",
       "            color:  #f1f1f1;\n",
       "        }#T_fe4514a4_33f5_11eb_9fcc_58a0239715e3row8_col2{\n",
       "            background-color:  #ee9760;\n",
       "            color:  #000000;\n",
       "        }#T_fe4514a4_33f5_11eb_9fcc_58a0239715e3row9_col0{\n",
       "            background-color:  #291a10;\n",
       "            color:  #f1f1f1;\n",
       "        }#T_fe4514a4_33f5_11eb_9fcc_58a0239715e3row9_col1,#T_fe4514a4_33f5_11eb_9fcc_58a0239715e3row10_col0{\n",
       "            background-color:  #543522;\n",
       "            color:  #f1f1f1;\n",
       "        }#T_fe4514a4_33f5_11eb_9fcc_58a0239715e3row10_col1{\n",
       "            background-color:  #492e1d;\n",
       "            color:  #f1f1f1;\n",
       "        }#T_fe4514a4_33f5_11eb_9fcc_58a0239715e3row11_col1{\n",
       "            background-color:  #c37b4f;\n",
       "            color:  #000000;\n",
       "        }#T_fe4514a4_33f5_11eb_9fcc_58a0239715e3row12_col0{\n",
       "            background-color:  #5a3924;\n",
       "            color:  #f1f1f1;\n",
       "        }#T_fe4514a4_33f5_11eb_9fcc_58a0239715e3row12_col1{\n",
       "            background-color:  #68422a;\n",
       "            color:  #f1f1f1;\n",
       "        }#T_fe4514a4_33f5_11eb_9fcc_58a0239715e3row13_col0{\n",
       "            background-color:  #1a100a;\n",
       "            color:  #f1f1f1;\n",
       "        }#T_fe4514a4_33f5_11eb_9fcc_58a0239715e3row13_col1{\n",
       "            background-color:  #2b1b11;\n",
       "            color:  #f1f1f1;\n",
       "        }#T_fe4514a4_33f5_11eb_9fcc_58a0239715e3row14_col0{\n",
       "            background-color:  #20140d;\n",
       "            color:  #f1f1f1;\n",
       "        }#T_fe4514a4_33f5_11eb_9fcc_58a0239715e3row14_col1{\n",
       "            background-color:  #362216;\n",
       "            color:  #f1f1f1;\n",
       "        }#T_fe4514a4_33f5_11eb_9fcc_58a0239715e3row16_col0{\n",
       "            background-color:  #100a06;\n",
       "            color:  #f1f1f1;\n",
       "        }#T_fe4514a4_33f5_11eb_9fcc_58a0239715e3row16_col1{\n",
       "            background-color:  #21150d;\n",
       "            color:  #f1f1f1;\n",
       "        }#T_fe4514a4_33f5_11eb_9fcc_58a0239715e3row16_col2{\n",
       "            background-color:  #1b110b;\n",
       "            color:  #f1f1f1;\n",
       "        }</style><table id=\"T_fe4514a4_33f5_11eb_9fcc_58a0239715e3\" ><thead>    <tr>        <th class=\"blank level0\" ></th>        <th class=\"col_heading level0 col0\" colspan=3>gross</th>    </tr>    <tr>        <th class=\"blank level1\" ></th>        <th class=\"col_heading level1 col0\" >max</th>        <th class=\"col_heading level1 col1\" >mean</th>        <th class=\"col_heading level1 col2\" >min</th>    </tr>    <tr>        <th class=\"index_name level0\" >Genre1</th>        <th class=\"blank\" ></th>        <th class=\"blank\" ></th>        <th class=\"blank\" ></th>    </tr></thead><tbody>\n",
       "                <tr>\n",
       "                        <th id=\"T_fe4514a4_33f5_11eb_9fcc_58a0239715e3level0_row0\" class=\"row_heading level0 row0\" >Action</th>\n",
       "                        <td id=\"T_fe4514a4_33f5_11eb_9fcc_58a0239715e3row0_col0\" class=\"data row0 col0\" >760.505847</td>\n",
       "                        <td id=\"T_fe4514a4_33f5_11eb_9fcc_58a0239715e3row0_col1\" class=\"data row0 col1\" >75.639538</td>\n",
       "                        <td id=\"T_fe4514a4_33f5_11eb_9fcc_58a0239715e3row0_col2\" class=\"data row0 col2\" >0.000162</td>\n",
       "            </tr>\n",
       "            <tr>\n",
       "                        <th id=\"T_fe4514a4_33f5_11eb_9fcc_58a0239715e3level0_row1\" class=\"row_heading level0 row1\" >Adventure</th>\n",
       "                        <td id=\"T_fe4514a4_33f5_11eb_9fcc_58a0239715e3row1_col0\" class=\"data row1 col0\" >436.471036</td>\n",
       "                        <td id=\"T_fe4514a4_33f5_11eb_9fcc_58a0239715e3row1_col1\" class=\"data row1 col1\" >85.820721</td>\n",
       "                        <td id=\"T_fe4514a4_33f5_11eb_9fcc_58a0239715e3row1_col2\" class=\"data row1 col2\" >0.004091</td>\n",
       "            </tr>\n",
       "            <tr>\n",
       "                        <th id=\"T_fe4514a4_33f5_11eb_9fcc_58a0239715e3level0_row2\" class=\"row_heading level0 row2\" >Animation</th>\n",
       "                        <td id=\"T_fe4514a4_33f5_11eb_9fcc_58a0239715e3row2_col0\" class=\"data row2 col0\" >368.049635</td>\n",
       "                        <td id=\"T_fe4514a4_33f5_11eb_9fcc_58a0239715e3row2_col1\" class=\"data row2 col1\" >89.873480</td>\n",
       "                        <td id=\"T_fe4514a4_33f5_11eb_9fcc_58a0239715e3row2_col2\" class=\"data row2 col2\" >0.071442</td>\n",
       "            </tr>\n",
       "            <tr>\n",
       "                        <th id=\"T_fe4514a4_33f5_11eb_9fcc_58a0239715e3level0_row3\" class=\"row_heading level0 row3\" >Biography</th>\n",
       "                        <td id=\"T_fe4514a4_33f5_11eb_9fcc_58a0239715e3row3_col0\" class=\"data row3 col0\" >255.950375</td>\n",
       "                        <td id=\"T_fe4514a4_33f5_11eb_9fcc_58a0239715e3row3_col1\" class=\"data row3 col1\" >36.532209</td>\n",
       "                        <td id=\"T_fe4514a4_33f5_11eb_9fcc_58a0239715e3row3_col2\" class=\"data row3 col2\" >0.012836</td>\n",
       "            </tr>\n",
       "            <tr>\n",
       "                        <th id=\"T_fe4514a4_33f5_11eb_9fcc_58a0239715e3level0_row4\" class=\"row_heading level0 row4\" >Comedy</th>\n",
       "                        <td id=\"T_fe4514a4_33f5_11eb_9fcc_58a0239715e3row4_col0\" class=\"data row4 col0\" >329.691196</td>\n",
       "                        <td id=\"T_fe4514a4_33f5_11eb_9fcc_58a0239715e3row4_col1\" class=\"data row4 col1\" >37.450169</td>\n",
       "                        <td id=\"T_fe4514a4_33f5_11eb_9fcc_58a0239715e3row4_col2\" class=\"data row4 col2\" >0.000703</td>\n",
       "            </tr>\n",
       "            <tr>\n",
       "                        <th id=\"T_fe4514a4_33f5_11eb_9fcc_58a0239715e3level0_row5\" class=\"row_heading level0 row5\" >Crime</th>\n",
       "                        <td id=\"T_fe4514a4_33f5_11eb_9fcc_58a0239715e3row5_col0\" class=\"data row5 col0\" >183.405771</td>\n",
       "                        <td id=\"T_fe4514a4_33f5_11eb_9fcc_58a0239715e3row5_col1\" class=\"data row5 col1\" >32.255793</td>\n",
       "                        <td id=\"T_fe4514a4_33f5_11eb_9fcc_58a0239715e3row5_col2\" class=\"data row5 col2\" >0.001111</td>\n",
       "            </tr>\n",
       "            <tr>\n",
       "                        <th id=\"T_fe4514a4_33f5_11eb_9fcc_58a0239715e3level0_row6\" class=\"row_heading level0 row6\" >Documentary</th>\n",
       "                        <td id=\"T_fe4514a4_33f5_11eb_9fcc_58a0239715e3row6_col0\" class=\"data row6 col0\" >119.078393</td>\n",
       "                        <td id=\"T_fe4514a4_33f5_11eb_9fcc_58a0239715e3row6_col1\" class=\"data row6 col1\" >13.704278</td>\n",
       "                        <td id=\"T_fe4514a4_33f5_11eb_9fcc_58a0239715e3row6_col2\" class=\"data row6 col2\" >0.005858</td>\n",
       "            </tr>\n",
       "            <tr>\n",
       "                        <th id=\"T_fe4514a4_33f5_11eb_9fcc_58a0239715e3level0_row7\" class=\"row_heading level0 row7\" >Drama</th>\n",
       "                        <td id=\"T_fe4514a4_33f5_11eb_9fcc_58a0239715e3row7_col0\" class=\"data row7 col0\" >658.672302</td>\n",
       "                        <td id=\"T_fe4514a4_33f5_11eb_9fcc_58a0239715e3row7_col1\" class=\"data row7 col1\" >30.215156</td>\n",
       "                        <td id=\"T_fe4514a4_33f5_11eb_9fcc_58a0239715e3row7_col2\" class=\"data row7 col2\" >0.002580</td>\n",
       "            </tr>\n",
       "            <tr>\n",
       "                        <th id=\"T_fe4514a4_33f5_11eb_9fcc_58a0239715e3level0_row8\" class=\"row_heading level0 row8\" >Family</th>\n",
       "                        <td id=\"T_fe4514a4_33f5_11eb_9fcc_58a0239715e3row8_col0\" class=\"data row8 col0\" >434.949459</td>\n",
       "                        <td id=\"T_fe4514a4_33f5_11eb_9fcc_58a0239715e3row8_col1\" class=\"data row8 col1\" >149.160478</td>\n",
       "                        <td id=\"T_fe4514a4_33f5_11eb_9fcc_58a0239715e3row8_col2\" class=\"data row8 col2\" >2.119994</td>\n",
       "            </tr>\n",
       "            <tr>\n",
       "                        <th id=\"T_fe4514a4_33f5_11eb_9fcc_58a0239715e3level0_row9\" class=\"row_heading level0 row9\" >Fantasy</th>\n",
       "                        <td id=\"T_fe4514a4_33f5_11eb_9fcc_58a0239715e3row9_col0\" class=\"data row9 col0\" >100.614858</td>\n",
       "                        <td id=\"T_fe4514a4_33f5_11eb_9fcc_58a0239715e3row9_col1\" class=\"data row9 col1\" >39.997006</td>\n",
       "                        <td id=\"T_fe4514a4_33f5_11eb_9fcc_58a0239715e3row9_col2\" class=\"data row9 col2\" >0.003478</td>\n",
       "            </tr>\n",
       "            <tr>\n",
       "                        <th id=\"T_fe4514a4_33f5_11eb_9fcc_58a0239715e3level0_row10\" class=\"row_heading level0 row10\" >Horror</th>\n",
       "                        <td id=\"T_fe4514a4_33f5_11eb_9fcc_58a0239715e3row10_col0\" class=\"data row10 col0\" >204.565000</td>\n",
       "                        <td id=\"T_fe4514a4_33f5_11eb_9fcc_58a0239715e3row10_col1\" class=\"data row10 col1\" >34.753371</td>\n",
       "                        <td id=\"T_fe4514a4_33f5_11eb_9fcc_58a0239715e3row10_col2\" class=\"data row10 col2\" >0.005725</td>\n",
       "            </tr>\n",
       "            <tr>\n",
       "                        <th id=\"T_fe4514a4_33f5_11eb_9fcc_58a0239715e3level0_row11\" class=\"row_heading level0 row11\" >Musical</th>\n",
       "                        <td id=\"T_fe4514a4_33f5_11eb_9fcc_58a0239715e3row11_col0\" class=\"data row11 col0\" >181.360000</td>\n",
       "                        <td id=\"T_fe4514a4_33f5_11eb_9fcc_58a0239715e3row11_col1\" class=\"data row11 col1\" >92.084000</td>\n",
       "                        <td id=\"T_fe4514a4_33f5_11eb_9fcc_58a0239715e3row11_col2\" class=\"data row11 col2\" >2.808000</td>\n",
       "            </tr>\n",
       "            <tr>\n",
       "                        <th id=\"T_fe4514a4_33f5_11eb_9fcc_58a0239715e3level0_row12\" class=\"row_heading level0 row12\" >Mystery</th>\n",
       "                        <td id=\"T_fe4514a4_33f5_11eb_9fcc_58a0239715e3row12_col0\" class=\"data row12 col0\" >217.536138</td>\n",
       "                        <td id=\"T_fe4514a4_33f5_11eb_9fcc_58a0239715e3row12_col1\" class=\"data row12 col1\" >49.041905</td>\n",
       "                        <td id=\"T_fe4514a4_33f5_11eb_9fcc_58a0239715e3row12_col2\" class=\"data row12 col2\" >0.016066</td>\n",
       "            </tr>\n",
       "            <tr>\n",
       "                        <th id=\"T_fe4514a4_33f5_11eb_9fcc_58a0239715e3level0_row13\" class=\"row_heading level0 row13\" >Romance</th>\n",
       "                        <td id=\"T_fe4514a4_33f5_11eb_9fcc_58a0239715e3row13_col0\" class=\"data row13 col0\" >62.453315</td>\n",
       "                        <td id=\"T_fe4514a4_33f5_11eb_9fcc_58a0239715e3row13_col1\" class=\"data row13 col1\" >20.886339</td>\n",
       "                        <td id=\"T_fe4514a4_33f5_11eb_9fcc_58a0239715e3row13_col2\" class=\"data row13 col2\" >0.076382</td>\n",
       "            </tr>\n",
       "            <tr>\n",
       "                        <th id=\"T_fe4514a4_33f5_11eb_9fcc_58a0239715e3level0_row14\" class=\"row_heading level0 row14\" >Sci-Fi</th>\n",
       "                        <td id=\"T_fe4514a4_33f5_11eb_9fcc_58a0239715e3row14_col0\" class=\"data row14 col0\" >79.568000</td>\n",
       "                        <td id=\"T_fe4514a4_33f5_11eb_9fcc_58a0239715e3row14_col1\" class=\"data row14 col1\" >26.071841</td>\n",
       "                        <td id=\"T_fe4514a4_33f5_11eb_9fcc_58a0239715e3row14_col2\" class=\"data row14 col2\" >0.018195</td>\n",
       "            </tr>\n",
       "            <tr>\n",
       "                        <th id=\"T_fe4514a4_33f5_11eb_9fcc_58a0239715e3level0_row15\" class=\"row_heading level0 row15\" >Thriller</th>\n",
       "                        <td id=\"T_fe4514a4_33f5_11eb_9fcc_58a0239715e3row15_col0\" class=\"data row15 col0\" >0.070071</td>\n",
       "                        <td id=\"T_fe4514a4_33f5_11eb_9fcc_58a0239715e3row15_col1\" class=\"data row15 col1\" >0.040513</td>\n",
       "                        <td id=\"T_fe4514a4_33f5_11eb_9fcc_58a0239715e3row15_col2\" class=\"data row15 col2\" >0.002468</td>\n",
       "            </tr>\n",
       "            <tr>\n",
       "                        <th id=\"T_fe4514a4_33f5_11eb_9fcc_58a0239715e3level0_row16\" class=\"row_heading level0 row16\" >Western</th>\n",
       "                        <td id=\"T_fe4514a4_33f5_11eb_9fcc_58a0239715e3row16_col0\" class=\"data row16 col0\" >41.400000</td>\n",
       "                        <td id=\"T_fe4514a4_33f5_11eb_9fcc_58a0239715e3row16_col1\" class=\"data row16 col1\" >15.914589</td>\n",
       "                        <td id=\"T_fe4514a4_33f5_11eb_9fcc_58a0239715e3row16_col2\" class=\"data row16 col2\" >0.243768</td>\n",
       "            </tr>\n",
       "    </tbody></table>"
      ],
      "text/plain": [
       "<pandas.io.formats.style.Styler at 0x2394dab8240>"
      ]
     },
     "metadata": {},
     "output_type": "display_data"
    }
   ],
   "source": [
    "# Lets compare the Gross with Genres\n",
    "\n",
    "# first group the genres and get max, min, and avg gross of the movies of that genre.)\n",
    "display(data[['Genre1','gross',]].groupby(['Genre1']).agg(['max','mean','min']).style.background_gradient(cmap = 'copper'))"
   ]
  },
  {
   "cell_type": "code",
   "execution_count": 58,
   "metadata": {},
   "outputs": [
    {
     "ename": "AttributeError",
     "evalue": "'Line2D' object has no property 'colors'",
     "output_type": "error",
     "traceback": [
      "\u001b[1;31m---------------------------------------------------------------------------\u001b[0m",
      "\u001b[1;31mAttributeError\u001b[0m                            Traceback (most recent call last)",
      "\u001b[1;32m<ipython-input-58-15c076d7ddcd>\u001b[0m in \u001b[0;36m<module>\u001b[1;34m\u001b[0m\n\u001b[0;32m      1\u001b[0m \u001b[1;31m# lets plot these values using lineplot\u001b[0m\u001b[1;33m\u001b[0m\u001b[1;33m\u001b[0m\u001b[1;33m\u001b[0m\u001b[0m\n\u001b[1;32m----> 2\u001b[1;33m \u001b[0mdata\u001b[0m\u001b[1;33m[\u001b[0m\u001b[1;33m[\u001b[0m\u001b[1;34m'Genre1'\u001b[0m\u001b[1;33m,\u001b[0m\u001b[1;34m'gross'\u001b[0m\u001b[1;33m]\u001b[0m\u001b[1;33m]\u001b[0m\u001b[1;33m.\u001b[0m\u001b[0mgroupby\u001b[0m\u001b[1;33m(\u001b[0m\u001b[1;33m[\u001b[0m\u001b[1;34m'Genre1'\u001b[0m\u001b[1;33m]\u001b[0m\u001b[1;33m)\u001b[0m\u001b[1;33m.\u001b[0m\u001b[0magg\u001b[0m\u001b[1;33m(\u001b[0m\u001b[1;33m[\u001b[0m\u001b[1;34m'max'\u001b[0m\u001b[1;33m,\u001b[0m\u001b[1;34m'mean'\u001b[0m\u001b[1;33m,\u001b[0m\u001b[1;34m'min'\u001b[0m\u001b[1;33m]\u001b[0m\u001b[1;33m)\u001b[0m\u001b[1;33m.\u001b[0m\u001b[0mplot\u001b[0m\u001b[1;33m(\u001b[0m\u001b[0mkind\u001b[0m \u001b[1;33m=\u001b[0m \u001b[1;34m'line'\u001b[0m\u001b[1;33m,\u001b[0m \u001b[0mcolors\u001b[0m \u001b[1;33m=\u001b[0m \u001b[1;33m[\u001b[0m\u001b[1;34m'red'\u001b[0m\u001b[1;33m,\u001b[0m\u001b[1;34m'black'\u001b[0m\u001b[1;33m,\u001b[0m\u001b[1;34m'blue'\u001b[0m\u001b[1;33m]\u001b[0m\u001b[1;33m)\u001b[0m\u001b[1;33m\u001b[0m\u001b[1;33m\u001b[0m\u001b[0m\n\u001b[0m\u001b[0;32m      3\u001b[0m \u001b[0mplt\u001b[0m\u001b[1;33m.\u001b[0m\u001b[0mtitle\u001b[0m\u001b[1;33m(\u001b[0m\u001b[1;34m'Which Genre is Most Bankable?'\u001b[0m\u001b[1;33m,\u001b[0m \u001b[0mfontsize\u001b[0m \u001b[1;33m=\u001b[0m \u001b[1;36m20\u001b[0m\u001b[1;33m)\u001b[0m\u001b[1;33m\u001b[0m\u001b[1;33m\u001b[0m\u001b[0m\n\u001b[0;32m      4\u001b[0m plt.xticks(np.arange(17), ['Action', 'Adventure', 'Animation', 'Biography', 'Comedy', 'Crime',\n\u001b[0;32m      5\u001b[0m        \u001b[1;34m'Documentary'\u001b[0m\u001b[1;33m,\u001b[0m \u001b[1;34m'Drama'\u001b[0m\u001b[1;33m,\u001b[0m \u001b[1;34m'Family'\u001b[0m\u001b[1;33m,\u001b[0m \u001b[1;34m'Fantasy'\u001b[0m\u001b[1;33m,\u001b[0m \u001b[1;34m'Horror'\u001b[0m\u001b[1;33m,\u001b[0m \u001b[1;34m'Musical'\u001b[0m\u001b[1;33m,\u001b[0m\u001b[1;33m\u001b[0m\u001b[1;33m\u001b[0m\u001b[0m\n",
      "\u001b[1;32mc:\\users\\guptatan\\appdata\\local\\programs\\python\\python36\\lib\\site-packages\\pandas\\plotting\\_core.py\u001b[0m in \u001b[0;36m__call__\u001b[1;34m(self, *args, **kwargs)\u001b[0m\n\u001b[0;32m    947\u001b[0m                     \u001b[0mdata\u001b[0m\u001b[1;33m.\u001b[0m\u001b[0mcolumns\u001b[0m \u001b[1;33m=\u001b[0m \u001b[0mlabel_name\u001b[0m\u001b[1;33m\u001b[0m\u001b[1;33m\u001b[0m\u001b[0m\n\u001b[0;32m    948\u001b[0m \u001b[1;33m\u001b[0m\u001b[0m\n\u001b[1;32m--> 949\u001b[1;33m         \u001b[1;32mreturn\u001b[0m \u001b[0mplot_backend\u001b[0m\u001b[1;33m.\u001b[0m\u001b[0mplot\u001b[0m\u001b[1;33m(\u001b[0m\u001b[0mdata\u001b[0m\u001b[1;33m,\u001b[0m \u001b[0mkind\u001b[0m\u001b[1;33m=\u001b[0m\u001b[0mkind\u001b[0m\u001b[1;33m,\u001b[0m \u001b[1;33m**\u001b[0m\u001b[0mkwargs\u001b[0m\u001b[1;33m)\u001b[0m\u001b[1;33m\u001b[0m\u001b[1;33m\u001b[0m\u001b[0m\n\u001b[0m\u001b[0;32m    950\u001b[0m \u001b[1;33m\u001b[0m\u001b[0m\n\u001b[0;32m    951\u001b[0m     \u001b[0m__call__\u001b[0m\u001b[1;33m.\u001b[0m\u001b[0m__doc__\u001b[0m \u001b[1;33m=\u001b[0m \u001b[0m__doc__\u001b[0m\u001b[1;33m\u001b[0m\u001b[1;33m\u001b[0m\u001b[0m\n",
      "\u001b[1;32mc:\\users\\guptatan\\appdata\\local\\programs\\python\\python36\\lib\\site-packages\\pandas\\plotting\\_matplotlib\\__init__.py\u001b[0m in \u001b[0;36mplot\u001b[1;34m(data, kind, **kwargs)\u001b[0m\n\u001b[0;32m     59\u001b[0m             \u001b[0mkwargs\u001b[0m\u001b[1;33m[\u001b[0m\u001b[1;34m\"ax\"\u001b[0m\u001b[1;33m]\u001b[0m \u001b[1;33m=\u001b[0m \u001b[0mgetattr\u001b[0m\u001b[1;33m(\u001b[0m\u001b[0max\u001b[0m\u001b[1;33m,\u001b[0m \u001b[1;34m\"left_ax\"\u001b[0m\u001b[1;33m,\u001b[0m \u001b[0max\u001b[0m\u001b[1;33m)\u001b[0m\u001b[1;33m\u001b[0m\u001b[1;33m\u001b[0m\u001b[0m\n\u001b[0;32m     60\u001b[0m     \u001b[0mplot_obj\u001b[0m \u001b[1;33m=\u001b[0m \u001b[0mPLOT_CLASSES\u001b[0m\u001b[1;33m[\u001b[0m\u001b[0mkind\u001b[0m\u001b[1;33m]\u001b[0m\u001b[1;33m(\u001b[0m\u001b[0mdata\u001b[0m\u001b[1;33m,\u001b[0m \u001b[1;33m**\u001b[0m\u001b[0mkwargs\u001b[0m\u001b[1;33m)\u001b[0m\u001b[1;33m\u001b[0m\u001b[1;33m\u001b[0m\u001b[0m\n\u001b[1;32m---> 61\u001b[1;33m     \u001b[0mplot_obj\u001b[0m\u001b[1;33m.\u001b[0m\u001b[0mgenerate\u001b[0m\u001b[1;33m(\u001b[0m\u001b[1;33m)\u001b[0m\u001b[1;33m\u001b[0m\u001b[1;33m\u001b[0m\u001b[0m\n\u001b[0m\u001b[0;32m     62\u001b[0m     \u001b[0mplot_obj\u001b[0m\u001b[1;33m.\u001b[0m\u001b[0mdraw\u001b[0m\u001b[1;33m(\u001b[0m\u001b[1;33m)\u001b[0m\u001b[1;33m\u001b[0m\u001b[1;33m\u001b[0m\u001b[0m\n\u001b[0;32m     63\u001b[0m     \u001b[1;32mreturn\u001b[0m \u001b[0mplot_obj\u001b[0m\u001b[1;33m.\u001b[0m\u001b[0mresult\u001b[0m\u001b[1;33m\u001b[0m\u001b[1;33m\u001b[0m\u001b[0m\n",
      "\u001b[1;32mc:\\users\\guptatan\\appdata\\local\\programs\\python\\python36\\lib\\site-packages\\pandas\\plotting\\_matplotlib\\core.py\u001b[0m in \u001b[0;36mgenerate\u001b[1;34m(self)\u001b[0m\n\u001b[0;32m    269\u001b[0m         \u001b[0mself\u001b[0m\u001b[1;33m.\u001b[0m\u001b[0m_compute_plot_data\u001b[0m\u001b[1;33m(\u001b[0m\u001b[1;33m)\u001b[0m\u001b[1;33m\u001b[0m\u001b[1;33m\u001b[0m\u001b[0m\n\u001b[0;32m    270\u001b[0m         \u001b[0mself\u001b[0m\u001b[1;33m.\u001b[0m\u001b[0m_setup_subplots\u001b[0m\u001b[1;33m(\u001b[0m\u001b[1;33m)\u001b[0m\u001b[1;33m\u001b[0m\u001b[1;33m\u001b[0m\u001b[0m\n\u001b[1;32m--> 271\u001b[1;33m         \u001b[0mself\u001b[0m\u001b[1;33m.\u001b[0m\u001b[0m_make_plot\u001b[0m\u001b[1;33m(\u001b[0m\u001b[1;33m)\u001b[0m\u001b[1;33m\u001b[0m\u001b[1;33m\u001b[0m\u001b[0m\n\u001b[0m\u001b[0;32m    272\u001b[0m         \u001b[0mself\u001b[0m\u001b[1;33m.\u001b[0m\u001b[0m_add_table\u001b[0m\u001b[1;33m(\u001b[0m\u001b[1;33m)\u001b[0m\u001b[1;33m\u001b[0m\u001b[1;33m\u001b[0m\u001b[0m\n\u001b[0;32m    273\u001b[0m         \u001b[0mself\u001b[0m\u001b[1;33m.\u001b[0m\u001b[0m_make_legend\u001b[0m\u001b[1;33m(\u001b[0m\u001b[1;33m)\u001b[0m\u001b[1;33m\u001b[0m\u001b[1;33m\u001b[0m\u001b[0m\n",
      "\u001b[1;32mc:\\users\\guptatan\\appdata\\local\\programs\\python\\python36\\lib\\site-packages\\pandas\\plotting\\_matplotlib\\core.py\u001b[0m in \u001b[0;36m_make_plot\u001b[1;34m(self)\u001b[0m\n\u001b[0;32m   1124\u001b[0m                 \u001b[0mstacking_id\u001b[0m\u001b[1;33m=\u001b[0m\u001b[0mstacking_id\u001b[0m\u001b[1;33m,\u001b[0m\u001b[1;33m\u001b[0m\u001b[1;33m\u001b[0m\u001b[0m\n\u001b[0;32m   1125\u001b[0m                 \u001b[0mis_errorbar\u001b[0m\u001b[1;33m=\u001b[0m\u001b[0mis_errorbar\u001b[0m\u001b[1;33m,\u001b[0m\u001b[1;33m\u001b[0m\u001b[1;33m\u001b[0m\u001b[0m\n\u001b[1;32m-> 1126\u001b[1;33m                 \u001b[1;33m**\u001b[0m\u001b[0mkwds\u001b[0m\u001b[1;33m,\u001b[0m\u001b[1;33m\u001b[0m\u001b[1;33m\u001b[0m\u001b[0m\n\u001b[0m\u001b[0;32m   1127\u001b[0m             )\n\u001b[0;32m   1128\u001b[0m             \u001b[0mself\u001b[0m\u001b[1;33m.\u001b[0m\u001b[0m_add_legend_handle\u001b[0m\u001b[1;33m(\u001b[0m\u001b[0mnewlines\u001b[0m\u001b[1;33m[\u001b[0m\u001b[1;36m0\u001b[0m\u001b[1;33m]\u001b[0m\u001b[1;33m,\u001b[0m \u001b[0mlabel\u001b[0m\u001b[1;33m,\u001b[0m \u001b[0mindex\u001b[0m\u001b[1;33m=\u001b[0m\u001b[0mi\u001b[0m\u001b[1;33m)\u001b[0m\u001b[1;33m\u001b[0m\u001b[1;33m\u001b[0m\u001b[0m\n",
      "\u001b[1;32mc:\\users\\guptatan\\appdata\\local\\programs\\python\\python36\\lib\\site-packages\\pandas\\plotting\\_matplotlib\\core.py\u001b[0m in \u001b[0;36m_plot\u001b[1;34m(cls, ax, x, y, style, column_num, stacking_id, **kwds)\u001b[0m\n\u001b[0;32m   1143\u001b[0m             \u001b[0mcls\u001b[0m\u001b[1;33m.\u001b[0m\u001b[0m_initialize_stacker\u001b[0m\u001b[1;33m(\u001b[0m\u001b[0max\u001b[0m\u001b[1;33m,\u001b[0m \u001b[0mstacking_id\u001b[0m\u001b[1;33m,\u001b[0m \u001b[0mlen\u001b[0m\u001b[1;33m(\u001b[0m\u001b[0my\u001b[0m\u001b[1;33m)\u001b[0m\u001b[1;33m)\u001b[0m\u001b[1;33m\u001b[0m\u001b[1;33m\u001b[0m\u001b[0m\n\u001b[0;32m   1144\u001b[0m         \u001b[0my_values\u001b[0m \u001b[1;33m=\u001b[0m \u001b[0mcls\u001b[0m\u001b[1;33m.\u001b[0m\u001b[0m_get_stacked_values\u001b[0m\u001b[1;33m(\u001b[0m\u001b[0max\u001b[0m\u001b[1;33m,\u001b[0m \u001b[0mstacking_id\u001b[0m\u001b[1;33m,\u001b[0m \u001b[0my\u001b[0m\u001b[1;33m,\u001b[0m \u001b[0mkwds\u001b[0m\u001b[1;33m[\u001b[0m\u001b[1;34m\"label\"\u001b[0m\u001b[1;33m]\u001b[0m\u001b[1;33m)\u001b[0m\u001b[1;33m\u001b[0m\u001b[1;33m\u001b[0m\u001b[0m\n\u001b[1;32m-> 1145\u001b[1;33m         \u001b[0mlines\u001b[0m \u001b[1;33m=\u001b[0m \u001b[0mMPLPlot\u001b[0m\u001b[1;33m.\u001b[0m\u001b[0m_plot\u001b[0m\u001b[1;33m(\u001b[0m\u001b[0max\u001b[0m\u001b[1;33m,\u001b[0m \u001b[0mx\u001b[0m\u001b[1;33m,\u001b[0m \u001b[0my_values\u001b[0m\u001b[1;33m,\u001b[0m \u001b[0mstyle\u001b[0m\u001b[1;33m=\u001b[0m\u001b[0mstyle\u001b[0m\u001b[1;33m,\u001b[0m \u001b[1;33m**\u001b[0m\u001b[0mkwds\u001b[0m\u001b[1;33m)\u001b[0m\u001b[1;33m\u001b[0m\u001b[1;33m\u001b[0m\u001b[0m\n\u001b[0m\u001b[0;32m   1146\u001b[0m         \u001b[0mcls\u001b[0m\u001b[1;33m.\u001b[0m\u001b[0m_update_stacker\u001b[0m\u001b[1;33m(\u001b[0m\u001b[0max\u001b[0m\u001b[1;33m,\u001b[0m \u001b[0mstacking_id\u001b[0m\u001b[1;33m,\u001b[0m \u001b[0my\u001b[0m\u001b[1;33m)\u001b[0m\u001b[1;33m\u001b[0m\u001b[1;33m\u001b[0m\u001b[0m\n\u001b[0;32m   1147\u001b[0m         \u001b[1;32mreturn\u001b[0m \u001b[0mlines\u001b[0m\u001b[1;33m\u001b[0m\u001b[1;33m\u001b[0m\u001b[0m\n",
      "\u001b[1;32mc:\\users\\guptatan\\appdata\\local\\programs\\python\\python36\\lib\\site-packages\\pandas\\plotting\\_matplotlib\\converter.py\u001b[0m in \u001b[0;36mwrapper\u001b[1;34m(*args, **kwargs)\u001b[0m\n\u001b[0;32m     63\u001b[0m     \u001b[1;32mdef\u001b[0m \u001b[0mwrapper\u001b[0m\u001b[1;33m(\u001b[0m\u001b[1;33m*\u001b[0m\u001b[0margs\u001b[0m\u001b[1;33m,\u001b[0m \u001b[1;33m**\u001b[0m\u001b[0mkwargs\u001b[0m\u001b[1;33m)\u001b[0m\u001b[1;33m:\u001b[0m\u001b[1;33m\u001b[0m\u001b[1;33m\u001b[0m\u001b[0m\n\u001b[0;32m     64\u001b[0m         \u001b[1;32mwith\u001b[0m \u001b[0mpandas_converters\u001b[0m\u001b[1;33m(\u001b[0m\u001b[1;33m)\u001b[0m\u001b[1;33m:\u001b[0m\u001b[1;33m\u001b[0m\u001b[1;33m\u001b[0m\u001b[0m\n\u001b[1;32m---> 65\u001b[1;33m             \u001b[1;32mreturn\u001b[0m \u001b[0mfunc\u001b[0m\u001b[1;33m(\u001b[0m\u001b[1;33m*\u001b[0m\u001b[0margs\u001b[0m\u001b[1;33m,\u001b[0m \u001b[1;33m**\u001b[0m\u001b[0mkwargs\u001b[0m\u001b[1;33m)\u001b[0m\u001b[1;33m\u001b[0m\u001b[1;33m\u001b[0m\u001b[0m\n\u001b[0m\u001b[0;32m     66\u001b[0m \u001b[1;33m\u001b[0m\u001b[0m\n\u001b[0;32m     67\u001b[0m     \u001b[1;32mreturn\u001b[0m \u001b[0mwrapper\u001b[0m\u001b[1;33m\u001b[0m\u001b[1;33m\u001b[0m\u001b[0m\n",
      "\u001b[1;32mc:\\users\\guptatan\\appdata\\local\\programs\\python\\python36\\lib\\site-packages\\pandas\\plotting\\_matplotlib\\core.py\u001b[0m in \u001b[0;36m_plot\u001b[1;34m(cls, ax, x, y, style, is_errorbar, **kwds)\u001b[0m\n\u001b[0;32m    666\u001b[0m             \u001b[1;32melse\u001b[0m\u001b[1;33m:\u001b[0m\u001b[1;33m\u001b[0m\u001b[1;33m\u001b[0m\u001b[0m\n\u001b[0;32m    667\u001b[0m                 \u001b[0margs\u001b[0m \u001b[1;33m=\u001b[0m \u001b[1;33m(\u001b[0m\u001b[0mx\u001b[0m\u001b[1;33m,\u001b[0m \u001b[0my\u001b[0m\u001b[1;33m)\u001b[0m\u001b[1;33m\u001b[0m\u001b[1;33m\u001b[0m\u001b[0m\n\u001b[1;32m--> 668\u001b[1;33m             \u001b[1;32mreturn\u001b[0m \u001b[0max\u001b[0m\u001b[1;33m.\u001b[0m\u001b[0mplot\u001b[0m\u001b[1;33m(\u001b[0m\u001b[1;33m*\u001b[0m\u001b[0margs\u001b[0m\u001b[1;33m,\u001b[0m \u001b[1;33m**\u001b[0m\u001b[0mkwds\u001b[0m\u001b[1;33m)\u001b[0m\u001b[1;33m\u001b[0m\u001b[1;33m\u001b[0m\u001b[0m\n\u001b[0m\u001b[0;32m    669\u001b[0m \u001b[1;33m\u001b[0m\u001b[0m\n\u001b[0;32m    670\u001b[0m     \u001b[1;32mdef\u001b[0m \u001b[0m_get_index_name\u001b[0m\u001b[1;33m(\u001b[0m\u001b[0mself\u001b[0m\u001b[1;33m)\u001b[0m\u001b[1;33m:\u001b[0m\u001b[1;33m\u001b[0m\u001b[1;33m\u001b[0m\u001b[0m\n",
      "\u001b[1;32mc:\\users\\guptatan\\appdata\\local\\programs\\python\\python36\\lib\\site-packages\\matplotlib\\axes\\_axes.py\u001b[0m in \u001b[0;36mplot\u001b[1;34m(self, scalex, scaley, data, *args, **kwargs)\u001b[0m\n\u001b[0;32m   1741\u001b[0m         \"\"\"\n\u001b[0;32m   1742\u001b[0m         \u001b[0mkwargs\u001b[0m \u001b[1;33m=\u001b[0m \u001b[0mcbook\u001b[0m\u001b[1;33m.\u001b[0m\u001b[0mnormalize_kwargs\u001b[0m\u001b[1;33m(\u001b[0m\u001b[0mkwargs\u001b[0m\u001b[1;33m,\u001b[0m \u001b[0mmlines\u001b[0m\u001b[1;33m.\u001b[0m\u001b[0mLine2D\u001b[0m\u001b[1;33m)\u001b[0m\u001b[1;33m\u001b[0m\u001b[1;33m\u001b[0m\u001b[0m\n\u001b[1;32m-> 1743\u001b[1;33m         \u001b[0mlines\u001b[0m \u001b[1;33m=\u001b[0m \u001b[1;33m[\u001b[0m\u001b[1;33m*\u001b[0m\u001b[0mself\u001b[0m\u001b[1;33m.\u001b[0m\u001b[0m_get_lines\u001b[0m\u001b[1;33m(\u001b[0m\u001b[1;33m*\u001b[0m\u001b[0margs\u001b[0m\u001b[1;33m,\u001b[0m \u001b[0mdata\u001b[0m\u001b[1;33m=\u001b[0m\u001b[0mdata\u001b[0m\u001b[1;33m,\u001b[0m \u001b[1;33m**\u001b[0m\u001b[0mkwargs\u001b[0m\u001b[1;33m)\u001b[0m\u001b[1;33m]\u001b[0m\u001b[1;33m\u001b[0m\u001b[1;33m\u001b[0m\u001b[0m\n\u001b[0m\u001b[0;32m   1744\u001b[0m         \u001b[1;32mfor\u001b[0m \u001b[0mline\u001b[0m \u001b[1;32min\u001b[0m \u001b[0mlines\u001b[0m\u001b[1;33m:\u001b[0m\u001b[1;33m\u001b[0m\u001b[1;33m\u001b[0m\u001b[0m\n\u001b[0;32m   1745\u001b[0m             \u001b[0mself\u001b[0m\u001b[1;33m.\u001b[0m\u001b[0madd_line\u001b[0m\u001b[1;33m(\u001b[0m\u001b[0mline\u001b[0m\u001b[1;33m)\u001b[0m\u001b[1;33m\u001b[0m\u001b[1;33m\u001b[0m\u001b[0m\n",
      "\u001b[1;32mc:\\users\\guptatan\\appdata\\local\\programs\\python\\python36\\lib\\site-packages\\matplotlib\\axes\\_base.py\u001b[0m in \u001b[0;36m__call__\u001b[1;34m(self, data, *args, **kwargs)\u001b[0m\n\u001b[0;32m    271\u001b[0m                 \u001b[0mthis\u001b[0m \u001b[1;33m+=\u001b[0m \u001b[0margs\u001b[0m\u001b[1;33m[\u001b[0m\u001b[1;36m0\u001b[0m\u001b[1;33m]\u001b[0m\u001b[1;33m,\u001b[0m\u001b[1;33m\u001b[0m\u001b[1;33m\u001b[0m\u001b[0m\n\u001b[0;32m    272\u001b[0m                 \u001b[0margs\u001b[0m \u001b[1;33m=\u001b[0m \u001b[0margs\u001b[0m\u001b[1;33m[\u001b[0m\u001b[1;36m1\u001b[0m\u001b[1;33m:\u001b[0m\u001b[1;33m]\u001b[0m\u001b[1;33m\u001b[0m\u001b[1;33m\u001b[0m\u001b[0m\n\u001b[1;32m--> 273\u001b[1;33m             \u001b[1;32myield\u001b[0m \u001b[1;32mfrom\u001b[0m \u001b[0mself\u001b[0m\u001b[1;33m.\u001b[0m\u001b[0m_plot_args\u001b[0m\u001b[1;33m(\u001b[0m\u001b[0mthis\u001b[0m\u001b[1;33m,\u001b[0m \u001b[0mkwargs\u001b[0m\u001b[1;33m)\u001b[0m\u001b[1;33m\u001b[0m\u001b[1;33m\u001b[0m\u001b[0m\n\u001b[0m\u001b[0;32m    274\u001b[0m \u001b[1;33m\u001b[0m\u001b[0m\n\u001b[0;32m    275\u001b[0m     \u001b[1;32mdef\u001b[0m \u001b[0mget_next_color\u001b[0m\u001b[1;33m(\u001b[0m\u001b[0mself\u001b[0m\u001b[1;33m)\u001b[0m\u001b[1;33m:\u001b[0m\u001b[1;33m\u001b[0m\u001b[1;33m\u001b[0m\u001b[0m\n",
      "\u001b[1;32mc:\\users\\guptatan\\appdata\\local\\programs\\python\\python36\\lib\\site-packages\\matplotlib\\axes\\_base.py\u001b[0m in \u001b[0;36m_plot_args\u001b[1;34m(self, tup, kwargs)\u001b[0m\n\u001b[0;32m    417\u001b[0m             \u001b[1;32mraise\u001b[0m \u001b[0mValueError\u001b[0m\u001b[1;33m(\u001b[0m\u001b[1;34mf\"x has {ncx} columns but y has {ncy} columns\"\u001b[0m\u001b[1;33m)\u001b[0m\u001b[1;33m\u001b[0m\u001b[1;33m\u001b[0m\u001b[0m\n\u001b[0;32m    418\u001b[0m         return [func(x[:, j % ncx], y[:, j % ncy], kw, kwargs)\n\u001b[1;32m--> 419\u001b[1;33m                 for j in range(max(ncx, ncy))]\n\u001b[0m\u001b[0;32m    420\u001b[0m \u001b[1;33m\u001b[0m\u001b[0m\n\u001b[0;32m    421\u001b[0m \u001b[1;33m\u001b[0m\u001b[0m\n",
      "\u001b[1;32mc:\\users\\guptatan\\appdata\\local\\programs\\python\\python36\\lib\\site-packages\\matplotlib\\axes\\_base.py\u001b[0m in \u001b[0;36m<listcomp>\u001b[1;34m(.0)\u001b[0m\n\u001b[0;32m    417\u001b[0m             \u001b[1;32mraise\u001b[0m \u001b[0mValueError\u001b[0m\u001b[1;33m(\u001b[0m\u001b[1;34mf\"x has {ncx} columns but y has {ncy} columns\"\u001b[0m\u001b[1;33m)\u001b[0m\u001b[1;33m\u001b[0m\u001b[1;33m\u001b[0m\u001b[0m\n\u001b[0;32m    418\u001b[0m         return [func(x[:, j % ncx], y[:, j % ncy], kw, kwargs)\n\u001b[1;32m--> 419\u001b[1;33m                 for j in range(max(ncx, ncy))]\n\u001b[0m\u001b[0;32m    420\u001b[0m \u001b[1;33m\u001b[0m\u001b[0m\n\u001b[0;32m    421\u001b[0m \u001b[1;33m\u001b[0m\u001b[0m\n",
      "\u001b[1;32mc:\\users\\guptatan\\appdata\\local\\programs\\python\\python36\\lib\\site-packages\\matplotlib\\axes\\_base.py\u001b[0m in \u001b[0;36m_makeline\u001b[1;34m(self, x, y, kw, kwargs)\u001b[0m\n\u001b[0;32m    310\u001b[0m         \u001b[0mdefault_dict\u001b[0m \u001b[1;33m=\u001b[0m \u001b[0mself\u001b[0m\u001b[1;33m.\u001b[0m\u001b[0m_getdefaults\u001b[0m\u001b[1;33m(\u001b[0m\u001b[0mset\u001b[0m\u001b[1;33m(\u001b[0m\u001b[1;33m)\u001b[0m\u001b[1;33m,\u001b[0m \u001b[0mkw\u001b[0m\u001b[1;33m)\u001b[0m\u001b[1;33m\u001b[0m\u001b[1;33m\u001b[0m\u001b[0m\n\u001b[0;32m    311\u001b[0m         \u001b[0mself\u001b[0m\u001b[1;33m.\u001b[0m\u001b[0m_setdefaults\u001b[0m\u001b[1;33m(\u001b[0m\u001b[0mdefault_dict\u001b[0m\u001b[1;33m,\u001b[0m \u001b[0mkw\u001b[0m\u001b[1;33m)\u001b[0m\u001b[1;33m\u001b[0m\u001b[1;33m\u001b[0m\u001b[0m\n\u001b[1;32m--> 312\u001b[1;33m         \u001b[0mseg\u001b[0m \u001b[1;33m=\u001b[0m \u001b[0mmlines\u001b[0m\u001b[1;33m.\u001b[0m\u001b[0mLine2D\u001b[0m\u001b[1;33m(\u001b[0m\u001b[0mx\u001b[0m\u001b[1;33m,\u001b[0m \u001b[0my\u001b[0m\u001b[1;33m,\u001b[0m \u001b[1;33m**\u001b[0m\u001b[0mkw\u001b[0m\u001b[1;33m)\u001b[0m\u001b[1;33m\u001b[0m\u001b[1;33m\u001b[0m\u001b[0m\n\u001b[0m\u001b[0;32m    313\u001b[0m         \u001b[1;32mreturn\u001b[0m \u001b[0mseg\u001b[0m\u001b[1;33m\u001b[0m\u001b[1;33m\u001b[0m\u001b[0m\n\u001b[0;32m    314\u001b[0m \u001b[1;33m\u001b[0m\u001b[0m\n",
      "\u001b[1;32mc:\\users\\guptatan\\appdata\\local\\programs\\python\\python36\\lib\\site-packages\\matplotlib\\lines.py\u001b[0m in \u001b[0;36m__init__\u001b[1;34m(self, xdata, ydata, linewidth, linestyle, color, marker, markersize, markeredgewidth, markeredgecolor, markerfacecolor, markerfacecoloralt, fillstyle, antialiased, dash_capstyle, solid_capstyle, dash_joinstyle, solid_joinstyle, pickradius, drawstyle, markevery, **kwargs)\u001b[0m\n\u001b[0;32m    388\u001b[0m         \u001b[1;31m# update kwargs before updating data to give the caller a\u001b[0m\u001b[1;33m\u001b[0m\u001b[1;33m\u001b[0m\u001b[1;33m\u001b[0m\u001b[0m\n\u001b[0;32m    389\u001b[0m         \u001b[1;31m# chance to init axes (and hence unit support)\u001b[0m\u001b[1;33m\u001b[0m\u001b[1;33m\u001b[0m\u001b[1;33m\u001b[0m\u001b[0m\n\u001b[1;32m--> 390\u001b[1;33m         \u001b[0mself\u001b[0m\u001b[1;33m.\u001b[0m\u001b[0mupdate\u001b[0m\u001b[1;33m(\u001b[0m\u001b[0mkwargs\u001b[0m\u001b[1;33m)\u001b[0m\u001b[1;33m\u001b[0m\u001b[1;33m\u001b[0m\u001b[0m\n\u001b[0m\u001b[0;32m    391\u001b[0m         \u001b[0mself\u001b[0m\u001b[1;33m.\u001b[0m\u001b[0mpickradius\u001b[0m \u001b[1;33m=\u001b[0m \u001b[0mpickradius\u001b[0m\u001b[1;33m\u001b[0m\u001b[1;33m\u001b[0m\u001b[0m\n\u001b[0;32m    392\u001b[0m         \u001b[0mself\u001b[0m\u001b[1;33m.\u001b[0m\u001b[0mind_offset\u001b[0m \u001b[1;33m=\u001b[0m \u001b[1;36m0\u001b[0m\u001b[1;33m\u001b[0m\u001b[1;33m\u001b[0m\u001b[0m\n",
      "\u001b[1;32mc:\\users\\guptatan\\appdata\\local\\programs\\python\\python36\\lib\\site-packages\\matplotlib\\artist.py\u001b[0m in \u001b[0;36mupdate\u001b[1;34m(self, props)\u001b[0m\n\u001b[0;32m    994\u001b[0m                     \u001b[0mfunc\u001b[0m \u001b[1;33m=\u001b[0m \u001b[0mgetattr\u001b[0m\u001b[1;33m(\u001b[0m\u001b[0mself\u001b[0m\u001b[1;33m,\u001b[0m \u001b[1;34mf\"set_{k}\"\u001b[0m\u001b[1;33m,\u001b[0m \u001b[1;32mNone\u001b[0m\u001b[1;33m)\u001b[0m\u001b[1;33m\u001b[0m\u001b[1;33m\u001b[0m\u001b[0m\n\u001b[0;32m    995\u001b[0m                     \u001b[1;32mif\u001b[0m \u001b[1;32mnot\u001b[0m \u001b[0mcallable\u001b[0m\u001b[1;33m(\u001b[0m\u001b[0mfunc\u001b[0m\u001b[1;33m)\u001b[0m\u001b[1;33m:\u001b[0m\u001b[1;33m\u001b[0m\u001b[1;33m\u001b[0m\u001b[0m\n\u001b[1;32m--> 996\u001b[1;33m                         raise AttributeError(f\"{type(self).__name__!r} object \"\n\u001b[0m\u001b[0;32m    997\u001b[0m                                              f\"has no property {k!r}\")\n\u001b[0;32m    998\u001b[0m                     \u001b[0mret\u001b[0m\u001b[1;33m.\u001b[0m\u001b[0mappend\u001b[0m\u001b[1;33m(\u001b[0m\u001b[0mfunc\u001b[0m\u001b[1;33m(\u001b[0m\u001b[0mv\u001b[0m\u001b[1;33m)\u001b[0m\u001b[1;33m)\u001b[0m\u001b[1;33m\u001b[0m\u001b[1;33m\u001b[0m\u001b[0m\n",
      "\u001b[1;31mAttributeError\u001b[0m: 'Line2D' object has no property 'colors'"
     ]
    },
    {
     "data": {
      "image/png": "[encoded data removed]",
      "text/plain": [
       "<Figure size 1008x504 with 1 Axes>"
      ]
     },
     "metadata": {},
     "output_type": "display_data"
    }
   ],
   "source": [
    "# lets plot these values using lineplot\n",
    "data[['Genre1','gross']].groupby(['Genre1']).agg(['max','mean','min']).plot(kind = 'line', colors = ['red','black','blue'])\n",
    "plt.title('Which Genre is Most Bankable?', fontsize = 20)\n",
    "plt.xticks(np.arange(17), ['Action', 'Adventure', 'Animation', 'Biography', 'Comedy', 'Crime',\n",
    "       'Documentary', 'Drama', 'Family', 'Fantasy', 'Horror', 'Musical',\n",
    "       'Mystery', 'Romance', 'Sci-Fi', 'Thriller', 'Western'], rotation = 90, fontsize = 15)\n",
    "plt.ylabel('Gross', fontsize = 15)\n",
    "#plt.xlabel(' ',)\n",
    "plt.show()"
   ]
  },
  {
   "cell_type": "code",
   "execution_count": 59,
   "metadata": {},
   "outputs": [
    {
     "name": "stdout",
     "output_type": "stream",
     "text": [
      "The Most Profitable Movie from each Genre\n"
     ]
    },
    {
     "ename": "ValueError",
     "evalue": "'reds' is not a valid value for name; supported values are 'Accent', 'Accent_r', 'Blues', 'Blues_r', 'BrBG', 'BrBG_r', 'BuGn', 'BuGn_r', 'BuPu', 'BuPu_r', 'CMRmap', 'CMRmap_r', 'Dark2', 'Dark2_r', 'GnBu', 'GnBu_r', 'Greens', 'Greens_r', 'Greys', 'Greys_r', 'OrRd', 'OrRd_r', 'Oranges', 'Oranges_r', 'PRGn', 'PRGn_r', 'Paired', 'Paired_r', 'Pastel1', 'Pastel1_r', 'Pastel2', 'Pastel2_r', 'PiYG', 'PiYG_r', 'PuBu', 'PuBuGn', 'PuBuGn_r', 'PuBu_r', 'PuOr', 'PuOr_r', 'PuRd', 'PuRd_r', 'Purples', 'Purples_r', 'RdBu', 'RdBu_r', 'RdGy', 'RdGy_r', 'RdPu', 'RdPu_r', 'RdYlBu', 'RdYlBu_r', 'RdYlGn', 'RdYlGn_r', 'Reds', 'Reds_r', 'Set1', 'Set1_r', 'Set2', 'Set2_r', 'Set3', 'Set3_r', 'Spectral', 'Spectral_r', 'Wistia', 'Wistia_r', 'YlGn', 'YlGnBu', 'YlGnBu_r', 'YlGn_r', 'YlOrBr', 'YlOrBr_r', 'YlOrRd', 'YlOrRd_r', 'afmhot', 'afmhot_r', 'autumn', 'autumn_r', 'binary', 'binary_r', 'bone', 'bone_r', 'brg', 'brg_r', 'bwr', 'bwr_r', 'cividis', 'cividis_r', 'cool', 'cool_r', 'coolwarm', 'coolwarm_r', 'copper', 'copper_r', 'cubehelix', 'cubehelix_r', 'flag', 'flag_r', 'gist_earth', 'gist_earth_r', 'gist_gray', 'gist_gray_r', 'gist_heat', 'gist_heat_r', 'gist_ncar', 'gist_ncar_r', 'gist_rainbow', 'gist_rainbow_r', 'gist_stern', 'gist_stern_r', 'gist_yarg', 'gist_yarg_r', 'gnuplot', 'gnuplot2', 'gnuplot2_r', 'gnuplot_r', 'gray', 'gray_r', 'hot', 'hot_r', 'hsv', 'hsv_r', 'icefire', 'icefire_r', 'inferno', 'inferno_r', 'jet', 'jet_r', 'magma', 'magma_r', 'mako', 'mako_r', 'nipy_spectral', 'nipy_spectral_r', 'ocean', 'ocean_r', 'pink', 'pink_r', 'plasma', 'plasma_r', 'prism', 'prism_r', 'rainbow', 'rainbow_r', 'rocket', 'rocket_r', 'seismic', 'seismic_r', 'spring', 'spring_r', 'summer', 'summer_r', 'tab10', 'tab10_r', 'tab20', 'tab20_r', 'tab20b', 'tab20b_r', 'tab20c', 'tab20c_r', 'terrain', 'terrain_r', 'turbo', 'turbo_r', 'twilight', 'twilight_r', 'twilight_shifted', 'twilight_shifted_r', 'viridis', 'viridis_r', 'vlag', 'vlag_r', 'winter', 'winter_r'",
     "output_type": "error",
     "traceback": [
      "\u001b[1;31m---------------------------------------------------------------------------\u001b[0m",
      "\u001b[1;31mValueError\u001b[0m                                Traceback (most recent call last)",
      "\u001b[1;32mc:\\users\\guptatan\\appdata\\local\\programs\\python\\python36\\lib\\site-packages\\IPython\\core\\formatters.py\u001b[0m in \u001b[0;36m__call__\u001b[1;34m(self, obj)\u001b[0m\n\u001b[0;32m    343\u001b[0m             \u001b[0mmethod\u001b[0m \u001b[1;33m=\u001b[0m \u001b[0mget_real_method\u001b[0m\u001b[1;33m(\u001b[0m\u001b[0mobj\u001b[0m\u001b[1;33m,\u001b[0m \u001b[0mself\u001b[0m\u001b[1;33m.\u001b[0m\u001b[0mprint_method\u001b[0m\u001b[1;33m)\u001b[0m\u001b[1;33m\u001b[0m\u001b[1;33m\u001b[0m\u001b[0m\n\u001b[0;32m    344\u001b[0m             \u001b[1;32mif\u001b[0m \u001b[0mmethod\u001b[0m \u001b[1;32mis\u001b[0m \u001b[1;32mnot\u001b[0m \u001b[1;32mNone\u001b[0m\u001b[1;33m:\u001b[0m\u001b[1;33m\u001b[0m\u001b[1;33m\u001b[0m\u001b[0m\n\u001b[1;32m--> 345\u001b[1;33m                 \u001b[1;32mreturn\u001b[0m \u001b[0mmethod\u001b[0m\u001b[1;33m(\u001b[0m\u001b[1;33m)\u001b[0m\u001b[1;33m\u001b[0m\u001b[1;33m\u001b[0m\u001b[0m\n\u001b[0m\u001b[0;32m    346\u001b[0m             \u001b[1;32mreturn\u001b[0m \u001b[1;32mNone\u001b[0m\u001b[1;33m\u001b[0m\u001b[1;33m\u001b[0m\u001b[0m\n\u001b[0;32m    347\u001b[0m         \u001b[1;32melse\u001b[0m\u001b[1;33m:\u001b[0m\u001b[1;33m\u001b[0m\u001b[1;33m\u001b[0m\u001b[0m\n",
      "\u001b[1;32mc:\\users\\guptatan\\appdata\\local\\programs\\python\\python36\\lib\\site-packages\\pandas\\io\\formats\\style.py\u001b[0m in \u001b[0;36m_repr_html_\u001b[1;34m(self)\u001b[0m\n\u001b[0;32m    191\u001b[0m         \u001b[0mHooks\u001b[0m \u001b[0minto\u001b[0m \u001b[0mJupyter\u001b[0m \u001b[0mnotebook\u001b[0m \u001b[0mrich\u001b[0m \u001b[0mdisplay\u001b[0m \u001b[0msystem\u001b[0m\u001b[1;33m.\u001b[0m\u001b[1;33m\u001b[0m\u001b[1;33m\u001b[0m\u001b[0m\n\u001b[0;32m    192\u001b[0m         \"\"\"\n\u001b[1;32m--> 193\u001b[1;33m         \u001b[1;32mreturn\u001b[0m \u001b[0mself\u001b[0m\u001b[1;33m.\u001b[0m\u001b[0mrender\u001b[0m\u001b[1;33m(\u001b[0m\u001b[1;33m)\u001b[0m\u001b[1;33m\u001b[0m\u001b[1;33m\u001b[0m\u001b[0m\n\u001b[0m\u001b[0;32m    194\u001b[0m \u001b[1;33m\u001b[0m\u001b[0m\n\u001b[0;32m    195\u001b[0m     \u001b[1;33m@\u001b[0m\u001b[0mdoc\u001b[0m\u001b[1;33m(\u001b[0m\u001b[0mNDFrame\u001b[0m\u001b[1;33m.\u001b[0m\u001b[0mto_excel\u001b[0m\u001b[1;33m,\u001b[0m \u001b[0mklass\u001b[0m\u001b[1;33m=\u001b[0m\u001b[1;34m\"Styler\"\u001b[0m\u001b[1;33m)\u001b[0m\u001b[1;33m\u001b[0m\u001b[1;33m\u001b[0m\u001b[0m\n",
      "\u001b[1;32mc:\\users\\guptatan\\appdata\\local\\programs\\python\\python36\\lib\\site-packages\\pandas\\io\\formats\\style.py\u001b[0m in \u001b[0;36mrender\u001b[1;34m(self, **kwargs)\u001b[0m\n\u001b[0;32m    538\u001b[0m         \u001b[1;33m*\u001b[0m \u001b[0mtable_attributes\u001b[0m\u001b[1;33m\u001b[0m\u001b[1;33m\u001b[0m\u001b[0m\n\u001b[0;32m    539\u001b[0m         \"\"\"\n\u001b[1;32m--> 540\u001b[1;33m         \u001b[0mself\u001b[0m\u001b[1;33m.\u001b[0m\u001b[0m_compute\u001b[0m\u001b[1;33m(\u001b[0m\u001b[1;33m)\u001b[0m\u001b[1;33m\u001b[0m\u001b[1;33m\u001b[0m\u001b[0m\n\u001b[0m\u001b[0;32m    541\u001b[0m         \u001b[1;31m# TODO: namespace all the pandas keys\u001b[0m\u001b[1;33m\u001b[0m\u001b[1;33m\u001b[0m\u001b[1;33m\u001b[0m\u001b[0m\n\u001b[0;32m    542\u001b[0m         \u001b[0md\u001b[0m \u001b[1;33m=\u001b[0m \u001b[0mself\u001b[0m\u001b[1;33m.\u001b[0m\u001b[0m_translate\u001b[0m\u001b[1;33m(\u001b[0m\u001b[1;33m)\u001b[0m\u001b[1;33m\u001b[0m\u001b[1;33m\u001b[0m\u001b[0m\n",
      "\u001b[1;32mc:\\users\\guptatan\\appdata\\local\\programs\\python\\python36\\lib\\site-packages\\pandas\\io\\formats\\style.py\u001b[0m in \u001b[0;36m_compute\u001b[1;34m(self)\u001b[0m\n\u001b[0;32m    623\u001b[0m         \u001b[0mr\u001b[0m \u001b[1;33m=\u001b[0m \u001b[0mself\u001b[0m\u001b[1;33m\u001b[0m\u001b[1;33m\u001b[0m\u001b[0m\n\u001b[0;32m    624\u001b[0m         \u001b[1;32mfor\u001b[0m \u001b[0mfunc\u001b[0m\u001b[1;33m,\u001b[0m \u001b[0margs\u001b[0m\u001b[1;33m,\u001b[0m \u001b[0mkwargs\u001b[0m \u001b[1;32min\u001b[0m \u001b[0mself\u001b[0m\u001b[1;33m.\u001b[0m\u001b[0m_todo\u001b[0m\u001b[1;33m:\u001b[0m\u001b[1;33m\u001b[0m\u001b[1;33m\u001b[0m\u001b[0m\n\u001b[1;32m--> 625\u001b[1;33m             \u001b[0mr\u001b[0m \u001b[1;33m=\u001b[0m \u001b[0mfunc\u001b[0m\u001b[1;33m(\u001b[0m\u001b[0mself\u001b[0m\u001b[1;33m)\u001b[0m\u001b[1;33m(\u001b[0m\u001b[1;33m*\u001b[0m\u001b[0margs\u001b[0m\u001b[1;33m,\u001b[0m \u001b[1;33m**\u001b[0m\u001b[0mkwargs\u001b[0m\u001b[1;33m)\u001b[0m\u001b[1;33m\u001b[0m\u001b[1;33m\u001b[0m\u001b[0m\n\u001b[0m\u001b[0;32m    626\u001b[0m         \u001b[1;32mreturn\u001b[0m \u001b[0mr\u001b[0m\u001b[1;33m\u001b[0m\u001b[1;33m\u001b[0m\u001b[0m\n\u001b[0;32m    627\u001b[0m \u001b[1;33m\u001b[0m\u001b[0m\n",
      "\u001b[1;32mc:\\users\\guptatan\\appdata\\local\\programs\\python\\python36\\lib\\site-packages\\pandas\\io\\formats\\style.py\u001b[0m in \u001b[0;36m_apply\u001b[1;34m(self, func, axis, subset, **kwargs)\u001b[0m\n\u001b[0;32m    637\u001b[0m         \u001b[0mdata\u001b[0m \u001b[1;33m=\u001b[0m \u001b[0mself\u001b[0m\u001b[1;33m.\u001b[0m\u001b[0mdata\u001b[0m\u001b[1;33m.\u001b[0m\u001b[0mloc\u001b[0m\u001b[1;33m[\u001b[0m\u001b[0msubset\u001b[0m\u001b[1;33m]\u001b[0m\u001b[1;33m\u001b[0m\u001b[1;33m\u001b[0m\u001b[0m\n\u001b[0;32m    638\u001b[0m         \u001b[1;32mif\u001b[0m \u001b[0maxis\u001b[0m \u001b[1;32mis\u001b[0m \u001b[1;32mnot\u001b[0m \u001b[1;32mNone\u001b[0m\u001b[1;33m:\u001b[0m\u001b[1;33m\u001b[0m\u001b[1;33m\u001b[0m\u001b[0m\n\u001b[1;32m--> 639\u001b[1;33m             \u001b[0mresult\u001b[0m \u001b[1;33m=\u001b[0m \u001b[0mdata\u001b[0m\u001b[1;33m.\u001b[0m\u001b[0mapply\u001b[0m\u001b[1;33m(\u001b[0m\u001b[0mfunc\u001b[0m\u001b[1;33m,\u001b[0m \u001b[0maxis\u001b[0m\u001b[1;33m=\u001b[0m\u001b[0maxis\u001b[0m\u001b[1;33m,\u001b[0m \u001b[0mresult_type\u001b[0m\u001b[1;33m=\u001b[0m\u001b[1;34m\"expand\"\u001b[0m\u001b[1;33m,\u001b[0m \u001b[1;33m**\u001b[0m\u001b[0mkwargs\u001b[0m\u001b[1;33m)\u001b[0m\u001b[1;33m\u001b[0m\u001b[1;33m\u001b[0m\u001b[0m\n\u001b[0m\u001b[0;32m    640\u001b[0m             \u001b[0mresult\u001b[0m\u001b[1;33m.\u001b[0m\u001b[0mcolumns\u001b[0m \u001b[1;33m=\u001b[0m \u001b[0mdata\u001b[0m\u001b[1;33m.\u001b[0m\u001b[0mcolumns\u001b[0m\u001b[1;33m\u001b[0m\u001b[1;33m\u001b[0m\u001b[0m\n\u001b[0;32m    641\u001b[0m         \u001b[1;32melse\u001b[0m\u001b[1;33m:\u001b[0m\u001b[1;33m\u001b[0m\u001b[1;33m\u001b[0m\u001b[0m\n",
      "\u001b[1;32mc:\\users\\guptatan\\appdata\\local\\programs\\python\\python36\\lib\\site-packages\\pandas\\core\\frame.py\u001b[0m in \u001b[0;36mapply\u001b[1;34m(self, func, axis, raw, result_type, args, **kwds)\u001b[0m\n\u001b[0;32m   7539\u001b[0m             \u001b[0mkwds\u001b[0m\u001b[1;33m=\u001b[0m\u001b[0mkwds\u001b[0m\u001b[1;33m,\u001b[0m\u001b[1;33m\u001b[0m\u001b[1;33m\u001b[0m\u001b[0m\n\u001b[0;32m   7540\u001b[0m         )\n\u001b[1;32m-> 7541\u001b[1;33m         \u001b[1;32mreturn\u001b[0m \u001b[0mop\u001b[0m\u001b[1;33m.\u001b[0m\u001b[0mget_result\u001b[0m\u001b[1;33m(\u001b[0m\u001b[1;33m)\u001b[0m\u001b[1;33m\u001b[0m\u001b[1;33m\u001b[0m\u001b[0m\n\u001b[0m\u001b[0;32m   7542\u001b[0m \u001b[1;33m\u001b[0m\u001b[0m\n\u001b[0;32m   7543\u001b[0m     \u001b[1;32mdef\u001b[0m \u001b[0mapplymap\u001b[0m\u001b[1;33m(\u001b[0m\u001b[0mself\u001b[0m\u001b[1;33m,\u001b[0m \u001b[0mfunc\u001b[0m\u001b[1;33m)\u001b[0m \u001b[1;33m->\u001b[0m \u001b[1;34m\"DataFrame\"\u001b[0m\u001b[1;33m:\u001b[0m\u001b[1;33m\u001b[0m\u001b[1;33m\u001b[0m\u001b[0m\n",
      "\u001b[1;32mc:\\users\\guptatan\\appdata\\local\\programs\\python\\python36\\lib\\site-packages\\pandas\\core\\apply.py\u001b[0m in \u001b[0;36mget_result\u001b[1;34m(self)\u001b[0m\n\u001b[0;32m    178\u001b[0m             \u001b[1;32mreturn\u001b[0m \u001b[0mself\u001b[0m\u001b[1;33m.\u001b[0m\u001b[0mapply_raw\u001b[0m\u001b[1;33m(\u001b[0m\u001b[1;33m)\u001b[0m\u001b[1;33m\u001b[0m\u001b[1;33m\u001b[0m\u001b[0m\n\u001b[0;32m    179\u001b[0m \u001b[1;33m\u001b[0m\u001b[0m\n\u001b[1;32m--> 180\u001b[1;33m         \u001b[1;32mreturn\u001b[0m \u001b[0mself\u001b[0m\u001b[1;33m.\u001b[0m\u001b[0mapply_standard\u001b[0m\u001b[1;33m(\u001b[0m\u001b[1;33m)\u001b[0m\u001b[1;33m\u001b[0m\u001b[1;33m\u001b[0m\u001b[0m\n\u001b[0m\u001b[0;32m    181\u001b[0m \u001b[1;33m\u001b[0m\u001b[0m\n\u001b[0;32m    182\u001b[0m     \u001b[1;32mdef\u001b[0m \u001b[0mapply_empty_result\u001b[0m\u001b[1;33m(\u001b[0m\u001b[0mself\u001b[0m\u001b[1;33m)\u001b[0m\u001b[1;33m:\u001b[0m\u001b[1;33m\u001b[0m\u001b[1;33m\u001b[0m\u001b[0m\n",
      "\u001b[1;32mc:\\users\\guptatan\\appdata\\local\\programs\\python\\python36\\lib\\site-packages\\pandas\\core\\apply.py\u001b[0m in \u001b[0;36mapply_standard\u001b[1;34m(self)\u001b[0m\n\u001b[0;32m    253\u001b[0m \u001b[1;33m\u001b[0m\u001b[0m\n\u001b[0;32m    254\u001b[0m     \u001b[1;32mdef\u001b[0m \u001b[0mapply_standard\u001b[0m\u001b[1;33m(\u001b[0m\u001b[0mself\u001b[0m\u001b[1;33m)\u001b[0m\u001b[1;33m:\u001b[0m\u001b[1;33m\u001b[0m\u001b[1;33m\u001b[0m\u001b[0m\n\u001b[1;32m--> 255\u001b[1;33m         \u001b[0mresults\u001b[0m\u001b[1;33m,\u001b[0m \u001b[0mres_index\u001b[0m \u001b[1;33m=\u001b[0m \u001b[0mself\u001b[0m\u001b[1;33m.\u001b[0m\u001b[0mapply_series_generator\u001b[0m\u001b[1;33m(\u001b[0m\u001b[1;33m)\u001b[0m\u001b[1;33m\u001b[0m\u001b[1;33m\u001b[0m\u001b[0m\n\u001b[0m\u001b[0;32m    256\u001b[0m \u001b[1;33m\u001b[0m\u001b[0m\n\u001b[0;32m    257\u001b[0m         \u001b[1;31m# wrap results\u001b[0m\u001b[1;33m\u001b[0m\u001b[1;33m\u001b[0m\u001b[1;33m\u001b[0m\u001b[0m\n",
      "\u001b[1;32mc:\\users\\guptatan\\appdata\\local\\programs\\python\\python36\\lib\\site-packages\\pandas\\core\\apply.py\u001b[0m in \u001b[0;36mapply_series_generator\u001b[1;34m(self)\u001b[0m\n\u001b[0;32m    282\u001b[0m                 \u001b[1;32mfor\u001b[0m \u001b[0mi\u001b[0m\u001b[1;33m,\u001b[0m \u001b[0mv\u001b[0m \u001b[1;32min\u001b[0m \u001b[0menumerate\u001b[0m\u001b[1;33m(\u001b[0m\u001b[0mseries_gen\u001b[0m\u001b[1;33m)\u001b[0m\u001b[1;33m:\u001b[0m\u001b[1;33m\u001b[0m\u001b[1;33m\u001b[0m\u001b[0m\n\u001b[0;32m    283\u001b[0m                     \u001b[1;31m# ignore SettingWithCopy here in case the user mutates\u001b[0m\u001b[1;33m\u001b[0m\u001b[1;33m\u001b[0m\u001b[1;33m\u001b[0m\u001b[0m\n\u001b[1;32m--> 284\u001b[1;33m                     \u001b[0mresults\u001b[0m\u001b[1;33m[\u001b[0m\u001b[0mi\u001b[0m\u001b[1;33m]\u001b[0m \u001b[1;33m=\u001b[0m \u001b[0mself\u001b[0m\u001b[1;33m.\u001b[0m\u001b[0mf\u001b[0m\u001b[1;33m(\u001b[0m\u001b[0mv\u001b[0m\u001b[1;33m)\u001b[0m\u001b[1;33m\u001b[0m\u001b[1;33m\u001b[0m\u001b[0m\n\u001b[0m\u001b[0;32m    285\u001b[0m                     \u001b[1;32mif\u001b[0m \u001b[0misinstance\u001b[0m\u001b[1;33m(\u001b[0m\u001b[0mresults\u001b[0m\u001b[1;33m[\u001b[0m\u001b[0mi\u001b[0m\u001b[1;33m]\u001b[0m\u001b[1;33m,\u001b[0m \u001b[0mABCSeries\u001b[0m\u001b[1;33m)\u001b[0m\u001b[1;33m:\u001b[0m\u001b[1;33m\u001b[0m\u001b[1;33m\u001b[0m\u001b[0m\n\u001b[0;32m    286\u001b[0m                         \u001b[1;31m# If we have a view on v, we need to make a copy because\u001b[0m\u001b[1;33m\u001b[0m\u001b[1;33m\u001b[0m\u001b[1;33m\u001b[0m\u001b[0m\n",
      "\u001b[1;32mc:\\users\\guptatan\\appdata\\local\\programs\\python\\python36\\lib\\site-packages\\pandas\\core\\apply.py\u001b[0m in \u001b[0;36mf\u001b[1;34m(x)\u001b[0m\n\u001b[0;32m    107\u001b[0m \u001b[1;33m\u001b[0m\u001b[0m\n\u001b[0;32m    108\u001b[0m             \u001b[1;32mdef\u001b[0m \u001b[0mf\u001b[0m\u001b[1;33m(\u001b[0m\u001b[0mx\u001b[0m\u001b[1;33m)\u001b[0m\u001b[1;33m:\u001b[0m\u001b[1;33m\u001b[0m\u001b[1;33m\u001b[0m\u001b[0m\n\u001b[1;32m--> 109\u001b[1;33m                 \u001b[1;32mreturn\u001b[0m \u001b[0mfunc\u001b[0m\u001b[1;33m(\u001b[0m\u001b[0mx\u001b[0m\u001b[1;33m,\u001b[0m \u001b[1;33m*\u001b[0m\u001b[0margs\u001b[0m\u001b[1;33m,\u001b[0m \u001b[1;33m**\u001b[0m\u001b[0mkwds\u001b[0m\u001b[1;33m)\u001b[0m\u001b[1;33m\u001b[0m\u001b[1;33m\u001b[0m\u001b[0m\n\u001b[0m\u001b[0;32m    110\u001b[0m \u001b[1;33m\u001b[0m\u001b[0m\n\u001b[0;32m    111\u001b[0m         \u001b[1;32melse\u001b[0m\u001b[1;33m:\u001b[0m\u001b[1;33m\u001b[0m\u001b[1;33m\u001b[0m\u001b[0m\n",
      "\u001b[1;32mc:\\users\\guptatan\\appdata\\local\\programs\\python\\python36\\lib\\site-packages\\pandas\\io\\formats\\style.py\u001b[0m in \u001b[0;36m_background_gradient\u001b[1;34m(s, cmap, low, high, text_color_threshold, vmin, vmax)\u001b[0m\n\u001b[0;32m   1131\u001b[0m             \u001b[1;31m# matplotlib colors.Normalize modifies inplace?\u001b[0m\u001b[1;33m\u001b[0m\u001b[1;33m\u001b[0m\u001b[1;33m\u001b[0m\u001b[0m\n\u001b[0;32m   1132\u001b[0m             \u001b[1;31m# https://github.com/matplotlib/matplotlib/issues/5427\u001b[0m\u001b[1;33m\u001b[0m\u001b[1;33m\u001b[0m\u001b[1;33m\u001b[0m\u001b[0m\n\u001b[1;32m-> 1133\u001b[1;33m             \u001b[0mrgbas\u001b[0m \u001b[1;33m=\u001b[0m \u001b[0mplt\u001b[0m\u001b[1;33m.\u001b[0m\u001b[0mcm\u001b[0m\u001b[1;33m.\u001b[0m\u001b[0mget_cmap\u001b[0m\u001b[1;33m(\u001b[0m\u001b[0mcmap\u001b[0m\u001b[1;33m)\u001b[0m\u001b[1;33m(\u001b[0m\u001b[0mnorm\u001b[0m\u001b[1;33m(\u001b[0m\u001b[0ms\u001b[0m\u001b[1;33m.\u001b[0m\u001b[0mto_numpy\u001b[0m\u001b[1;33m(\u001b[0m\u001b[0mdtype\u001b[0m\u001b[1;33m=\u001b[0m\u001b[0mfloat\u001b[0m\u001b[1;33m)\u001b[0m\u001b[1;33m)\u001b[0m\u001b[1;33m)\u001b[0m\u001b[1;33m\u001b[0m\u001b[1;33m\u001b[0m\u001b[0m\n\u001b[0m\u001b[0;32m   1134\u001b[0m \u001b[1;33m\u001b[0m\u001b[0m\n\u001b[0;32m   1135\u001b[0m             \u001b[1;32mdef\u001b[0m \u001b[0mrelative_luminance\u001b[0m\u001b[1;33m(\u001b[0m\u001b[0mrgba\u001b[0m\u001b[1;33m)\u001b[0m \u001b[1;33m->\u001b[0m \u001b[0mfloat\u001b[0m\u001b[1;33m:\u001b[0m\u001b[1;33m\u001b[0m\u001b[1;33m\u001b[0m\u001b[0m\n",
      "\u001b[1;32mc:\\users\\guptatan\\appdata\\local\\programs\\python\\python36\\lib\\site-packages\\matplotlib\\cm.py\u001b[0m in \u001b[0;36mget_cmap\u001b[1;34m(name, lut)\u001b[0m\n\u001b[0;32m    202\u001b[0m     \u001b[1;32mif\u001b[0m \u001b[0misinstance\u001b[0m\u001b[1;33m(\u001b[0m\u001b[0mname\u001b[0m\u001b[1;33m,\u001b[0m \u001b[0mcolors\u001b[0m\u001b[1;33m.\u001b[0m\u001b[0mColormap\u001b[0m\u001b[1;33m)\u001b[0m\u001b[1;33m:\u001b[0m\u001b[1;33m\u001b[0m\u001b[1;33m\u001b[0m\u001b[0m\n\u001b[0;32m    203\u001b[0m         \u001b[1;32mreturn\u001b[0m \u001b[0mname\u001b[0m\u001b[1;33m\u001b[0m\u001b[1;33m\u001b[0m\u001b[0m\n\u001b[1;32m--> 204\u001b[1;33m     \u001b[0mcbook\u001b[0m\u001b[1;33m.\u001b[0m\u001b[0m_check_in_list\u001b[0m\u001b[1;33m(\u001b[0m\u001b[0msorted\u001b[0m\u001b[1;33m(\u001b[0m\u001b[0m_cmap_registry\u001b[0m\u001b[1;33m)\u001b[0m\u001b[1;33m,\u001b[0m \u001b[0mname\u001b[0m\u001b[1;33m=\u001b[0m\u001b[0mname\u001b[0m\u001b[1;33m)\u001b[0m\u001b[1;33m\u001b[0m\u001b[1;33m\u001b[0m\u001b[0m\n\u001b[0m\u001b[0;32m    205\u001b[0m     \u001b[1;32mif\u001b[0m \u001b[0mlut\u001b[0m \u001b[1;32mis\u001b[0m \u001b[1;32mNone\u001b[0m\u001b[1;33m:\u001b[0m\u001b[1;33m\u001b[0m\u001b[1;33m\u001b[0m\u001b[0m\n\u001b[0;32m    206\u001b[0m         \u001b[1;32mreturn\u001b[0m \u001b[0m_cmap_registry\u001b[0m\u001b[1;33m[\u001b[0m\u001b[0mname\u001b[0m\u001b[1;33m]\u001b[0m\u001b[1;33m\u001b[0m\u001b[1;33m\u001b[0m\u001b[0m\n",
      "\u001b[1;32mc:\\users\\guptatan\\appdata\\local\\programs\\python\\python36\\lib\\site-packages\\matplotlib\\cbook\\__init__.py\u001b[0m in \u001b[0;36m_check_in_list\u001b[1;34m(_values, **kwargs)\u001b[0m\n\u001b[0;32m   2248\u001b[0m             raise ValueError(\n\u001b[0;32m   2249\u001b[0m                 \u001b[1;34m\"{!r} is not a valid value for {}; supported values are {}\"\u001b[0m\u001b[1;33m\u001b[0m\u001b[1;33m\u001b[0m\u001b[0m\n\u001b[1;32m-> 2250\u001b[1;33m                 .format(v, k, ', '.join(map(repr, values))))\n\u001b[0m\u001b[0;32m   2251\u001b[0m \u001b[1;33m\u001b[0m\u001b[0m\n\u001b[0;32m   2252\u001b[0m \u001b[1;33m\u001b[0m\u001b[0m\n",
      "\u001b[1;31mValueError\u001b[0m: 'reds' is not a valid value for name; supported values are 'Accent', 'Accent_r', 'Blues', 'Blues_r', 'BrBG', 'BrBG_r', 'BuGn', 'BuGn_r', 'BuPu', 'BuPu_r', 'CMRmap', 'CMRmap_r', 'Dark2', 'Dark2_r', 'GnBu', 'GnBu_r', 'Greens', 'Greens_r', 'Greys', 'Greys_r', 'OrRd', 'OrRd_r', 'Oranges', 'Oranges_r', 'PRGn', 'PRGn_r', 'Paired', 'Paired_r', 'Pastel1', 'Pastel1_r', 'Pastel2', 'Pastel2_r', 'PiYG', 'PiYG_r', 'PuBu', 'PuBuGn', 'PuBuGn_r', 'PuBu_r', 'PuOr', 'PuOr_r', 'PuRd', 'PuRd_r', 'Purples', 'Purples_r', 'RdBu', 'RdBu_r', 'RdGy', 'RdGy_r', 'RdPu', 'RdPu_r', 'RdYlBu', 'RdYlBu_r', 'RdYlGn', 'RdYlGn_r', 'Reds', 'Reds_r', 'Set1', 'Set1_r', 'Set2', 'Set2_r', 'Set3', 'Set3_r', 'Spectral', 'Spectral_r', 'Wistia', 'Wistia_r', 'YlGn', 'YlGnBu', 'YlGnBu_r', 'YlGn_r', 'YlOrBr', 'YlOrBr_r', 'YlOrRd', 'YlOrRd_r', 'afmhot', 'afmhot_r', 'autumn', 'autumn_r', 'binary', 'binary_r', 'bone', 'bone_r', 'brg', 'brg_r', 'bwr', 'bwr_r', 'cividis', 'cividis_r', 'cool', 'cool_r', 'coolwarm', 'coolwarm_r', 'copper', 'copper_r', 'cubehelix', 'cubehelix_r', 'flag', 'flag_r', 'gist_earth', 'gist_earth_r', 'gist_gray', 'gist_gray_r', 'gist_heat', 'gist_heat_r', 'gist_ncar', 'gist_ncar_r', 'gist_rainbow', 'gist_rainbow_r', 'gist_stern', 'gist_stern_r', 'gist_yarg', 'gist_yarg_r', 'gnuplot', 'gnuplot2', 'gnuplot2_r', 'gnuplot_r', 'gray', 'gray_r', 'hot', 'hot_r', 'hsv', 'hsv_r', 'icefire', 'icefire_r', 'inferno', 'inferno_r', 'jet', 'jet_r', 'magma', 'magma_r', 'mako', 'mako_r', 'nipy_spectral', 'nipy_spectral_r', 'ocean', 'ocean_r', 'pink', 'pink_r', 'plasma', 'plasma_r', 'prism', 'prism_r', 'rainbow', 'rainbow_r', 'rocket', 'rocket_r', 'seismic', 'seismic_r', 'spring', 'spring_r', 'summer', 'summer_r', 'tab10', 'tab10_r', 'tab20', 'tab20_r', 'tab20b', 'tab20b_r', 'tab20c', 'tab20c_r', 'terrain', 'terrain_r', 'turbo', 'turbo_r', 'twilight', 'twilight_r', 'twilight_shifted', 'twilight_shifted_r', 'viridis', 'viridis_r', 'vlag', 'vlag_r', 'winter', 'winter_r'"
     ]
    },
    {
     "data": {
      "text/plain": [
       "<pandas.io.formats.style.Styler at 0x23950754da0>"
      ]
     },
     "metadata": {},
     "output_type": "display_data"
    }
   ],
   "source": [
    "print('The Most Profitable Movie from each Genre')\n",
    "display(data.loc[data.groupby(data['Genre1'])['profit'].idxmax()][['Genre1',\n",
    "                                    'movie_title','gross']].style.background_gradient(cmap = 'reds'))"
   ]
  },
  {
   "cell_type": "code",
   "execution_count": 57,
   "metadata": {},
   "outputs": [
    {
     "name": "stdout",
     "output_type": "stream",
     "text": [
      "Most Profitable Years in Box Office\n"
     ]
    },
    {
     "data": {
      "text/html": [
       "<style  type=\"text/css\" >\n",
       "#T_2f08802c_33f6_11eb_b892_58a0239715e3row0_col0{\n",
       "            background-color:  #00441b;\n",
       "            color:  #f1f1f1;\n",
       "        }#T_2f08802c_33f6_11eb_b892_58a0239715e3row1_col0{\n",
       "            background-color:  #006c2c;\n",
       "            color:  #f1f1f1;\n",
       "        }#T_2f08802c_33f6_11eb_b892_58a0239715e3row2_col0{\n",
       "            background-color:  #248c46;\n",
       "            color:  #000000;\n",
       "        }#T_2f08802c_33f6_11eb_b892_58a0239715e3row3_col0{\n",
       "            background-color:  #46ae60;\n",
       "            color:  #000000;\n",
       "        }#T_2f08802c_33f6_11eb_b892_58a0239715e3row4_col0{\n",
       "            background-color:  #86cc85;\n",
       "            color:  #000000;\n",
       "        }#T_2f08802c_33f6_11eb_b892_58a0239715e3row5_col0{\n",
       "            background-color:  #9ed798;\n",
       "            color:  #000000;\n",
       "        }#T_2f08802c_33f6_11eb_b892_58a0239715e3row6_col0{\n",
       "            background-color:  #acdea6;\n",
       "            color:  #000000;\n",
       "        }#T_2f08802c_33f6_11eb_b892_58a0239715e3row7_col0{\n",
       "            background-color:  #eaf7e6;\n",
       "            color:  #000000;\n",
       "        }#T_2f08802c_33f6_11eb_b892_58a0239715e3row8_col0{\n",
       "            background-color:  #f5fbf3;\n",
       "            color:  #000000;\n",
       "        }#T_2f08802c_33f6_11eb_b892_58a0239715e3row9_col0{\n",
       "            background-color:  #f7fcf5;\n",
       "            color:  #000000;\n",
       "        }</style><table id=\"T_2f08802c_33f6_11eb_b892_58a0239715e3\" ><thead>    <tr>        <th class=\"blank\" ></th>        <th class=\"blank level0\" ></th>        <th class=\"col_heading level0 col0\" >profit</th>    </tr>    <tr>        <th class=\"index_name level0\" >language</th>        <th class=\"index_name level1\" >title_year</th>        <th class=\"blank\" ></th>    </tr></thead><tbody>\n",
       "                <tr>\n",
       "                        <th id=\"T_2f08802c_33f6_11eb_b892_58a0239715e3level0_row0\" class=\"row_heading level0 row0\" rowspan=10>English</th>\n",
       "                        <th id=\"T_2f08802c_33f6_11eb_b892_58a0239715e3level1_row0\" class=\"row_heading level1 row0\" >2014</th>\n",
       "                        <td id=\"T_2f08802c_33f6_11eb_b892_58a0239715e3row0_col0\" class=\"data row0 col0\" >2796.181463</td>\n",
       "            </tr>\n",
       "            <tr>\n",
       "                                <th id=\"T_2f08802c_33f6_11eb_b892_58a0239715e3level1_row1\" class=\"row_heading level1 row1\" >2012</th>\n",
       "                        <td id=\"T_2f08802c_33f6_11eb_b892_58a0239715e3row1_col0\" class=\"data row1 col0\" >2632.358478</td>\n",
       "            </tr>\n",
       "            <tr>\n",
       "                                <th id=\"T_2f08802c_33f6_11eb_b892_58a0239715e3level1_row2\" class=\"row_heading level1 row2\" >2015</th>\n",
       "                        <td id=\"T_2f08802c_33f6_11eb_b892_58a0239715e3row2_col0\" class=\"data row2 col0\" >2460.571980</td>\n",
       "            </tr>\n",
       "            <tr>\n",
       "                                <th id=\"T_2f08802c_33f6_11eb_b892_58a0239715e3level1_row3\" class=\"row_heading level1 row3\" >2002</th>\n",
       "                        <td id=\"T_2f08802c_33f6_11eb_b892_58a0239715e3row3_col0\" class=\"data row3 col0\" >2286.399366</td>\n",
       "            </tr>\n",
       "            <tr>\n",
       "                                <th id=\"T_2f08802c_33f6_11eb_b892_58a0239715e3level1_row4\" class=\"row_heading level1 row4\" >2009</th>\n",
       "                        <td id=\"T_2f08802c_33f6_11eb_b892_58a0239715e3row4_col0\" class=\"data row4 col0\" >2072.569655</td>\n",
       "            </tr>\n",
       "            <tr>\n",
       "                                <th id=\"T_2f08802c_33f6_11eb_b892_58a0239715e3level1_row5\" class=\"row_heading level1 row5\" >2013</th>\n",
       "                        <td id=\"T_2f08802c_33f6_11eb_b892_58a0239715e3row5_col0\" class=\"data row5 col0\" >1985.726307</td>\n",
       "            </tr>\n",
       "            <tr>\n",
       "                                <th id=\"T_2f08802c_33f6_11eb_b892_58a0239715e3level1_row6\" class=\"row_heading level1 row6\" >2003</th>\n",
       "                        <td id=\"T_2f08802c_33f6_11eb_b892_58a0239715e3row6_col0\" class=\"data row6 col0\" >1924.411513</td>\n",
       "            </tr>\n",
       "            <tr>\n",
       "                                <th id=\"T_2f08802c_33f6_11eb_b892_58a0239715e3level1_row7\" class=\"row_heading level1 row7\" >1994</th>\n",
       "                        <td id=\"T_2f08802c_33f6_11eb_b892_58a0239715e3row7_col0\" class=\"data row7 col0\" >1600.413059</td>\n",
       "            </tr>\n",
       "            <tr>\n",
       "                                <th id=\"T_2f08802c_33f6_11eb_b892_58a0239715e3level1_row8\" class=\"row_heading level1 row8\" >2007</th>\n",
       "                        <td id=\"T_2f08802c_33f6_11eb_b892_58a0239715e3row8_col0\" class=\"data row8 col0\" >1500.938592</td>\n",
       "            </tr>\n",
       "            <tr>\n",
       "                                <th id=\"T_2f08802c_33f6_11eb_b892_58a0239715e3level1_row9\" class=\"row_heading level1 row9\" >2001</th>\n",
       "                        <td id=\"T_2f08802c_33f6_11eb_b892_58a0239715e3row9_col0\" class=\"data row9 col0\" >1480.460385</td>\n",
       "            </tr>\n",
       "    </tbody></table>"
      ],
      "text/plain": [
       "<pandas.io.formats.style.Styler at 0x239506a9fd0>"
      ]
     },
     "metadata": {},
     "output_type": "display_data"
    }
   ],
   "source": [
    "# lets convert year into integer\n",
    "data['title_year'] = data['title_year'].astype('int')\n",
    "\n",
    "print('Most Profitable Years in Box Office')\n",
    "display(data[['title_year','language','profit']].groupby(['language',\n",
    "                                    'title_year']).agg('sum').sort_values(by = 'profit',\n",
    "                                     ascending = False).head(10).style.background_gradient(cmap = 'Greens'))"
   ]
  },
  {
   "cell_type": "code",
   "execution_count": 56,
   "metadata": {},
   "outputs": [
    {
     "data": {
      "image/png": "[encoded data removed]",
      "text/plain": [
       "<Figure size 1008x504 with 1 Axes>"
      ]
     },
     "metadata": {},
     "output_type": "display_data"
    }
   ],
   "source": [
    "# lets plot them\n",
    "sns.lineplot(data['title_year'], data['profit'], hue = data['language'])\n",
    "plt.title('Time Series for Box Office Profit for English vs Foreign Movies', fontsize = 20)\n",
    "plt.xticks(fontsize = 18)\n",
    "plt.xlabel(' ')\n",
    "plt.show()\n",
    "\n"
   ]
  },
  {
   "cell_type": "code",
   "execution_count": 153,
   "metadata": {},
   "outputs": [
    {
     "name": "stdout",
     "output_type": "stream",
     "text": [
      "Movies that Made Huge Losses\n"
     ]
    },
    {
     "data": {
      "text/html": [
       "<style  type=\"text/css\" >\n",
       "#T_e5f6ad5a_325f_11eb_ada2_58a0239715e3row0_col2{\n",
       "            background-color:  #73030f;\n",
       "            color:  #f1f1f1;\n",
       "        }#T_e5f6ad5a_325f_11eb_ada2_58a0239715e3row1_col2{\n",
       "            background-color:  #67000d;\n",
       "            color:  #f1f1f1;\n",
       "        }#T_e5f6ad5a_325f_11eb_ada2_58a0239715e3row2_col2{\n",
       "            background-color:  #fff5f0;\n",
       "            color:  #000000;\n",
       "        }#T_e5f6ad5a_325f_11eb_ada2_58a0239715e3row3_col2{\n",
       "            background-color:  #79040f;\n",
       "            color:  #f1f1f1;\n",
       "        }#T_e5f6ad5a_325f_11eb_ada2_58a0239715e3row4_col2{\n",
       "            background-color:  #bd151a;\n",
       "            color:  #f1f1f1;\n",
       "        }</style><table id=\"T_e5f6ad5a_325f_11eb_ada2_58a0239715e3\" ><thead>    <tr>        <th class=\"blank level0\" ></th>        <th class=\"col_heading level0 col0\" >movie_title</th>        <th class=\"col_heading level0 col1\" >language</th>        <th class=\"col_heading level0 col2\" >profit</th>    </tr></thead><tbody>\n",
       "                <tr>\n",
       "                        <th id=\"T_e5f6ad5a_325f_11eb_ada2_58a0239715e3level0_row0\" class=\"row_heading level0 row0\" >2323</th>\n",
       "                        <td id=\"T_e5f6ad5a_325f_11eb_ada2_58a0239715e3row0_col0\" class=\"data row0 col0\" >Princess Mononoke </td>\n",
       "                        <td id=\"T_e5f6ad5a_325f_11eb_ada2_58a0239715e3row0_col1\" class=\"data row0 col1\" >Foreign</td>\n",
       "                        <td id=\"T_e5f6ad5a_325f_11eb_ada2_58a0239715e3row0_col2\" class=\"data row0 col2\" >-2397.701809</td>\n",
       "            </tr>\n",
       "            <tr>\n",
       "                        <th id=\"T_e5f6ad5a_325f_11eb_ada2_58a0239715e3level0_row1\" class=\"row_heading level0 row1\" >2334</th>\n",
       "                        <td id=\"T_e5f6ad5a_325f_11eb_ada2_58a0239715e3row1_col0\" class=\"data row1 col0\" >Steamboy </td>\n",
       "                        <td id=\"T_e5f6ad5a_325f_11eb_ada2_58a0239715e3row1_col1\" class=\"data row1 col1\" >Foreign</td>\n",
       "                        <td id=\"T_e5f6ad5a_325f_11eb_ada2_58a0239715e3row1_col2\" class=\"data row1 col2\" >-2127.109510</td>\n",
       "            </tr>\n",
       "            <tr>\n",
       "                        <th id=\"T_e5f6ad5a_325f_11eb_ada2_58a0239715e3level0_row2\" class=\"row_heading level0 row2\" >2988</th>\n",
       "                        <td id=\"T_e5f6ad5a_325f_11eb_ada2_58a0239715e3row2_col0\" class=\"data row2 col0\" >The Host </td>\n",
       "                        <td id=\"T_e5f6ad5a_325f_11eb_ada2_58a0239715e3row2_col1\" class=\"data row2 col1\" >Foreign</td>\n",
       "                        <td id=\"T_e5f6ad5a_325f_11eb_ada2_58a0239715e3row2_col2\" class=\"data row2 col2\" >-12213.298588</td>\n",
       "            </tr>\n",
       "            <tr>\n",
       "                        <th id=\"T_e5f6ad5a_325f_11eb_ada2_58a0239715e3level0_row3\" class=\"row_heading level0 row3\" >3005</th>\n",
       "                        <td id=\"T_e5f6ad5a_325f_11eb_ada2_58a0239715e3row3_col0\" class=\"data row3 col0\" >Fateless </td>\n",
       "                        <td id=\"T_e5f6ad5a_325f_11eb_ada2_58a0239715e3row3_col1\" class=\"data row3 col1\" >Foreign</td>\n",
       "                        <td id=\"T_e5f6ad5a_325f_11eb_ada2_58a0239715e3row3_col2\" class=\"data row3 col2\" >-2499.804112</td>\n",
       "            </tr>\n",
       "            <tr>\n",
       "                        <th id=\"T_e5f6ad5a_325f_11eb_ada2_58a0239715e3level0_row4\" class=\"row_heading level0 row4\" >3859</th>\n",
       "                        <td id=\"T_e5f6ad5a_325f_11eb_ada2_58a0239715e3row4_col0\" class=\"data row4 col0\" >Lady Vengeance </td>\n",
       "                        <td id=\"T_e5f6ad5a_325f_11eb_ada2_58a0239715e3row4_col1\" class=\"data row4 col1\" >Foreign</td>\n",
       "                        <td id=\"T_e5f6ad5a_325f_11eb_ada2_58a0239715e3row4_col2\" class=\"data row4 col2\" >-4199.788333</td>\n",
       "            </tr>\n",
       "    </tbody></table>"
      ],
      "text/plain": [
       "<pandas.io.formats.style.Styler at 0x1fa6e7466d8>"
      ]
     },
     "metadata": {},
     "output_type": "display_data"
    },
    {
     "data": {
      "text/plain": [
       "0       False\n",
       "1       False\n",
       "2       False\n",
       "3       False\n",
       "5       False\n",
       "        ...  \n",
       "5033    False\n",
       "5034    False\n",
       "5035    False\n",
       "5037    False\n",
       "5042    False\n",
       "Name: profit, Length: 3789, dtype: bool"
      ]
     },
     "metadata": {},
     "output_type": "display_data"
    },
    {
     "ename": "TypeError",
     "evalue": "'NoneType' object is not subscriptable",
     "output_type": "error",
     "traceback": [
      "\u001b[1;31m---------------------------------------------------------------------------\u001b[0m",
      "\u001b[1;31mTypeError\u001b[0m                                 Traceback (most recent call last)",
      "\u001b[1;32m<ipython-input-153-3b112889ac02>\u001b[0m in \u001b[0;36m<module>\u001b[1;34m\u001b[0m\n\u001b[0;32m      3\u001b[0m                         'language','profit']].style.background_gradient(cmap = 'Reds'))\n\u001b[0;32m      4\u001b[0m \u001b[1;33m\u001b[0m\u001b[0m\n\u001b[1;32m----> 5\u001b[1;33m \u001b[0mdisplay\u001b[0m\u001b[1;33m(\u001b[0m\u001b[0mdata\u001b[0m\u001b[1;33m[\u001b[0m\u001b[1;34m'profit'\u001b[0m\u001b[1;33m]\u001b[0m \u001b[1;33m<\u001b[0m \u001b[1;33m-\u001b[0m\u001b[1;36m2000\u001b[0m\u001b[1;33m)\u001b[0m\u001b[1;33m[\u001b[0m\u001b[1;33m[\u001b[0m\u001b[1;34m'profit'\u001b[0m\u001b[1;33m]\u001b[0m\u001b[1;33m]\u001b[0m\u001b[1;33m.\u001b[0m\u001b[0mstyle\u001b[0m\u001b[1;33m.\u001b[0m\u001b[0mbackground_gradient\u001b[0m\u001b[1;33m(\u001b[0m\u001b[0mcmap\u001b[0m \u001b[1;33m=\u001b[0m \u001b[1;34m'Reds'\u001b[0m\u001b[1;33m)\u001b[0m\u001b[1;33m\u001b[0m\u001b[1;33m\u001b[0m\u001b[0m\n\u001b[0m",
      "\u001b[1;31mTypeError\u001b[0m: 'NoneType' object is not subscriptable"
     ]
    }
   ],
   "source": [
    "print(\"Movies that Made Huge Losses\")\n",
    "display(data[data['profit'] < -2000][['movie_title',\n",
    "                        'language','profit']].style.background_gradient(cmap = 'Reds'))\n",
    "\n",
    "display(data['profit'] < -2000)[['profit']].style.background_gradient(cmap = 'Reds')"
   ]
  },
  {
   "cell_type": "code",
   "execution_count": 150,
   "metadata": {},
   "outputs": [
    {
     "name": "stdout",
     "output_type": "stream",
     "text": [
      "0       False\n",
      "1       False\n",
      "2       False\n",
      "3       False\n",
      "5       False\n",
      "        ...  \n",
      "5033    False\n",
      "5034    False\n",
      "5035    False\n",
      "5037    False\n",
      "5042    False\n",
      "Name: profit, Length: 3789, dtype: bool\n"
     ]
    }
   ],
   "source": [
    "print(data['profit'] < -2000)"
   ]
  },
  {
   "cell_type": "code",
   "execution_count": 154,
   "metadata": {},
   "outputs": [
    {
     "data": {
      "text/plain": [
       "0       False\n",
       "1       False\n",
       "2       False\n",
       "3       False\n",
       "5       False\n",
       "        ...  \n",
       "5033    False\n",
       "5034    False\n",
       "5035    False\n",
       "5037    False\n",
       "5042    False\n",
       "Name: profit, Length: 3789, dtype: bool"
      ]
     },
     "metadata": {},
     "output_type": "display_data"
    },
    {
     "ename": "TypeError",
     "evalue": "'NoneType' object is not subscriptable",
     "output_type": "error",
     "traceback": [
      "\u001b[1;31m---------------------------------------------------------------------------\u001b[0m",
      "\u001b[1;31mTypeError\u001b[0m                                 Traceback (most recent call last)",
      "\u001b[1;32m<ipython-input-154-3b51a917d899>\u001b[0m in \u001b[0;36m<module>\u001b[1;34m\u001b[0m\n\u001b[1;32m----> 1\u001b[1;33m \u001b[0mdisplay\u001b[0m\u001b[1;33m(\u001b[0m\u001b[0mdata\u001b[0m\u001b[1;33m[\u001b[0m\u001b[1;34m'profit'\u001b[0m\u001b[1;33m]\u001b[0m \u001b[1;33m<\u001b[0m \u001b[1;33m-\u001b[0m\u001b[1;36m2000\u001b[0m\u001b[1;33m)\u001b[0m\u001b[1;33m[\u001b[0m\u001b[1;33m[\u001b[0m\u001b[1;34m'profit'\u001b[0m\u001b[1;33m]\u001b[0m\u001b[1;33m]\u001b[0m\u001b[1;33m.\u001b[0m\u001b[0mstyle\u001b[0m\u001b[1;33m.\u001b[0m\u001b[0mbackground_gradient\u001b[0m\u001b[1;33m(\u001b[0m\u001b[0mcmap\u001b[0m \u001b[1;33m=\u001b[0m \u001b[1;34m'Reds'\u001b[0m\u001b[1;33m)\u001b[0m\u001b[1;33m\u001b[0m\u001b[1;33m\u001b[0m\u001b[0m\n\u001b[0m",
      "\u001b[1;31mTypeError\u001b[0m: 'NoneType' object is not subscriptable"
     ]
    }
   ],
   "source": [
    "display(data['profit'] < -2000)[['profit']].style.background_gradient(cmap = 'Reds')"
   ]
  },
  {
   "cell_type": "code",
   "execution_count": 156,
   "metadata": {},
   "outputs": [
    {
     "data": {
      "text/html": [
       "<style  type=\"text/css\" >\n",
       "#T_6302cd90_3261_11eb_945f_58a0239715e3row0_col2,#T_6302cd90_3261_11eb_945f_58a0239715e3row0_col3{\n",
       "            background-color:  #ffff00;\n",
       "            color:  #000000;\n",
       "        }#T_6302cd90_3261_11eb_945f_58a0239715e3row1_col2{\n",
       "            background-color:  #ffaa55;\n",
       "            color:  #000000;\n",
       "        }#T_6302cd90_3261_11eb_945f_58a0239715e3row1_col3{\n",
       "            background-color:  #ffc837;\n",
       "            color:  #000000;\n",
       "        }#T_6302cd90_3261_11eb_945f_58a0239715e3row2_col2{\n",
       "            background-color:  #ffaf50;\n",
       "            color:  #000000;\n",
       "        }#T_6302cd90_3261_11eb_945f_58a0239715e3row2_col3{\n",
       "            background-color:  #ff58a7;\n",
       "            color:  #000000;\n",
       "        }#T_6302cd90_3261_11eb_945f_58a0239715e3row3_col2{\n",
       "            background-color:  #ff14eb;\n",
       "            color:  #f1f1f1;\n",
       "        }#T_6302cd90_3261_11eb_945f_58a0239715e3row3_col3{\n",
       "            background-color:  #ff41be;\n",
       "            color:  #000000;\n",
       "        }#T_6302cd90_3261_11eb_945f_58a0239715e3row4_col2,#T_6302cd90_3261_11eb_945f_58a0239715e3row4_col3{\n",
       "            background-color:  #ff00ff;\n",
       "            color:  #f1f1f1;\n",
       "        }</style><table id=\"T_6302cd90_3261_11eb_945f_58a0239715e3\" ><thead>    <tr>        <th class=\"blank level0\" ></th>        <th class=\"col_heading level0 col0\" >movie_title</th>        <th class=\"col_heading level0 col1\" >duration</th>        <th class=\"col_heading level0 col2\" >gross</th>        <th class=\"col_heading level0 col3\" >profit</th>    </tr></thead><tbody>\n",
       "                <tr>\n",
       "                        <th id=\"T_6302cd90_3261_11eb_945f_58a0239715e3level0_row0\" class=\"row_heading level0 row0\" >0</th>\n",
       "                        <td id=\"T_6302cd90_3261_11eb_945f_58a0239715e3row0_col0\" class=\"data row0 col0\" >Avatar </td>\n",
       "                        <td id=\"T_6302cd90_3261_11eb_945f_58a0239715e3row0_col1\" class=\"data row0 col1\" >Long</td>\n",
       "                        <td id=\"T_6302cd90_3261_11eb_945f_58a0239715e3row0_col2\" class=\"data row0 col2\" >760.505847</td>\n",
       "                        <td id=\"T_6302cd90_3261_11eb_945f_58a0239715e3row0_col3\" class=\"data row0 col3\" >523.505847</td>\n",
       "            </tr>\n",
       "            <tr>\n",
       "                        <th id=\"T_6302cd90_3261_11eb_945f_58a0239715e3level0_row1\" class=\"row_heading level0 row1\" >29</th>\n",
       "                        <td id=\"T_6302cd90_3261_11eb_945f_58a0239715e3row1_col0\" class=\"data row1 col0\" >Jurassic World </td>\n",
       "                        <td id=\"T_6302cd90_3261_11eb_945f_58a0239715e3row1_col1\" class=\"data row1 col1\" >Long</td>\n",
       "                        <td id=\"T_6302cd90_3261_11eb_945f_58a0239715e3row1_col2\" class=\"data row1 col2\" >652.177271</td>\n",
       "                        <td id=\"T_6302cd90_3261_11eb_945f_58a0239715e3row1_col3\" class=\"data row1 col3\" >502.177271</td>\n",
       "            </tr>\n",
       "            <tr>\n",
       "                        <th id=\"T_6302cd90_3261_11eb_945f_58a0239715e3level0_row2\" class=\"row_heading level0 row2\" >26</th>\n",
       "                        <td id=\"T_6302cd90_3261_11eb_945f_58a0239715e3row2_col0\" class=\"data row2 col0\" >Titanic </td>\n",
       "                        <td id=\"T_6302cd90_3261_11eb_945f_58a0239715e3row2_col1\" class=\"data row2 col1\" >Long</td>\n",
       "                        <td id=\"T_6302cd90_3261_11eb_945f_58a0239715e3row2_col2\" class=\"data row2 col2\" >658.672302</td>\n",
       "                        <td id=\"T_6302cd90_3261_11eb_945f_58a0239715e3row2_col3\" class=\"data row2 col3\" >458.672302</td>\n",
       "            </tr>\n",
       "            <tr>\n",
       "                        <th id=\"T_6302cd90_3261_11eb_945f_58a0239715e3level0_row3\" class=\"row_heading level0 row3\" >3024</th>\n",
       "                        <td id=\"T_6302cd90_3261_11eb_945f_58a0239715e3row3_col0\" class=\"data row3 col0\" >Star Wars: Episode IV - A New Hope </td>\n",
       "                        <td id=\"T_6302cd90_3261_11eb_945f_58a0239715e3row3_col1\" class=\"data row3 col1\" >Long</td>\n",
       "                        <td id=\"T_6302cd90_3261_11eb_945f_58a0239715e3row3_col2\" class=\"data row3 col2\" >460.935665</td>\n",
       "                        <td id=\"T_6302cd90_3261_11eb_945f_58a0239715e3row3_col3\" class=\"data row3 col3\" >449.935665</td>\n",
       "            </tr>\n",
       "            <tr>\n",
       "                        <th id=\"T_6302cd90_3261_11eb_945f_58a0239715e3level0_row4\" class=\"row_heading level0 row4\" >3080</th>\n",
       "                        <td id=\"T_6302cd90_3261_11eb_945f_58a0239715e3row4_col0\" class=\"data row4 col0\" >E.T. the Extra-Terrestrial </td>\n",
       "                        <td id=\"T_6302cd90_3261_11eb_945f_58a0239715e3row4_col1\" class=\"data row4 col1\" >Long</td>\n",
       "                        <td id=\"T_6302cd90_3261_11eb_945f_58a0239715e3row4_col2\" class=\"data row4 col2\" >434.949459</td>\n",
       "                        <td id=\"T_6302cd90_3261_11eb_945f_58a0239715e3row4_col3\" class=\"data row4 col3\" >424.449459</td>\n",
       "            </tr>\n",
       "    </tbody></table>"
      ],
      "text/plain": [
       "<pandas.io.formats.style.Styler at 0x1fa6ed89550>"
      ]
     },
     "metadata": {},
     "output_type": "display_data"
    },
    {
     "data": {
      "text/html": [
       "<style  type=\"text/css\" >\n",
       "#T_6306c5ee_3261_11eb_9754_58a0239715e3row0_col2{\n",
       "            background-color:  #ffd02f;\n",
       "            color:  #000000;\n",
       "        }#T_6306c5ee_3261_11eb_9754_58a0239715e3row0_col3,#T_6306c5ee_3261_11eb_9754_58a0239715e3row4_col2{\n",
       "            background-color:  #ffff00;\n",
       "            color:  #000000;\n",
       "        }#T_6306c5ee_3261_11eb_9754_58a0239715e3row1_col2,#T_6306c5ee_3261_11eb_9754_58a0239715e3row4_col3{\n",
       "            background-color:  #ff00ff;\n",
       "            color:  #f1f1f1;\n",
       "        }#T_6306c5ee_3261_11eb_9754_58a0239715e3row1_col3{\n",
       "            background-color:  #ff34cb;\n",
       "            color:  #000000;\n",
       "        }#T_6306c5ee_3261_11eb_9754_58a0239715e3row2_col2{\n",
       "            background-color:  #ff11ee;\n",
       "            color:  #f1f1f1;\n",
       "        }#T_6306c5ee_3261_11eb_9754_58a0239715e3row2_col3{\n",
       "            background-color:  #ff0ff0;\n",
       "            color:  #f1f1f1;\n",
       "        }#T_6306c5ee_3261_11eb_9754_58a0239715e3row3_col2{\n",
       "            background-color:  #ff3ec1;\n",
       "            color:  #000000;\n",
       "        }#T_6306c5ee_3261_11eb_9754_58a0239715e3row3_col3{\n",
       "            background-color:  #ff01fe;\n",
       "            color:  #f1f1f1;\n",
       "        }</style><table id=\"T_6306c5ee_3261_11eb_9754_58a0239715e3\" ><thead>    <tr>        <th class=\"blank level0\" ></th>        <th class=\"col_heading level0 col0\" >movie_title</th>        <th class=\"col_heading level0 col1\" >duration</th>        <th class=\"col_heading level0 col2\" >gross</th>        <th class=\"col_heading level0 col3\" >profit</th>    </tr></thead><tbody>\n",
       "                <tr>\n",
       "                        <th id=\"T_6306c5ee_3261_11eb_9754_58a0239715e3level0_row0\" class=\"row_heading level0 row0\" >509</th>\n",
       "                        <td id=\"T_6306c5ee_3261_11eb_9754_58a0239715e3row0_col0\" class=\"data row0 col0\" >The Lion King </td>\n",
       "                        <td id=\"T_6306c5ee_3261_11eb_9754_58a0239715e3row0_col1\" class=\"data row0 col1\" >Short</td>\n",
       "                        <td id=\"T_6306c5ee_3261_11eb_9754_58a0239715e3row0_col2\" class=\"data row0 col2\" >422.783777</td>\n",
       "                        <td id=\"T_6306c5ee_3261_11eb_9754_58a0239715e3row0_col3\" class=\"data row0 col3\" >377.783777</td>\n",
       "            </tr>\n",
       "            <tr>\n",
       "                        <th id=\"T_6306c5ee_3261_11eb_9754_58a0239715e3level0_row1\" class=\"row_heading level0 row1\" >812</th>\n",
       "                        <td id=\"T_6306c5ee_3261_11eb_9754_58a0239715e3row1_col0\" class=\"data row1 col0\" >Deadpool </td>\n",
       "                        <td id=\"T_6306c5ee_3261_11eb_9754_58a0239715e3row1_col1\" class=\"data row1 col1\" >Short</td>\n",
       "                        <td id=\"T_6306c5ee_3261_11eb_9754_58a0239715e3row1_col2\" class=\"data row1 col2\" >363.024263</td>\n",
       "                        <td id=\"T_6306c5ee_3261_11eb_9754_58a0239715e3row1_col3\" class=\"data row1 col3\" >305.024263</td>\n",
       "            </tr>\n",
       "            <tr>\n",
       "                        <th id=\"T_6306c5ee_3261_11eb_9754_58a0239715e3level0_row2\" class=\"row_heading level0 row2\" >521</th>\n",
       "                        <td id=\"T_6306c5ee_3261_11eb_9754_58a0239715e3row2_col0\" class=\"data row2 col0\" >Despicable Me 2 </td>\n",
       "                        <td id=\"T_6306c5ee_3261_11eb_9754_58a0239715e3row2_col1\" class=\"data row2 col1\" >Short</td>\n",
       "                        <td id=\"T_6306c5ee_3261_11eb_9754_58a0239715e3row2_col2\" class=\"data row2 col2\" >368.049635</td>\n",
       "                        <td id=\"T_6306c5ee_3261_11eb_9754_58a0239715e3row2_col3\" class=\"data row2 col3\" >292.049635</td>\n",
       "            </tr>\n",
       "            <tr>\n",
       "                        <th id=\"T_6306c5ee_3261_11eb_9754_58a0239715e3level0_row3\" class=\"row_heading level0 row3\" >338</th>\n",
       "                        <td id=\"T_6306c5ee_3261_11eb_9754_58a0239715e3row3_col0\" class=\"data row3 col0\" >Finding Nemo </td>\n",
       "                        <td id=\"T_6306c5ee_3261_11eb_9754_58a0239715e3row3_col1\" class=\"data row3 col1\" >Short</td>\n",
       "                        <td id=\"T_6306c5ee_3261_11eb_9754_58a0239715e3row3_col2\" class=\"data row3 col2\" >380.838870</td>\n",
       "                        <td id=\"T_6306c5ee_3261_11eb_9754_58a0239715e3row3_col3\" class=\"data row3 col3\" >286.838870</td>\n",
       "            </tr>\n",
       "            <tr>\n",
       "                        <th id=\"T_6306c5ee_3261_11eb_9754_58a0239715e3level0_row4\" class=\"row_heading level0 row4\" >582</th>\n",
       "                        <td id=\"T_6306c5ee_3261_11eb_9754_58a0239715e3row4_col0\" class=\"data row4 col0\" >Shrek 2 </td>\n",
       "                        <td id=\"T_6306c5ee_3261_11eb_9754_58a0239715e3row4_col1\" class=\"data row4 col1\" >Short</td>\n",
       "                        <td id=\"T_6306c5ee_3261_11eb_9754_58a0239715e3row4_col2\" class=\"data row4 col2\" >436.471036</td>\n",
       "                        <td id=\"T_6306c5ee_3261_11eb_9754_58a0239715e3row4_col3\" class=\"data row4 col3\" >286.471036</td>\n",
       "            </tr>\n",
       "    </tbody></table>"
      ],
      "text/plain": [
       "<pandas.io.formats.style.Styler at 0x1fa6bb71748>"
      ]
     },
     "metadata": {},
     "output_type": "display_data"
    },
    {
     "data": {
      "text/plain": [
       "Text(0.5, 1.0, 'Gross Comparison')"
      ]
     },
     "execution_count": 156,
     "metadata": {},
     "output_type": "execute_result"
    },
    {
     "data": {
      "image/png": "[encoded data removed]",
      "text/plain": [
       "<Figure size 1008x504 with 1 Axes>"
      ]
     },
     "metadata": {},
     "output_type": "display_data"
    }
   ],
   "source": [
    "display(data[data['duration'] == 'Long'][['movie_title', 'duration', 'gross',\n",
    "                    'profit']].sort_values(by = 'profit',ascending = False).head(5).style.background_gradient(cmap = 'spring'))\n",
    "\n",
    "display(data[data['duration'] == 'Short'][['movie_title', 'duration', 'gross',\n",
    "                    'profit']].sort_values(by = 'profit',ascending = False).head(5).style.background_gradient(cmap = 'spring'))\n",
    "\n",
    "sns.barplot(data['duration'], data['gross'], hue = data['language'], palette = 'spring')\n",
    "plt.title('Gross Comparison')"
   ]
  },
  {
   "cell_type": "code",
   "execution_count": 158,
   "metadata": {},
   "outputs": [
    {
     "name": "stdout",
     "output_type": "stream",
     "text": [
      "Average IMDB Score for Long Duration Movies is 7.05\n",
      "Average IMDB Score for Short Duration Movies is 6.26\n",
      "\n",
      "Highest Rated Long Duration Movie\n",
      "                     movie_title  imdb_score\n",
      "1937  The Shawshank Redemption          9.3\n",
      "\n",
      "Highest Rated Short Duration Movie\n",
      "               movie_title  imdb_score\n",
      "3175  American History X          8.6\n"
     ]
    },
    {
     "data": {
      "image/png": "[encoded data removed]",
      "text/plain": [
       "<Figure size 1008x504 with 1 Axes>"
      ]
     },
     "metadata": {},
     "output_type": "display_data"
    }
   ],
   "source": [
    "print(\"Average IMDB Score for Long Duration Movies is {0:.2f}\".format(data[data['duration'] == 'Long']['imdb_score'].mean()))\n",
    "print(\"Average IMDB Score for Short Duration Movies is {0:.2f}\".format(data[data['duration'] == 'Short']['imdb_score'].mean()))\n",
    "\n",
    "print(\"\\nHighest Rated Long Duration Movie\\n\", \n",
    "    data[data['duration'] == 'Long'][['movie_title','imdb_score']].sort_values(by = 'imdb_score', ascending = False).head(1))\n",
    "print(\"\\nHighest Rated Short Duration Movie\\n\", \n",
    "    data[data['duration'] == 'Short'][['movie_title','imdb_score']].sort_values(by = 'imdb_score', ascending = False).head(1))\n",
    "\n",
    "sns.boxplot(data['imdb_score'], data['duration'], palette = 'rainbow')\n",
    "plt.title('IMDB Ratings vs Gross', fontsize = 20)\n",
    "plt.xticks(rotation = 90)\n",
    "plt.show()"
   ]
  },
  {
   "cell_type": "code",
   "execution_count": 160,
   "metadata": {},
   "outputs": [],
   "source": [
    "def query_actors(x):\n",
    "    a = data[data['actor_1_name'] == x]\n",
    "    b = data[data['actor_2_name'] == x]\n",
    "    c = data[data['actor_3_name'] == x]\n",
    "    x = a.append(b)\n",
    "    y = x.append(c)\n",
    "    \n",
    "    y = y[['movie_title',\n",
    "       'budget',\n",
    "       'gross',\n",
    "       'title_year',\n",
    "       'genres',\n",
    "       'language',\n",
    "       'imdb_score',\n",
    "        ]]\n",
    "    return y"
   ]
  },
  {
   "cell_type": "code",
   "execution_count": 161,
   "metadata": {},
   "outputs": [
    {
     "data": {
      "text/html": [
       "<div>\n",
       "<style scoped>\n",
       "    .dataframe tbody tr th:only-of-type {\n",
       "        vertical-align: middle;\n",
       "    }\n",
       "\n",
       "    .dataframe tbody tr th {\n",
       "        vertical-align: top;\n",
       "    }\n",
       "\n",
       "    .dataframe thead th {\n",
       "        text-align: right;\n",
       "    }\n",
       "</style>\n",
       "<table border=\"1\" class=\"dataframe\">\n",
       "  <thead>\n",
       "    <tr style=\"text-align: right;\">\n",
       "      <th></th>\n",
       "      <th>movie_title</th>\n",
       "      <th>budget</th>\n",
       "      <th>gross</th>\n",
       "      <th>title_year</th>\n",
       "      <th>genres</th>\n",
       "      <th>language</th>\n",
       "      <th>imdb_score</th>\n",
       "    </tr>\n",
       "  </thead>\n",
       "  <tbody>\n",
       "    <tr>\n",
       "      <th>410</th>\n",
       "      <td>It's Complicated</td>\n",
       "      <td>85.0</td>\n",
       "      <td>112.703470</td>\n",
       "      <td>2009</td>\n",
       "      <td>Comedy|Drama|Romance</td>\n",
       "      <td>English</td>\n",
       "      <td>6.6</td>\n",
       "    </tr>\n",
       "    <tr>\n",
       "      <th>1106</th>\n",
       "      <td>The River Wild</td>\n",
       "      <td>45.0</td>\n",
       "      <td>46.815748</td>\n",
       "      <td>1994</td>\n",
       "      <td>Action|Adventure|Crime|Thriller</td>\n",
       "      <td>English</td>\n",
       "      <td>6.3</td>\n",
       "    </tr>\n",
       "    <tr>\n",
       "      <th>1204</th>\n",
       "      <td>Julie &amp; Julia</td>\n",
       "      <td>40.0</td>\n",
       "      <td>94.125426</td>\n",
       "      <td>2009</td>\n",
       "      <td>Biography|Drama|Romance</td>\n",
       "      <td>English</td>\n",
       "      <td>7.0</td>\n",
       "    </tr>\n",
       "    <tr>\n",
       "      <th>1408</th>\n",
       "      <td>The Devil Wears Prada</td>\n",
       "      <td>35.0</td>\n",
       "      <td>124.732962</td>\n",
       "      <td>2006</td>\n",
       "      <td>Comedy|Drama|Romance</td>\n",
       "      <td>English</td>\n",
       "      <td>6.8</td>\n",
       "    </tr>\n",
       "    <tr>\n",
       "      <th>1483</th>\n",
       "      <td>Lions for Lambs</td>\n",
       "      <td>35.0</td>\n",
       "      <td>14.998070</td>\n",
       "      <td>2007</td>\n",
       "      <td>Drama|Thriller|War</td>\n",
       "      <td>English</td>\n",
       "      <td>6.2</td>\n",
       "    </tr>\n",
       "    <tr>\n",
       "      <th>1575</th>\n",
       "      <td>Out of Africa</td>\n",
       "      <td>31.0</td>\n",
       "      <td>87.100000</td>\n",
       "      <td>1985</td>\n",
       "      <td>Biography|Drama|Romance</td>\n",
       "      <td>English</td>\n",
       "      <td>7.2</td>\n",
       "    </tr>\n",
       "    <tr>\n",
       "      <th>1618</th>\n",
       "      <td>Hope Springs</td>\n",
       "      <td>30.0</td>\n",
       "      <td>63.536011</td>\n",
       "      <td>2012</td>\n",
       "      <td>Comedy|Drama|Romance</td>\n",
       "      <td>English</td>\n",
       "      <td>6.3</td>\n",
       "    </tr>\n",
       "    <tr>\n",
       "      <th>1674</th>\n",
       "      <td>One True Thing</td>\n",
       "      <td>30.0</td>\n",
       "      <td>23.209440</td>\n",
       "      <td>1998</td>\n",
       "      <td>Drama</td>\n",
       "      <td>English</td>\n",
       "      <td>7.0</td>\n",
       "    </tr>\n",
       "    <tr>\n",
       "      <th>1925</th>\n",
       "      <td>The Hours</td>\n",
       "      <td>25.0</td>\n",
       "      <td>41.597830</td>\n",
       "      <td>2002</td>\n",
       "      <td>Drama|Romance</td>\n",
       "      <td>English</td>\n",
       "      <td>7.6</td>\n",
       "    </tr>\n",
       "    <tr>\n",
       "      <th>2781</th>\n",
       "      <td>The Iron Lady</td>\n",
       "      <td>13.0</td>\n",
       "      <td>29.959436</td>\n",
       "      <td>2011</td>\n",
       "      <td>Biography|Drama|History</td>\n",
       "      <td>English</td>\n",
       "      <td>6.4</td>\n",
       "    </tr>\n",
       "    <tr>\n",
       "      <th>3135</th>\n",
       "      <td>A Prairie Home Companion</td>\n",
       "      <td>10.0</td>\n",
       "      <td>20.338609</td>\n",
       "      <td>2006</td>\n",
       "      <td>Comedy|Drama|Music</td>\n",
       "      <td>English</td>\n",
       "      <td>6.8</td>\n",
       "    </tr>\n",
       "    <tr>\n",
       "      <th>860</th>\n",
       "      <td>Death Becomes Her</td>\n",
       "      <td>55.0</td>\n",
       "      <td>58.422650</td>\n",
       "      <td>1992</td>\n",
       "      <td>Comedy|Fantasy|Horror</td>\n",
       "      <td>English</td>\n",
       "      <td>6.4</td>\n",
       "    </tr>\n",
       "    <tr>\n",
       "      <th>914</th>\n",
       "      <td>Mamma Mia!</td>\n",
       "      <td>52.0</td>\n",
       "      <td>143.704210</td>\n",
       "      <td>2008</td>\n",
       "      <td>Comedy|Family|Musical|Romance</td>\n",
       "      <td>English</td>\n",
       "      <td>6.3</td>\n",
       "    </tr>\n",
       "    <tr>\n",
       "      <th>945</th>\n",
       "      <td>Into the Woods</td>\n",
       "      <td>50.0</td>\n",
       "      <td>127.997349</td>\n",
       "      <td>2014</td>\n",
       "      <td>Adventure|Comedy|Drama|Fantasy|Musical</td>\n",
       "      <td>English</td>\n",
       "      <td>6.0</td>\n",
       "    </tr>\n",
       "    <tr>\n",
       "      <th>1111</th>\n",
       "      <td>The Ant Bully</td>\n",
       "      <td>50.0</td>\n",
       "      <td>28.133159</td>\n",
       "      <td>2006</td>\n",
       "      <td>Adventure|Animation|Comedy|Family|Fantasy</td>\n",
       "      <td>English</td>\n",
       "      <td>5.9</td>\n",
       "    </tr>\n",
       "    <tr>\n",
       "      <th>1295</th>\n",
       "      <td>Fantastic Mr. Fox</td>\n",
       "      <td>40.0</td>\n",
       "      <td>20.999103</td>\n",
       "      <td>2009</td>\n",
       "      <td>Adventure|Animation|Comedy|Crime|Family</td>\n",
       "      <td>English</td>\n",
       "      <td>7.8</td>\n",
       "    </tr>\n",
       "    <tr>\n",
       "      <th>1920</th>\n",
       "      <td>The Giver</td>\n",
       "      <td>25.0</td>\n",
       "      <td>45.089048</td>\n",
       "      <td>2014</td>\n",
       "      <td>Drama|Romance|Sci-Fi</td>\n",
       "      <td>English</td>\n",
       "      <td>6.5</td>\n",
       "    </tr>\n",
       "    <tr>\n",
       "      <th>1941</th>\n",
       "      <td>August: Osage County</td>\n",
       "      <td>25.0</td>\n",
       "      <td>37.738400</td>\n",
       "      <td>2013</td>\n",
       "      <td>Drama</td>\n",
       "      <td>English</td>\n",
       "      <td>7.3</td>\n",
       "    </tr>\n",
       "    <tr>\n",
       "      <th>2086</th>\n",
       "      <td>The Bridges of Madison County</td>\n",
       "      <td>35.0</td>\n",
       "      <td>70.960517</td>\n",
       "      <td>1995</td>\n",
       "      <td>Drama|Romance</td>\n",
       "      <td>English</td>\n",
       "      <td>7.5</td>\n",
       "    </tr>\n",
       "    <tr>\n",
       "      <th>2206</th>\n",
       "      <td>Doubt</td>\n",
       "      <td>20.0</td>\n",
       "      <td>33.422556</td>\n",
       "      <td>2008</td>\n",
       "      <td>Drama|Mystery</td>\n",
       "      <td>English</td>\n",
       "      <td>7.5</td>\n",
       "    </tr>\n",
       "    <tr>\n",
       "      <th>2386</th>\n",
       "      <td>Adaptation.</td>\n",
       "      <td>19.0</td>\n",
       "      <td>22.245861</td>\n",
       "      <td>2002</td>\n",
       "      <td>Comedy|Drama</td>\n",
       "      <td>English</td>\n",
       "      <td>7.7</td>\n",
       "    </tr>\n",
       "    <tr>\n",
       "      <th>1801</th>\n",
       "      <td>Rendition</td>\n",
       "      <td>27.5</td>\n",
       "      <td>9.664316</td>\n",
       "      <td>2007</td>\n",
       "      <td>Drama|Thriller</td>\n",
       "      <td>English</td>\n",
       "      <td>6.8</td>\n",
       "    </tr>\n",
       "    <tr>\n",
       "      <th>2067</th>\n",
       "      <td>Marvin's Room</td>\n",
       "      <td>23.0</td>\n",
       "      <td>12.782508</td>\n",
       "      <td>1996</td>\n",
       "      <td>Drama</td>\n",
       "      <td>English</td>\n",
       "      <td>6.7</td>\n",
       "    </tr>\n",
       "  </tbody>\n",
       "</table>\n",
       "</div>"
      ],
      "text/plain": [
       "                         movie_title  budget       gross  title_year  \\\n",
       "410                It's Complicated     85.0  112.703470        2009   \n",
       "1106                 The River Wild     45.0   46.815748        1994   \n",
       "1204                  Julie & Julia     40.0   94.125426        2009   \n",
       "1408          The Devil Wears Prada     35.0  124.732962        2006   \n",
       "1483                Lions for Lambs     35.0   14.998070        2007   \n",
       "1575                  Out of Africa     31.0   87.100000        1985   \n",
       "1618                   Hope Springs     30.0   63.536011        2012   \n",
       "1674                 One True Thing     30.0   23.209440        1998   \n",
       "1925                      The Hours     25.0   41.597830        2002   \n",
       "2781                  The Iron Lady     13.0   29.959436        2011   \n",
       "3135       A Prairie Home Companion     10.0   20.338609        2006   \n",
       "860               Death Becomes Her     55.0   58.422650        1992   \n",
       "914                      Mamma Mia!     52.0  143.704210        2008   \n",
       "945                  Into the Woods     50.0  127.997349        2014   \n",
       "1111                  The Ant Bully     50.0   28.133159        2006   \n",
       "1295              Fantastic Mr. Fox     40.0   20.999103        2009   \n",
       "1920                      The Giver     25.0   45.089048        2014   \n",
       "1941           August: Osage County     25.0   37.738400        2013   \n",
       "2086  The Bridges of Madison County     35.0   70.960517        1995   \n",
       "2206                          Doubt     20.0   33.422556        2008   \n",
       "2386                    Adaptation.     19.0   22.245861        2002   \n",
       "1801                      Rendition     27.5    9.664316        2007   \n",
       "2067                  Marvin's Room     23.0   12.782508        1996   \n",
       "\n",
       "                                         genres language  imdb_score  \n",
       "410                        Comedy|Drama|Romance  English         6.6  \n",
       "1106            Action|Adventure|Crime|Thriller  English         6.3  \n",
       "1204                    Biography|Drama|Romance  English         7.0  \n",
       "1408                       Comedy|Drama|Romance  English         6.8  \n",
       "1483                         Drama|Thriller|War  English         6.2  \n",
       "1575                    Biography|Drama|Romance  English         7.2  \n",
       "1618                       Comedy|Drama|Romance  English         6.3  \n",
       "1674                                      Drama  English         7.0  \n",
       "1925                              Drama|Romance  English         7.6  \n",
       "2781                    Biography|Drama|History  English         6.4  \n",
       "3135                         Comedy|Drama|Music  English         6.8  \n",
       "860                       Comedy|Fantasy|Horror  English         6.4  \n",
       "914               Comedy|Family|Musical|Romance  English         6.3  \n",
       "945      Adventure|Comedy|Drama|Fantasy|Musical  English         6.0  \n",
       "1111  Adventure|Animation|Comedy|Family|Fantasy  English         5.9  \n",
       "1295    Adventure|Animation|Comedy|Crime|Family  English         7.8  \n",
       "1920                       Drama|Romance|Sci-Fi  English         6.5  \n",
       "1941                                      Drama  English         7.3  \n",
       "2086                              Drama|Romance  English         7.5  \n",
       "2206                              Drama|Mystery  English         7.5  \n",
       "2386                               Comedy|Drama  English         7.7  \n",
       "1801                             Drama|Thriller  English         6.8  \n",
       "2067                                      Drama  English         6.7  "
      ]
     },
     "execution_count": 161,
     "metadata": {},
     "output_type": "execute_result"
    }
   ],
   "source": [
    "query_actors('Meryl Streep')"
   ]
  },
  {
   "cell_type": "code",
   "execution_count": 162,
   "metadata": {},
   "outputs": [
    {
     "name": "stdout",
     "output_type": "stream",
     "text": [
      "Time: 1985 2014\n",
      "Max Gross : 143.70 Millions\n",
      "Avg Gross : 55.23 Millions\n",
      "Min Gross : 9.66 Millions\n",
      "Number of 100 Million Movies : 4\n",
      "Avg IMDB Score : 6.81\n",
      "Most Common Genres:\n",
      " Drama        9\n",
      "Comedy       7\n",
      "Biography    3\n",
      "Adventure    3\n",
      "Action       1\n",
      "Name: Genre1, dtype: int64\n"
     ]
    }
   ],
   "source": [
    "def actors_report(x):\n",
    "    a = data[data['actor_1_name'] == x]\n",
    "    b = data[data['actor_2_name'] == x]\n",
    "    c = data[data['actor_3_name'] == x]\n",
    "    x = a.append(b)\n",
    "    y = x.append(c)\n",
    "    print(\"Time:\",y['title_year'].min(), y['title_year'].max())\n",
    "    print(\"Max Gross : {0:.2f} Millions\".format(y['gross'].max()))\n",
    "    print(\"Avg Gross : {0:.2f} Millions\".format(y['gross'].mean()))\n",
    "    print(\"Min Gross : {0:.2f} Millions\".format(y['gross'].min()))\n",
    "    print(\"Number of 100 Million Movies :\", y[y['gross'] > 100].shape[0])\n",
    "    print(\"Avg IMDB Score : {0:.2f}\".format(y['imdb_score'].mean()))\n",
    "    print(\"Most Common Genres:\\n\",y['Genre1'].value_counts().head())\n",
    "    \n",
    "actors_report('Meryl Streep')"
   ]
  },
  {
   "cell_type": "code",
   "execution_count": 163,
   "metadata": {},
   "outputs": [
    {
     "name": "stdout",
     "output_type": "stream",
     "text": [
      "Number of Critics Reviews for Brad Pitt\n"
     ]
    },
    {
     "data": {
      "text/plain": [
       "7814"
      ]
     },
     "metadata": {},
     "output_type": "display_data"
    },
    {
     "name": "stdout",
     "output_type": "stream",
     "text": [
      "Number of Critics Reviews for Leonardo DiCaprio\n"
     ]
    },
    {
     "data": {
      "text/plain": [
       "6524"
      ]
     },
     "metadata": {},
     "output_type": "display_data"
    },
    {
     "name": "stdout",
     "output_type": "stream",
     "text": [
      "Number of Critics Reviews for Tom Cruise\n"
     ]
    },
    {
     "data": {
      "text/plain": [
       "6353"
      ]
     },
     "metadata": {},
     "output_type": "display_data"
    }
   ],
   "source": [
    "# Lets compare Brad Pitt, Leonardo Caprio and Tom Cruise\n",
    "\n",
    "def critically_acclaimed_actors(m):\n",
    "    a = data[data['actor_1_name'] == m]\n",
    "    b = data[data['actor_2_name'] == m]\n",
    "    c = data[data['actor_3_name'] == m]\n",
    "    x = a.append(b)\n",
    "    y = x.append(c)\n",
    "    return y['num_critic_for_reviews'].sum().astype('int')\n",
    "\n",
    "\n",
    "print(\"Number of Critics Reviews for Brad Pitt\")\n",
    "display(critically_acclaimed_actors('Brad Pitt'))\n",
    "\n",
    "print(\"Number of Critics Reviews for Leonardo DiCaprio\")\n",
    "display(critically_acclaimed_actors('Leonardo DiCaprio'))\n",
    "\n",
    "print(\"Number of Critics Reviews for Tom Cruise\")\n",
    "display(critically_acclaimed_actors('Tom Cruise'))"
   ]
  },
  {
   "cell_type": "code",
   "execution_count": 165,
   "metadata": {},
   "outputs": [
    {
     "data": {
      "application/vnd.jupyter.widget-view+json": {
       "model_id": "65e72e4f6b1c41a59cfe725cc9ca8a2e",
       "version_major": 2,
       "version_minor": 0
      },
      "text/plain": [
       "interactive(children=(Dropdown(description='column', options=('budget', 'gross'), value='budget'), IntSlider(v…"
      ]
     },
     "metadata": {},
     "output_type": "display_data"
    }
   ],
   "source": [
    "pd.set_option('max_rows', 30000)\n",
    "\n",
    "@interact\n",
    "def show_articles_more_than(column=['budget','gross'], x=1000):\n",
    "    return data.loc[data[column] > x][['movie_title','duration','gross','profit','imdb_score']]"
   ]
  },
  {
   "cell_type": "code",
   "execution_count": 168,
   "metadata": {},
   "outputs": [
    {
     "data": {
      "text/html": [
       "<div>\n",
       "<style scoped>\n",
       "    .dataframe tbody tr th:only-of-type {\n",
       "        vertical-align: middle;\n",
       "    }\n",
       "\n",
       "    .dataframe tbody tr th {\n",
       "        vertical-align: top;\n",
       "    }\n",
       "\n",
       "    .dataframe thead th {\n",
       "        text-align: right;\n",
       "    }\n",
       "</style>\n",
       "<table border=\"1\" class=\"dataframe\">\n",
       "  <thead>\n",
       "    <tr style=\"text-align: right;\">\n",
       "      <th></th>\n",
       "      <th>language</th>\n",
       "      <th>movie_title</th>\n",
       "      <th>imdb_score</th>\n",
       "    </tr>\n",
       "  </thead>\n",
       "  <tbody>\n",
       "    <tr>\n",
       "      <th>4498</th>\n",
       "      <td>Foreign</td>\n",
       "      <td>The Good, the Bad and the Ugly</td>\n",
       "      <td>8.9</td>\n",
       "    </tr>\n",
       "    <tr>\n",
       "      <th>4029</th>\n",
       "      <td>Foreign</td>\n",
       "      <td>City of God</td>\n",
       "      <td>8.7</td>\n",
       "    </tr>\n",
       "    <tr>\n",
       "      <th>4747</th>\n",
       "      <td>Foreign</td>\n",
       "      <td>Seven Samurai</td>\n",
       "      <td>8.7</td>\n",
       "    </tr>\n",
       "    <tr>\n",
       "      <th>2373</th>\n",
       "      <td>Foreign</td>\n",
       "      <td>Spirited Away</td>\n",
       "      <td>8.6</td>\n",
       "    </tr>\n",
       "    <tr>\n",
       "      <th>4921</th>\n",
       "      <td>Foreign</td>\n",
       "      <td>Children of Heaven</td>\n",
       "      <td>8.5</td>\n",
       "    </tr>\n",
       "    <tr>\n",
       "      <th>4259</th>\n",
       "      <td>Foreign</td>\n",
       "      <td>The Lives of Others</td>\n",
       "      <td>8.5</td>\n",
       "    </tr>\n",
       "    <tr>\n",
       "      <th>3931</th>\n",
       "      <td>Foreign</td>\n",
       "      <td>Samsara</td>\n",
       "      <td>8.5</td>\n",
       "    </tr>\n",
       "    <tr>\n",
       "      <th>4659</th>\n",
       "      <td>Foreign</td>\n",
       "      <td>A Separation</td>\n",
       "      <td>8.4</td>\n",
       "    </tr>\n",
       "    <tr>\n",
       "      <th>1329</th>\n",
       "      <td>Foreign</td>\n",
       "      <td>Baahubali: The Beginning</td>\n",
       "      <td>8.4</td>\n",
       "    </tr>\n",
       "    <tr>\n",
       "      <th>2970</th>\n",
       "      <td>Foreign</td>\n",
       "      <td>Das Boot</td>\n",
       "      <td>8.4</td>\n",
       "    </tr>\n",
       "    <tr>\n",
       "      <th>4105</th>\n",
       "      <td>Foreign</td>\n",
       "      <td>Oldboy</td>\n",
       "      <td>8.4</td>\n",
       "    </tr>\n",
       "    <tr>\n",
       "      <th>1298</th>\n",
       "      <td>Foreign</td>\n",
       "      <td>Amélie</td>\n",
       "      <td>8.4</td>\n",
       "    </tr>\n",
       "    <tr>\n",
       "      <th>2323</th>\n",
       "      <td>Foreign</td>\n",
       "      <td>Princess Mononoke</td>\n",
       "      <td>8.4</td>\n",
       "    </tr>\n",
       "    <tr>\n",
       "      <th>2829</th>\n",
       "      <td>Foreign</td>\n",
       "      <td>Downfall</td>\n",
       "      <td>8.3</td>\n",
       "    </tr>\n",
       "    <tr>\n",
       "      <th>4033</th>\n",
       "      <td>Foreign</td>\n",
       "      <td>The Hunt</td>\n",
       "      <td>8.3</td>\n",
       "    </tr>\n",
       "  </tbody>\n",
       "</table>\n",
       "</div>"
      ],
      "text/plain": [
       "     language                      movie_title  imdb_score\n",
       "4498  Foreign  The Good, the Bad and the Ugly          8.9\n",
       "4029  Foreign                     City of God          8.7\n",
       "4747  Foreign                   Seven Samurai          8.7\n",
       "2373  Foreign                   Spirited Away          8.6\n",
       "4921  Foreign              Children of Heaven          8.5\n",
       "4259  Foreign             The Lives of Others          8.5\n",
       "3931  Foreign                         Samsara          8.5\n",
       "4659  Foreign                    A Separation          8.4\n",
       "1329  Foreign        Baahubali: The Beginning          8.4\n",
       "2970  Foreign                        Das Boot          8.4\n",
       "4105  Foreign                          Oldboy          8.4\n",
       "1298  Foreign                          Amélie          8.4\n",
       "2323  Foreign               Princess Mononoke          8.4\n",
       "2829  Foreign                        Downfall          8.3\n",
       "4033  Foreign                        The Hunt          8.3"
      ]
     },
     "execution_count": 168,
     "metadata": {},
     "output_type": "execute_result"
    }
   ],
   "source": [
    "##Recommending Movies based on Languages\n",
    "def recommend_lang(x):\n",
    "    y = data[['language','movie_title','imdb_score']][data['language'] == x]\n",
    "    y = y.sort_values(by = 'imdb_score', ascending = False)\n",
    "    return y.head(15)\n",
    "recommend_lang('Foreign')"
   ]
  },
  {
   "cell_type": "code",
   "execution_count": 169,
   "metadata": {},
   "outputs": [
    {
     "data": {
      "text/html": [
       "<div>\n",
       "<style scoped>\n",
       "    .dataframe tbody tr th:only-of-type {\n",
       "        vertical-align: middle;\n",
       "    }\n",
       "\n",
       "    .dataframe tbody tr th {\n",
       "        vertical-align: top;\n",
       "    }\n",
       "\n",
       "    .dataframe thead th {\n",
       "        text-align: right;\n",
       "    }\n",
       "</style>\n",
       "<table border=\"1\" class=\"dataframe\">\n",
       "  <thead>\n",
       "    <tr style=\"text-align: right;\">\n",
       "      <th></th>\n",
       "      <th>movie_title</th>\n",
       "      <th>imdb_score</th>\n",
       "    </tr>\n",
       "  </thead>\n",
       "  <tbody>\n",
       "    <tr>\n",
       "      <th>1868</th>\n",
       "      <td>Rain Man</td>\n",
       "      <td>8.0</td>\n",
       "    </tr>\n",
       "    <tr>\n",
       "      <th>75</th>\n",
       "      <td>Edge of Tomorrow</td>\n",
       "      <td>7.9</td>\n",
       "    </tr>\n",
       "    <tr>\n",
       "      <th>284</th>\n",
       "      <td>Minority Report</td>\n",
       "      <td>7.7</td>\n",
       "    </tr>\n",
       "    <tr>\n",
       "      <th>158</th>\n",
       "      <td>The Last Samurai</td>\n",
       "      <td>7.7</td>\n",
       "    </tr>\n",
       "    <tr>\n",
       "      <th>940</th>\n",
       "      <td>Interview with the Vampire: The Vampire Chroni...</td>\n",
       "      <td>7.6</td>\n",
       "    </tr>\n",
       "    <tr>\n",
       "      <th>1524</th>\n",
       "      <td>A Few Good Men</td>\n",
       "      <td>7.6</td>\n",
       "    </tr>\n",
       "    <tr>\n",
       "      <th>736</th>\n",
       "      <td>Collateral</td>\n",
       "      <td>7.6</td>\n",
       "    </tr>\n",
       "    <tr>\n",
       "      <th>155</th>\n",
       "      <td>Mission: Impossible - Ghost Protocol</td>\n",
       "      <td>7.4</td>\n",
       "    </tr>\n",
       "    <tr>\n",
       "      <th>135</th>\n",
       "      <td>Mission: Impossible - Rogue Nation</td>\n",
       "      <td>7.4</td>\n",
       "    </tr>\n",
       "    <tr>\n",
       "      <th>930</th>\n",
       "      <td>Jerry Maguire</td>\n",
       "      <td>7.3</td>\n",
       "    </tr>\n",
       "    <tr>\n",
       "      <th>671</th>\n",
       "      <td>Eyes Wide Shut</td>\n",
       "      <td>7.3</td>\n",
       "    </tr>\n",
       "    <tr>\n",
       "      <th>3128</th>\n",
       "      <td>The Outsiders</td>\n",
       "      <td>7.2</td>\n",
       "    </tr>\n",
       "    <tr>\n",
       "      <th>2768</th>\n",
       "      <td>Born on the Fourth of July</td>\n",
       "      <td>7.2</td>\n",
       "    </tr>\n",
       "    <tr>\n",
       "      <th>438</th>\n",
       "      <td>Mission: Impossible</td>\n",
       "      <td>7.1</td>\n",
       "    </tr>\n",
       "    <tr>\n",
       "      <th>370</th>\n",
       "      <td>Valkyrie</td>\n",
       "      <td>7.1</td>\n",
       "    </tr>\n",
       "  </tbody>\n",
       "</table>\n",
       "</div>"
      ],
      "text/plain": [
       "                                            movie_title  imdb_score\n",
       "1868                                          Rain Man          8.0\n",
       "75                                    Edge of Tomorrow          7.9\n",
       "284                                    Minority Report          7.7\n",
       "158                                   The Last Samurai          7.7\n",
       "940   Interview with the Vampire: The Vampire Chroni...         7.6\n",
       "1524                                    A Few Good Men          7.6\n",
       "736                                         Collateral          7.6\n",
       "155               Mission: Impossible - Ghost Protocol          7.4\n",
       "135                 Mission: Impossible - Rogue Nation          7.4\n",
       "930                                      Jerry Maguire          7.3\n",
       "671                                     Eyes Wide Shut          7.3\n",
       "3128                                     The Outsiders          7.2\n",
       "2768                        Born on the Fourth of July          7.2\n",
       "438                                Mission: Impossible          7.1\n",
       "370                                           Valkyrie          7.1"
      ]
     },
     "execution_count": 169,
     "metadata": {},
     "output_type": "execute_result"
    }
   ],
   "source": [
    "#Recommending Movies Based on Actors\n",
    "\n",
    "def recommend_movies_on_actors(x):\n",
    "    a = data[['movie_title','imdb_score']][data['actor_1_name'] == x]\n",
    "    b = data[['movie_title','imdb_score']][data['actor_2_name'] == x]\n",
    "    c = data[['movie_title','imdb_score']][data['actor_3_name'] == x]\n",
    "    a = a.append(b)\n",
    "    a = a.append(c)\n",
    "    a = a.sort_values(by = 'imdb_score', ascending = False)\n",
    "    return a.head(15)\n",
    "\n",
    "recommend_movies_on_actors('Tom Cruise')"
   ]
  },
  {
   "cell_type": "code",
   "execution_count": 171,
   "metadata": {},
   "outputs": [
    {
     "ename": "ModuleNotFoundError",
     "evalue": "No module named 'mlxtend'",
     "output_type": "error",
     "traceback": [
      "\u001b[1;31m---------------------------------------------------------------------------\u001b[0m",
      "\u001b[1;31mModuleNotFoundError\u001b[0m                       Traceback (most recent call last)",
      "\u001b[1;32m<ipython-input-171-776ab1f773b3>\u001b[0m in \u001b[0;36m<module>\u001b[1;34m\u001b[0m\n\u001b[0;32m      1\u001b[0m \u001b[1;31m## Recommending similar Genres\u001b[0m\u001b[1;33m\u001b[0m\u001b[1;33m\u001b[0m\u001b[1;33m\u001b[0m\u001b[0m\n\u001b[1;32m----> 2\u001b[1;33m \u001b[1;32mfrom\u001b[0m \u001b[0mmlxtend\u001b[0m\u001b[1;33m.\u001b[0m\u001b[0mpreprocessing\u001b[0m \u001b[1;32mimport\u001b[0m \u001b[0mTransactionEncoder\u001b[0m \u001b[1;31m#Encodes database transaction data in form of a Python list of lists into a NumPy array.\u001b[0m\u001b[1;33m\u001b[0m\u001b[1;33m\u001b[0m\u001b[0m\n\u001b[0m\u001b[0;32m      3\u001b[0m \u001b[1;33m\u001b[0m\u001b[0m\n\u001b[0;32m      4\u001b[0m \u001b[0mx\u001b[0m \u001b[1;33m=\u001b[0m \u001b[0mdata\u001b[0m\u001b[1;33m[\u001b[0m\u001b[1;34m'genres'\u001b[0m\u001b[1;33m]\u001b[0m\u001b[1;33m.\u001b[0m\u001b[0mstr\u001b[0m\u001b[1;33m.\u001b[0m\u001b[0msplit\u001b[0m\u001b[1;33m(\u001b[0m\u001b[1;34m'|'\u001b[0m\u001b[1;33m)\u001b[0m\u001b[1;33m\u001b[0m\u001b[1;33m\u001b[0m\u001b[0m\n\u001b[0;32m      5\u001b[0m \u001b[0mte\u001b[0m \u001b[1;33m=\u001b[0m \u001b[0mTransactionEncoder\u001b[0m\u001b[1;33m(\u001b[0m\u001b[1;33m)\u001b[0m\u001b[1;33m\u001b[0m\u001b[1;33m\u001b[0m\u001b[0m\n",
      "\u001b[1;31mModuleNotFoundError\u001b[0m: No module named 'mlxtend'"
     ]
    }
   ],
   "source": [
    "## Recommending similar Genres\n",
    "from mlxtend.preprocessing import TransactionEncoder #Encodes database transaction data in form of a Python list of lists into a NumPy array.\n",
    "\n",
    "x = data['genres'].str.split('|')\n",
    "te = TransactionEncoder()\n",
    "x = te.fit_transform(x)\n",
    "x = pd.DataFrame(x, columns = te.columns_)\n",
    "\n",
    "# lets check the head of x\n",
    "x.head()"
   ]
  },
  {
   "cell_type": "code",
   "execution_count": 172,
   "metadata": {},
   "outputs": [
    {
     "ename": "ValueError",
     "evalue": "invalid literal for int() with base 10: 'Interstellar\\xa0'",
     "output_type": "error",
     "traceback": [
      "\u001b[1;31m---------------------------------------------------------------------------\u001b[0m",
      "\u001b[1;31mValueError\u001b[0m                                Traceback (most recent call last)",
      "\u001b[1;32m<ipython-input-172-4a6665e0952e>\u001b[0m in \u001b[0;36m<module>\u001b[1;34m\u001b[0m\n\u001b[0;32m      1\u001b[0m \u001b[1;31m# lets convert this data into boolean so that we can perform calculations\u001b[0m\u001b[1;33m\u001b[0m\u001b[1;33m\u001b[0m\u001b[1;33m\u001b[0m\u001b[0m\n\u001b[1;32m----> 2\u001b[1;33m \u001b[0mgenres\u001b[0m \u001b[1;33m=\u001b[0m \u001b[0mx\u001b[0m\u001b[1;33m.\u001b[0m\u001b[0mastype\u001b[0m\u001b[1;33m(\u001b[0m\u001b[1;34m'int'\u001b[0m\u001b[1;33m)\u001b[0m\u001b[1;33m\u001b[0m\u001b[1;33m\u001b[0m\u001b[0m\n\u001b[0m\u001b[0;32m      3\u001b[0m \u001b[1;33m\u001b[0m\u001b[0m\n\u001b[0;32m      4\u001b[0m \u001b[0mgenres\u001b[0m\u001b[1;33m.\u001b[0m\u001b[0mhead\u001b[0m\u001b[1;33m(\u001b[0m\u001b[1;33m)\u001b[0m\u001b[1;33m\u001b[0m\u001b[1;33m\u001b[0m\u001b[0m\n",
      "\u001b[1;32mc:\\users\\guptatan\\appdata\\local\\programs\\python\\python36\\lib\\site-packages\\pandas\\core\\generic.py\u001b[0m in \u001b[0;36mastype\u001b[1;34m(self, dtype, copy, errors)\u001b[0m\n\u001b[0;32m   5535\u001b[0m         \u001b[1;32melse\u001b[0m\u001b[1;33m:\u001b[0m\u001b[1;33m\u001b[0m\u001b[1;33m\u001b[0m\u001b[0m\n\u001b[0;32m   5536\u001b[0m             \u001b[1;31m# else, only a single dtype is given\u001b[0m\u001b[1;33m\u001b[0m\u001b[1;33m\u001b[0m\u001b[1;33m\u001b[0m\u001b[0m\n\u001b[1;32m-> 5537\u001b[1;33m             \u001b[0mnew_data\u001b[0m \u001b[1;33m=\u001b[0m \u001b[0mself\u001b[0m\u001b[1;33m.\u001b[0m\u001b[0m_mgr\u001b[0m\u001b[1;33m.\u001b[0m\u001b[0mastype\u001b[0m\u001b[1;33m(\u001b[0m\u001b[0mdtype\u001b[0m\u001b[1;33m=\u001b[0m\u001b[0mdtype\u001b[0m\u001b[1;33m,\u001b[0m \u001b[0mcopy\u001b[0m\u001b[1;33m=\u001b[0m\u001b[0mcopy\u001b[0m\u001b[1;33m,\u001b[0m \u001b[0merrors\u001b[0m\u001b[1;33m=\u001b[0m\u001b[0merrors\u001b[0m\u001b[1;33m,\u001b[0m\u001b[1;33m)\u001b[0m\u001b[1;33m\u001b[0m\u001b[1;33m\u001b[0m\u001b[0m\n\u001b[0m\u001b[0;32m   5538\u001b[0m             \u001b[1;32mreturn\u001b[0m \u001b[0mself\u001b[0m\u001b[1;33m.\u001b[0m\u001b[0m_constructor\u001b[0m\u001b[1;33m(\u001b[0m\u001b[0mnew_data\u001b[0m\u001b[1;33m)\u001b[0m\u001b[1;33m.\u001b[0m\u001b[0m__finalize__\u001b[0m\u001b[1;33m(\u001b[0m\u001b[0mself\u001b[0m\u001b[1;33m,\u001b[0m \u001b[0mmethod\u001b[0m\u001b[1;33m=\u001b[0m\u001b[1;34m\"astype\"\u001b[0m\u001b[1;33m)\u001b[0m\u001b[1;33m\u001b[0m\u001b[1;33m\u001b[0m\u001b[0m\n\u001b[0;32m   5539\u001b[0m \u001b[1;33m\u001b[0m\u001b[0m\n",
      "\u001b[1;32mc:\\users\\guptatan\\appdata\\local\\programs\\python\\python36\\lib\\site-packages\\pandas\\core\\internals\\managers.py\u001b[0m in \u001b[0;36mastype\u001b[1;34m(self, dtype, copy, errors)\u001b[0m\n\u001b[0;32m    565\u001b[0m         \u001b[0mself\u001b[0m\u001b[1;33m,\u001b[0m \u001b[0mdtype\u001b[0m\u001b[1;33m,\u001b[0m \u001b[0mcopy\u001b[0m\u001b[1;33m:\u001b[0m \u001b[0mbool\u001b[0m \u001b[1;33m=\u001b[0m \u001b[1;32mFalse\u001b[0m\u001b[1;33m,\u001b[0m \u001b[0merrors\u001b[0m\u001b[1;33m:\u001b[0m \u001b[0mstr\u001b[0m \u001b[1;33m=\u001b[0m \u001b[1;34m\"raise\"\u001b[0m\u001b[1;33m\u001b[0m\u001b[1;33m\u001b[0m\u001b[0m\n\u001b[0;32m    566\u001b[0m     ) -> \"BlockManager\":\n\u001b[1;32m--> 567\u001b[1;33m         \u001b[1;32mreturn\u001b[0m \u001b[0mself\u001b[0m\u001b[1;33m.\u001b[0m\u001b[0mapply\u001b[0m\u001b[1;33m(\u001b[0m\u001b[1;34m\"astype\"\u001b[0m\u001b[1;33m,\u001b[0m \u001b[0mdtype\u001b[0m\u001b[1;33m=\u001b[0m\u001b[0mdtype\u001b[0m\u001b[1;33m,\u001b[0m \u001b[0mcopy\u001b[0m\u001b[1;33m=\u001b[0m\u001b[0mcopy\u001b[0m\u001b[1;33m,\u001b[0m \u001b[0merrors\u001b[0m\u001b[1;33m=\u001b[0m\u001b[0merrors\u001b[0m\u001b[1;33m)\u001b[0m\u001b[1;33m\u001b[0m\u001b[1;33m\u001b[0m\u001b[0m\n\u001b[0m\u001b[0;32m    568\u001b[0m \u001b[1;33m\u001b[0m\u001b[0m\n\u001b[0;32m    569\u001b[0m     def convert(\n",
      "\u001b[1;32mc:\\users\\guptatan\\appdata\\local\\programs\\python\\python36\\lib\\site-packages\\pandas\\core\\internals\\managers.py\u001b[0m in \u001b[0;36mapply\u001b[1;34m(self, f, align_keys, **kwargs)\u001b[0m\n\u001b[0;32m    394\u001b[0m                 \u001b[0mapplied\u001b[0m \u001b[1;33m=\u001b[0m \u001b[0mb\u001b[0m\u001b[1;33m.\u001b[0m\u001b[0mapply\u001b[0m\u001b[1;33m(\u001b[0m\u001b[0mf\u001b[0m\u001b[1;33m,\u001b[0m \u001b[1;33m**\u001b[0m\u001b[0mkwargs\u001b[0m\u001b[1;33m)\u001b[0m\u001b[1;33m\u001b[0m\u001b[1;33m\u001b[0m\u001b[0m\n\u001b[0;32m    395\u001b[0m             \u001b[1;32melse\u001b[0m\u001b[1;33m:\u001b[0m\u001b[1;33m\u001b[0m\u001b[1;33m\u001b[0m\u001b[0m\n\u001b[1;32m--> 396\u001b[1;33m                 \u001b[0mapplied\u001b[0m \u001b[1;33m=\u001b[0m \u001b[0mgetattr\u001b[0m\u001b[1;33m(\u001b[0m\u001b[0mb\u001b[0m\u001b[1;33m,\u001b[0m \u001b[0mf\u001b[0m\u001b[1;33m)\u001b[0m\u001b[1;33m(\u001b[0m\u001b[1;33m**\u001b[0m\u001b[0mkwargs\u001b[0m\u001b[1;33m)\u001b[0m\u001b[1;33m\u001b[0m\u001b[1;33m\u001b[0m\u001b[0m\n\u001b[0m\u001b[0;32m    397\u001b[0m             \u001b[0mresult_blocks\u001b[0m \u001b[1;33m=\u001b[0m \u001b[0m_extend_blocks\u001b[0m\u001b[1;33m(\u001b[0m\u001b[0mapplied\u001b[0m\u001b[1;33m,\u001b[0m \u001b[0mresult_blocks\u001b[0m\u001b[1;33m)\u001b[0m\u001b[1;33m\u001b[0m\u001b[1;33m\u001b[0m\u001b[0m\n\u001b[0;32m    398\u001b[0m \u001b[1;33m\u001b[0m\u001b[0m\n",
      "\u001b[1;32mc:\\users\\guptatan\\appdata\\local\\programs\\python\\python36\\lib\\site-packages\\pandas\\core\\internals\\blocks.py\u001b[0m in \u001b[0;36mastype\u001b[1;34m(self, dtype, copy, errors)\u001b[0m\n\u001b[0;32m    588\u001b[0m             \u001b[0mvals1d\u001b[0m \u001b[1;33m=\u001b[0m \u001b[0mvalues\u001b[0m\u001b[1;33m.\u001b[0m\u001b[0mravel\u001b[0m\u001b[1;33m(\u001b[0m\u001b[1;33m)\u001b[0m\u001b[1;33m\u001b[0m\u001b[1;33m\u001b[0m\u001b[0m\n\u001b[0;32m    589\u001b[0m             \u001b[1;32mtry\u001b[0m\u001b[1;33m:\u001b[0m\u001b[1;33m\u001b[0m\u001b[1;33m\u001b[0m\u001b[0m\n\u001b[1;32m--> 590\u001b[1;33m                 \u001b[0mvalues\u001b[0m \u001b[1;33m=\u001b[0m \u001b[0mastype_nansafe\u001b[0m\u001b[1;33m(\u001b[0m\u001b[0mvals1d\u001b[0m\u001b[1;33m,\u001b[0m \u001b[0mdtype\u001b[0m\u001b[1;33m,\u001b[0m \u001b[0mcopy\u001b[0m\u001b[1;33m=\u001b[0m\u001b[1;32mTrue\u001b[0m\u001b[1;33m)\u001b[0m\u001b[1;33m\u001b[0m\u001b[1;33m\u001b[0m\u001b[0m\n\u001b[0m\u001b[0;32m    591\u001b[0m             \u001b[1;32mexcept\u001b[0m \u001b[1;33m(\u001b[0m\u001b[0mValueError\u001b[0m\u001b[1;33m,\u001b[0m \u001b[0mTypeError\u001b[0m\u001b[1;33m)\u001b[0m\u001b[1;33m:\u001b[0m\u001b[1;33m\u001b[0m\u001b[1;33m\u001b[0m\u001b[0m\n\u001b[0;32m    592\u001b[0m                 \u001b[1;31m# e.g. astype_nansafe can fail on object-dtype of strings\u001b[0m\u001b[1;33m\u001b[0m\u001b[1;33m\u001b[0m\u001b[1;33m\u001b[0m\u001b[0m\n",
      "\u001b[1;32mc:\\users\\guptatan\\appdata\\local\\programs\\python\\python36\\lib\\site-packages\\pandas\\core\\dtypes\\cast.py\u001b[0m in \u001b[0;36mastype_nansafe\u001b[1;34m(arr, dtype, copy, skipna)\u001b[0m\n\u001b[0;32m    964\u001b[0m         \u001b[1;31m# work around NumPy brokenness, #1987\u001b[0m\u001b[1;33m\u001b[0m\u001b[1;33m\u001b[0m\u001b[1;33m\u001b[0m\u001b[0m\n\u001b[0;32m    965\u001b[0m         \u001b[1;32mif\u001b[0m \u001b[0mnp\u001b[0m\u001b[1;33m.\u001b[0m\u001b[0missubdtype\u001b[0m\u001b[1;33m(\u001b[0m\u001b[0mdtype\u001b[0m\u001b[1;33m.\u001b[0m\u001b[0mtype\u001b[0m\u001b[1;33m,\u001b[0m \u001b[0mnp\u001b[0m\u001b[1;33m.\u001b[0m\u001b[0minteger\u001b[0m\u001b[1;33m)\u001b[0m\u001b[1;33m:\u001b[0m\u001b[1;33m\u001b[0m\u001b[1;33m\u001b[0m\u001b[0m\n\u001b[1;32m--> 966\u001b[1;33m             \u001b[1;32mreturn\u001b[0m \u001b[0mlib\u001b[0m\u001b[1;33m.\u001b[0m\u001b[0mastype_intsafe\u001b[0m\u001b[1;33m(\u001b[0m\u001b[0marr\u001b[0m\u001b[1;33m.\u001b[0m\u001b[0mravel\u001b[0m\u001b[1;33m(\u001b[0m\u001b[1;33m)\u001b[0m\u001b[1;33m,\u001b[0m \u001b[0mdtype\u001b[0m\u001b[1;33m)\u001b[0m\u001b[1;33m.\u001b[0m\u001b[0mreshape\u001b[0m\u001b[1;33m(\u001b[0m\u001b[0marr\u001b[0m\u001b[1;33m.\u001b[0m\u001b[0mshape\u001b[0m\u001b[1;33m)\u001b[0m\u001b[1;33m\u001b[0m\u001b[1;33m\u001b[0m\u001b[0m\n\u001b[0m\u001b[0;32m    967\u001b[0m \u001b[1;33m\u001b[0m\u001b[0m\n\u001b[0;32m    968\u001b[0m         \u001b[1;31m# if we have a datetime/timedelta array of objects\u001b[0m\u001b[1;33m\u001b[0m\u001b[1;33m\u001b[0m\u001b[1;33m\u001b[0m\u001b[0m\n",
      "\u001b[1;32mpandas\\_libs\\lib.pyx\u001b[0m in \u001b[0;36mpandas._libs.lib.astype_intsafe\u001b[1;34m()\u001b[0m\n",
      "\u001b[1;31mValueError\u001b[0m: invalid literal for int() with base 10: 'Interstellar\\xa0'"
     ]
    }
   ],
   "source": [
    "# lets convert this data into boolean so that we can perform calculations\n",
    "genres = x.astype('int')\n",
    "\n",
    "genres.head()"
   ]
  },
  {
   "cell_type": "code",
   "execution_count": 173,
   "metadata": {},
   "outputs": [
    {
     "ename": "NameError",
     "evalue": "name 'genres' is not defined",
     "output_type": "error",
     "traceback": [
      "\u001b[1;31m---------------------------------------------------------------------------\u001b[0m",
      "\u001b[1;31mNameError\u001b[0m                                 Traceback (most recent call last)",
      "\u001b[1;32m<ipython-input-173-f49dfbbbe5c1>\u001b[0m in \u001b[0;36m<module>\u001b[1;34m\u001b[0m\n\u001b[0;32m      1\u001b[0m \u001b[1;31m# now, lets insert the movie titles in the first column, so that we can better understand the data\u001b[0m\u001b[1;33m\u001b[0m\u001b[1;33m\u001b[0m\u001b[1;33m\u001b[0m\u001b[0m\n\u001b[1;32m----> 2\u001b[1;33m \u001b[0mgenres\u001b[0m\u001b[1;33m.\u001b[0m\u001b[0minsert\u001b[0m\u001b[1;33m(\u001b[0m\u001b[1;36m0\u001b[0m\u001b[1;33m,\u001b[0m \u001b[1;34m'movie_title'\u001b[0m\u001b[1;33m,\u001b[0m \u001b[0mdata\u001b[0m\u001b[1;33m[\u001b[0m\u001b[1;34m'movie_title'\u001b[0m\u001b[1;33m]\u001b[0m\u001b[1;33m)\u001b[0m\u001b[1;33m\u001b[0m\u001b[1;33m\u001b[0m\u001b[0m\n\u001b[0m\u001b[0;32m      3\u001b[0m \u001b[1;33m\u001b[0m\u001b[0m\n\u001b[0;32m      4\u001b[0m \u001b[0mgenres\u001b[0m\u001b[1;33m.\u001b[0m\u001b[0mhead\u001b[0m\u001b[1;33m(\u001b[0m\u001b[1;33m)\u001b[0m\u001b[1;33m\u001b[0m\u001b[1;33m\u001b[0m\u001b[0m\n",
      "\u001b[1;31mNameError\u001b[0m: name 'genres' is not defined"
     ]
    }
   ],
   "source": [
    "# now, lets insert the movie titles in the first column, so that we can better understand the data\n",
    "genres.insert(0, 'movie_title', data['movie_title'])\n",
    "\n",
    "genres.head()"
   ]
  },
  {
   "cell_type": "code",
   "execution_count": 174,
   "metadata": {},
   "outputs": [
    {
     "ename": "NameError",
     "evalue": "name 'genres' is not defined",
     "output_type": "error",
     "traceback": [
      "\u001b[1;31m---------------------------------------------------------------------------\u001b[0m",
      "\u001b[1;31mNameError\u001b[0m                                 Traceback (most recent call last)",
      "\u001b[1;32m<ipython-input-174-821e20295495>\u001b[0m in \u001b[0;36m<module>\u001b[1;34m\u001b[0m\n\u001b[0;32m      1\u001b[0m \u001b[1;31m# lets set these movie titles as index of the data\u001b[0m\u001b[1;33m\u001b[0m\u001b[1;33m\u001b[0m\u001b[1;33m\u001b[0m\u001b[0m\n\u001b[1;32m----> 2\u001b[1;33m \u001b[0mgenres\u001b[0m \u001b[1;33m=\u001b[0m \u001b[0mgenres\u001b[0m\u001b[1;33m.\u001b[0m\u001b[0mset_index\u001b[0m\u001b[1;33m(\u001b[0m\u001b[1;34m'movie_title'\u001b[0m\u001b[1;33m)\u001b[0m\u001b[1;33m\u001b[0m\u001b[1;33m\u001b[0m\u001b[0m\n\u001b[0m\u001b[0;32m      3\u001b[0m \u001b[1;33m\u001b[0m\u001b[0m\n\u001b[0;32m      4\u001b[0m \u001b[0mgenres\u001b[0m\u001b[1;33m.\u001b[0m\u001b[0mhead\u001b[0m\u001b[1;33m(\u001b[0m\u001b[1;33m)\u001b[0m\u001b[1;33m\u001b[0m\u001b[1;33m\u001b[0m\u001b[0m\n",
      "\u001b[1;31mNameError\u001b[0m: name 'genres' is not defined"
     ]
    }
   ],
   "source": [
    "# lets set these movie titles as index of the data\n",
    "genres = genres.set_index('movie_title')\n",
    "\n",
    "genres.head()"
   ]
  },
  {
   "cell_type": "code",
   "execution_count": 175,
   "metadata": {},
   "outputs": [
    {
     "ename": "NameError",
     "evalue": "name 'genres' is not defined",
     "output_type": "error",
     "traceback": [
      "\u001b[1;31m---------------------------------------------------------------------------\u001b[0m",
      "\u001b[1;31mNameError\u001b[0m                                 Traceback (most recent call last)",
      "\u001b[1;32m<ipython-input-175-5457485dd68f>\u001b[0m in \u001b[0;36m<module>\u001b[1;34m\u001b[0m\n\u001b[0;32m      7\u001b[0m     \u001b[0msimilar_genres\u001b[0m \u001b[1;33m=\u001b[0m \u001b[0msimilar_genres\u001b[0m\u001b[1;33m.\u001b[0m\u001b[0miloc\u001b[0m\u001b[1;33m[\u001b[0m\u001b[1;36m1\u001b[0m\u001b[1;33m:\u001b[0m\u001b[1;33m]\u001b[0m\u001b[1;33m\u001b[0m\u001b[1;33m\u001b[0m\u001b[0m\n\u001b[0;32m      8\u001b[0m     \u001b[1;32mreturn\u001b[0m \u001b[0msimilar_genres\u001b[0m\u001b[1;33m.\u001b[0m\u001b[0mhead\u001b[0m\u001b[1;33m(\u001b[0m\u001b[1;36m3\u001b[0m\u001b[1;33m)\u001b[0m\u001b[1;33m\u001b[0m\u001b[1;33m\u001b[0m\u001b[0m\n\u001b[1;32m----> 9\u001b[1;33m \u001b[0mrecommendation_genres\u001b[0m\u001b[1;33m(\u001b[0m\u001b[1;34m'Action'\u001b[0m\u001b[1;33m)\u001b[0m\u001b[1;33m\u001b[0m\u001b[1;33m\u001b[0m\u001b[0m\n\u001b[0m",
      "\u001b[1;32m<ipython-input-175-5457485dd68f>\u001b[0m in \u001b[0;36mrecommendation_genres\u001b[1;34m(gen)\u001b[0m\n\u001b[0;32m      2\u001b[0m \u001b[1;33m\u001b[0m\u001b[0m\n\u001b[0;32m      3\u001b[0m \u001b[1;32mdef\u001b[0m \u001b[0mrecommendation_genres\u001b[0m\u001b[1;33m(\u001b[0m\u001b[0mgen\u001b[0m\u001b[1;33m)\u001b[0m\u001b[1;33m:\u001b[0m\u001b[1;33m\u001b[0m\u001b[1;33m\u001b[0m\u001b[0m\n\u001b[1;32m----> 4\u001b[1;33m     \u001b[0mgen\u001b[0m \u001b[1;33m=\u001b[0m \u001b[0mgenres\u001b[0m\u001b[1;33m[\u001b[0m\u001b[0mgen\u001b[0m\u001b[1;33m]\u001b[0m\u001b[1;33m\u001b[0m\u001b[1;33m\u001b[0m\u001b[0m\n\u001b[0m\u001b[0;32m      5\u001b[0m     \u001b[0msimilar_genres\u001b[0m \u001b[1;33m=\u001b[0m \u001b[0mgenres\u001b[0m\u001b[1;33m.\u001b[0m\u001b[0mcorrwith\u001b[0m\u001b[1;33m(\u001b[0m\u001b[0mgen\u001b[0m\u001b[1;33m)\u001b[0m\u001b[1;33m\u001b[0m\u001b[1;33m\u001b[0m\u001b[0m\n\u001b[0;32m      6\u001b[0m     \u001b[0msimilar_genres\u001b[0m \u001b[1;33m=\u001b[0m \u001b[0msimilar_genres\u001b[0m\u001b[1;33m.\u001b[0m\u001b[0msort_values\u001b[0m\u001b[1;33m(\u001b[0m\u001b[0mascending\u001b[0m\u001b[1;33m=\u001b[0m\u001b[1;32mFalse\u001b[0m\u001b[1;33m)\u001b[0m\u001b[1;33m\u001b[0m\u001b[1;33m\u001b[0m\u001b[0m\n",
      "\u001b[1;31mNameError\u001b[0m: name 'genres' is not defined"
     ]
    }
   ],
   "source": [
    "# making a recommendation engine for getting similar genres\n",
    "\n",
    "def recommendation_genres(gen):\n",
    "    gen = genres[gen]\n",
    "    similar_genres = genres.corrwith(gen)\n",
    "    similar_genres = similar_genres.sort_values(ascending=False)\n",
    "    similar_genres = similar_genres.iloc[1:]\n",
    "    return similar_genres.head(3)\n",
    "recommendation_genres('Action')"
   ]
  },
  {
   "cell_type": "code",
   "execution_count": 176,
   "metadata": {},
   "outputs": [
    {
     "ename": "NameError",
     "evalue": "name 'genres' is not defined",
     "output_type": "error",
     "traceback": [
      "\u001b[1;31m---------------------------------------------------------------------------\u001b[0m",
      "\u001b[1;31mNameError\u001b[0m                                 Traceback (most recent call last)",
      "\u001b[1;32m<ipython-input-176-ea3ed998e44d>\u001b[0m in \u001b[0;36m<module>\u001b[1;34m\u001b[0m\n\u001b[0;32m      1\u001b[0m \u001b[1;31m# lets make a sparse matrix to recommend the movies\u001b[0m\u001b[1;33m\u001b[0m\u001b[1;33m\u001b[0m\u001b[1;33m\u001b[0m\u001b[0m\n\u001b[0;32m      2\u001b[0m \u001b[1;33m\u001b[0m\u001b[0m\n\u001b[1;32m----> 3\u001b[1;33m \u001b[0mx\u001b[0m \u001b[1;33m=\u001b[0m \u001b[0mgenres\u001b[0m\u001b[1;33m.\u001b[0m\u001b[0mtranspose\u001b[0m\u001b[1;33m(\u001b[0m\u001b[1;33m)\u001b[0m\u001b[1;33m\u001b[0m\u001b[1;33m\u001b[0m\u001b[0m\n\u001b[0m\u001b[0;32m      4\u001b[0m \u001b[0mx\u001b[0m\u001b[1;33m.\u001b[0m\u001b[0mhead\u001b[0m\u001b[1;33m(\u001b[0m\u001b[1;33m)\u001b[0m\u001b[1;33m\u001b[0m\u001b[1;33m\u001b[0m\u001b[0m\n",
      "\u001b[1;31mNameError\u001b[0m: name 'genres' is not defined"
     ]
    }
   ],
   "source": [
    "# lets make a sparse matrix to recommend the movies\n",
    "\n",
    "x = genres.transpose()\n",
    "x.head()"
   ]
  },
  {
   "cell_type": "code",
   "execution_count": 178,
   "metadata": {},
   "outputs": [],
   "source": [
    "# making a recommendation engine for getting similar movies\n",
    "\n",
    "def recommendation_movie(movie):    \n",
    "    movie = x[movie+'\\xa0']\n",
    "    similar_movies = x.corrwith(movie)\n",
    "    similar_movies = similar_movies.sort_values(ascending=False)\n",
    "    similar_movies = similar_movies.iloc[1:]\n",
    "    return similar_movies.head(20)"
   ]
  },
  {
   "cell_type": "code",
   "execution_count": 179,
   "metadata": {},
   "outputs": [
    {
     "ename": "KeyError",
     "evalue": "'The Expendables\\xa0'",
     "output_type": "error",
     "traceback": [
      "\u001b[1;31m---------------------------------------------------------------------------\u001b[0m",
      "\u001b[1;31mKeyError\u001b[0m                                  Traceback (most recent call last)",
      "\u001b[1;32mc:\\users\\guptatan\\appdata\\local\\programs\\python\\python36\\lib\\site-packages\\pandas\\core\\indexes\\base.py\u001b[0m in \u001b[0;36mget_loc\u001b[1;34m(self, key, method, tolerance)\u001b[0m\n\u001b[0;32m   2888\u001b[0m             \u001b[1;32mtry\u001b[0m\u001b[1;33m:\u001b[0m\u001b[1;33m\u001b[0m\u001b[1;33m\u001b[0m\u001b[0m\n\u001b[1;32m-> 2889\u001b[1;33m                 \u001b[1;32mreturn\u001b[0m \u001b[0mself\u001b[0m\u001b[1;33m.\u001b[0m\u001b[0m_engine\u001b[0m\u001b[1;33m.\u001b[0m\u001b[0mget_loc\u001b[0m\u001b[1;33m(\u001b[0m\u001b[0mcasted_key\u001b[0m\u001b[1;33m)\u001b[0m\u001b[1;33m\u001b[0m\u001b[1;33m\u001b[0m\u001b[0m\n\u001b[0m\u001b[0;32m   2890\u001b[0m             \u001b[1;32mexcept\u001b[0m \u001b[0mKeyError\u001b[0m \u001b[1;32mas\u001b[0m \u001b[0merr\u001b[0m\u001b[1;33m:\u001b[0m\u001b[1;33m\u001b[0m\u001b[1;33m\u001b[0m\u001b[0m\n",
      "\u001b[1;32mpandas\\_libs\\index.pyx\u001b[0m in \u001b[0;36mpandas._libs.index.IndexEngine.get_loc\u001b[1;34m()\u001b[0m\n",
      "\u001b[1;32mpandas\\_libs\\index.pyx\u001b[0m in \u001b[0;36mpandas._libs.index.IndexEngine.get_loc\u001b[1;34m()\u001b[0m\n",
      "\u001b[1;32mpandas\\_libs\\hashtable_class_helper.pxi\u001b[0m in \u001b[0;36mpandas._libs.hashtable.PyObjectHashTable.get_item\u001b[1;34m()\u001b[0m\n",
      "\u001b[1;32mpandas\\_libs\\hashtable_class_helper.pxi\u001b[0m in \u001b[0;36mpandas._libs.hashtable.PyObjectHashTable.get_item\u001b[1;34m()\u001b[0m\n",
      "\u001b[1;31mKeyError\u001b[0m: 'The Expendables\\xa0'",
      "\nThe above exception was the direct cause of the following exception:\n",
      "\u001b[1;31mKeyError\u001b[0m                                  Traceback (most recent call last)",
      "\u001b[1;32m<ipython-input-179-af4e2e0d903d>\u001b[0m in \u001b[0;36m<module>\u001b[1;34m\u001b[0m\n\u001b[0;32m      1\u001b[0m \u001b[1;31m# lets test on some results\u001b[0m\u001b[1;33m\u001b[0m\u001b[1;33m\u001b[0m\u001b[1;33m\u001b[0m\u001b[0m\n\u001b[1;32m----> 2\u001b[1;33m \u001b[0mrecommendation_movie\u001b[0m\u001b[1;33m(\u001b[0m\u001b[1;34m'The Expendables'\u001b[0m\u001b[1;33m)\u001b[0m\u001b[1;33m\u001b[0m\u001b[1;33m\u001b[0m\u001b[0m\n\u001b[0m",
      "\u001b[1;32m<ipython-input-178-53a26defa2bd>\u001b[0m in \u001b[0;36mrecommendation_movie\u001b[1;34m(movie)\u001b[0m\n\u001b[0;32m      2\u001b[0m \u001b[1;33m\u001b[0m\u001b[0m\n\u001b[0;32m      3\u001b[0m \u001b[1;32mdef\u001b[0m \u001b[0mrecommendation_movie\u001b[0m\u001b[1;33m(\u001b[0m\u001b[0mmovie\u001b[0m\u001b[1;33m)\u001b[0m\u001b[1;33m:\u001b[0m\u001b[1;33m\u001b[0m\u001b[1;33m\u001b[0m\u001b[0m\n\u001b[1;32m----> 4\u001b[1;33m     \u001b[0mmovie\u001b[0m \u001b[1;33m=\u001b[0m \u001b[0mx\u001b[0m\u001b[1;33m[\u001b[0m\u001b[0mmovie\u001b[0m\u001b[1;33m+\u001b[0m\u001b[1;34m'\\xa0'\u001b[0m\u001b[1;33m]\u001b[0m\u001b[1;33m\u001b[0m\u001b[1;33m\u001b[0m\u001b[0m\n\u001b[0m\u001b[0;32m      5\u001b[0m     \u001b[0msimilar_movies\u001b[0m \u001b[1;33m=\u001b[0m \u001b[0mx\u001b[0m\u001b[1;33m.\u001b[0m\u001b[0mcorrwith\u001b[0m\u001b[1;33m(\u001b[0m\u001b[0mmovie\u001b[0m\u001b[1;33m)\u001b[0m\u001b[1;33m\u001b[0m\u001b[1;33m\u001b[0m\u001b[0m\n\u001b[0;32m      6\u001b[0m     \u001b[0msimilar_movies\u001b[0m \u001b[1;33m=\u001b[0m \u001b[0msimilar_movies\u001b[0m\u001b[1;33m.\u001b[0m\u001b[0msort_values\u001b[0m\u001b[1;33m(\u001b[0m\u001b[0mascending\u001b[0m\u001b[1;33m=\u001b[0m\u001b[1;32mFalse\u001b[0m\u001b[1;33m)\u001b[0m\u001b[1;33m\u001b[0m\u001b[1;33m\u001b[0m\u001b[0m\n",
      "\u001b[1;32mc:\\users\\guptatan\\appdata\\local\\programs\\python\\python36\\lib\\site-packages\\pandas\\core\\frame.py\u001b[0m in \u001b[0;36m__getitem__\u001b[1;34m(self, key)\u001b[0m\n\u001b[0;32m   2897\u001b[0m             \u001b[1;32mif\u001b[0m \u001b[0mself\u001b[0m\u001b[1;33m.\u001b[0m\u001b[0mcolumns\u001b[0m\u001b[1;33m.\u001b[0m\u001b[0mnlevels\u001b[0m \u001b[1;33m>\u001b[0m \u001b[1;36m1\u001b[0m\u001b[1;33m:\u001b[0m\u001b[1;33m\u001b[0m\u001b[1;33m\u001b[0m\u001b[0m\n\u001b[0;32m   2898\u001b[0m                 \u001b[1;32mreturn\u001b[0m \u001b[0mself\u001b[0m\u001b[1;33m.\u001b[0m\u001b[0m_getitem_multilevel\u001b[0m\u001b[1;33m(\u001b[0m\u001b[0mkey\u001b[0m\u001b[1;33m)\u001b[0m\u001b[1;33m\u001b[0m\u001b[1;33m\u001b[0m\u001b[0m\n\u001b[1;32m-> 2899\u001b[1;33m             \u001b[0mindexer\u001b[0m \u001b[1;33m=\u001b[0m \u001b[0mself\u001b[0m\u001b[1;33m.\u001b[0m\u001b[0mcolumns\u001b[0m\u001b[1;33m.\u001b[0m\u001b[0mget_loc\u001b[0m\u001b[1;33m(\u001b[0m\u001b[0mkey\u001b[0m\u001b[1;33m)\u001b[0m\u001b[1;33m\u001b[0m\u001b[1;33m\u001b[0m\u001b[0m\n\u001b[0m\u001b[0;32m   2900\u001b[0m             \u001b[1;32mif\u001b[0m \u001b[0mis_integer\u001b[0m\u001b[1;33m(\u001b[0m\u001b[0mindexer\u001b[0m\u001b[1;33m)\u001b[0m\u001b[1;33m:\u001b[0m\u001b[1;33m\u001b[0m\u001b[1;33m\u001b[0m\u001b[0m\n\u001b[0;32m   2901\u001b[0m                 \u001b[0mindexer\u001b[0m \u001b[1;33m=\u001b[0m \u001b[1;33m[\u001b[0m\u001b[0mindexer\u001b[0m\u001b[1;33m]\u001b[0m\u001b[1;33m\u001b[0m\u001b[1;33m\u001b[0m\u001b[0m\n",
      "\u001b[1;32mc:\\users\\guptatan\\appdata\\local\\programs\\python\\python36\\lib\\site-packages\\pandas\\core\\indexes\\base.py\u001b[0m in \u001b[0;36mget_loc\u001b[1;34m(self, key, method, tolerance)\u001b[0m\n\u001b[0;32m   2889\u001b[0m                 \u001b[1;32mreturn\u001b[0m \u001b[0mself\u001b[0m\u001b[1;33m.\u001b[0m\u001b[0m_engine\u001b[0m\u001b[1;33m.\u001b[0m\u001b[0mget_loc\u001b[0m\u001b[1;33m(\u001b[0m\u001b[0mcasted_key\u001b[0m\u001b[1;33m)\u001b[0m\u001b[1;33m\u001b[0m\u001b[1;33m\u001b[0m\u001b[0m\n\u001b[0;32m   2890\u001b[0m             \u001b[1;32mexcept\u001b[0m \u001b[0mKeyError\u001b[0m \u001b[1;32mas\u001b[0m \u001b[0merr\u001b[0m\u001b[1;33m:\u001b[0m\u001b[1;33m\u001b[0m\u001b[1;33m\u001b[0m\u001b[0m\n\u001b[1;32m-> 2891\u001b[1;33m                 \u001b[1;32mraise\u001b[0m \u001b[0mKeyError\u001b[0m\u001b[1;33m(\u001b[0m\u001b[0mkey\u001b[0m\u001b[1;33m)\u001b[0m \u001b[1;32mfrom\u001b[0m \u001b[0merr\u001b[0m\u001b[1;33m\u001b[0m\u001b[1;33m\u001b[0m\u001b[0m\n\u001b[0m\u001b[0;32m   2892\u001b[0m \u001b[1;33m\u001b[0m\u001b[0m\n\u001b[0;32m   2893\u001b[0m         \u001b[1;32mif\u001b[0m \u001b[0mtolerance\u001b[0m \u001b[1;32mis\u001b[0m \u001b[1;32mnot\u001b[0m \u001b[1;32mNone\u001b[0m\u001b[1;33m:\u001b[0m\u001b[1;33m\u001b[0m\u001b[1;33m\u001b[0m\u001b[0m\n",
      "\u001b[1;31mKeyError\u001b[0m: 'The Expendables\\xa0'"
     ]
    }
   ],
   "source": [
    "# lets test on some results\n",
    "recommendation_movie('The Expendables')"
   ]
  },
  {
   "cell_type": "code",
   "execution_count": null,
   "metadata": {},
   "outputs": [],
   "source": []
  }
 ],
 "metadata": {
  "kernelspec": {
   "display_name": "Python 3",
   "language": "python",
   "name": "python3"
  },
  "language_info": {
   "codemirror_mode": {
    "name": "ipython",
    "version": 3
   },
   "file_extension": ".py",
   "mimetype": "text/x-python",
   "name": "python",
   "nbconvert_exporter": "python",
   "pygments_lexer": "ipython3",
   "version": "3.6.7rc1"
  }
 },
 "nbformat": 4,
 "nbformat_minor": 4
}
